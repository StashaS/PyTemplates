{
 "cells": [
  {
   "cell_type": "code",
   "execution_count": 1,
   "metadata": {},
   "outputs": [
    {
     "name": "stdout",
     "output_type": "stream",
     "text": [
      "Using matplotlib backend: Qt5Agg\n"
     ]
    }
   ],
   "source": [
    "import numpy as np\n",
    "import pandas as pd\n",
    "import matplotlib.pyplot as plt\n",
    "plt.style.use('ggplot')\n",
    "%matplotlib"
   ]
  },
  {
   "cell_type": "code",
   "execution_count": 3,
   "metadata": {},
   "outputs": [
    {
     "data": {
      "text/html": [
       "<div>\n",
       "<style scoped>\n",
       "    .dataframe tbody tr th:only-of-type {\n",
       "        vertical-align: middle;\n",
       "    }\n",
       "\n",
       "    .dataframe tbody tr th {\n",
       "        vertical-align: top;\n",
       "    }\n",
       "\n",
       "    .dataframe thead th {\n",
       "        text-align: right;\n",
       "    }\n",
       "</style>\n",
       "<table border=\"1\" class=\"dataframe\">\n",
       "  <thead>\n",
       "    <tr style=\"text-align: right;\">\n",
       "      <th></th>\n",
       "      <th>0</th>\n",
       "      <th>1</th>\n",
       "      <th>2</th>\n",
       "      <th>3</th>\n",
       "      <th>4</th>\n",
       "      <th>5</th>\n",
       "      <th>6</th>\n",
       "      <th>7</th>\n",
       "      <th>8</th>\n",
       "      <th>9</th>\n",
       "      <th>10</th>\n",
       "      <th>11</th>\n",
       "      <th>12</th>\n",
       "      <th>13</th>\n",
       "      <th>14</th>\n",
       "    </tr>\n",
       "  </thead>\n",
       "  <tbody>\n",
       "    <tr>\n",
       "      <th>0</th>\n",
       "      <td>b</td>\n",
       "      <td>35.58</td>\n",
       "      <td>0.75</td>\n",
       "      <td>u</td>\n",
       "      <td>g</td>\n",
       "      <td>k</td>\n",
       "      <td>v</td>\n",
       "      <td>1.500</td>\n",
       "      <td>f</td>\n",
       "      <td>f</td>\n",
       "      <td>0</td>\n",
       "      <td>t</td>\n",
       "      <td>g</td>\n",
       "      <td>231.0</td>\n",
       "      <td>0</td>\n",
       "    </tr>\n",
       "    <tr>\n",
       "      <th>1</th>\n",
       "      <td>b</td>\n",
       "      <td>34.92</td>\n",
       "      <td>2.50</td>\n",
       "      <td>u</td>\n",
       "      <td>g</td>\n",
       "      <td>w</td>\n",
       "      <td>v</td>\n",
       "      <td>0.000</td>\n",
       "      <td>t</td>\n",
       "      <td>f</td>\n",
       "      <td>0</td>\n",
       "      <td>t</td>\n",
       "      <td>g</td>\n",
       "      <td>239.0</td>\n",
       "      <td>200</td>\n",
       "    </tr>\n",
       "    <tr>\n",
       "      <th>2</th>\n",
       "      <td>b</td>\n",
       "      <td>NaN</td>\n",
       "      <td>4.00</td>\n",
       "      <td>y</td>\n",
       "      <td>p</td>\n",
       "      <td>i</td>\n",
       "      <td>v</td>\n",
       "      <td>0.085</td>\n",
       "      <td>f</td>\n",
       "      <td>f</td>\n",
       "      <td>0</td>\n",
       "      <td>t</td>\n",
       "      <td>g</td>\n",
       "      <td>411.0</td>\n",
       "      <td>0</td>\n",
       "    </tr>\n",
       "    <tr>\n",
       "      <th>3</th>\n",
       "      <td>a</td>\n",
       "      <td>46.08</td>\n",
       "      <td>3.00</td>\n",
       "      <td>u</td>\n",
       "      <td>g</td>\n",
       "      <td>c</td>\n",
       "      <td>v</td>\n",
       "      <td>2.375</td>\n",
       "      <td>t</td>\n",
       "      <td>t</td>\n",
       "      <td>8</td>\n",
       "      <td>t</td>\n",
       "      <td>g</td>\n",
       "      <td>396.0</td>\n",
       "      <td>4159</td>\n",
       "    </tr>\n",
       "    <tr>\n",
       "      <th>4</th>\n",
       "      <td>a</td>\n",
       "      <td>23.58</td>\n",
       "      <td>0.83</td>\n",
       "      <td>u</td>\n",
       "      <td>g</td>\n",
       "      <td>q</td>\n",
       "      <td>v</td>\n",
       "      <td>0.415</td>\n",
       "      <td>f</td>\n",
       "      <td>t</td>\n",
       "      <td>1</td>\n",
       "      <td>t</td>\n",
       "      <td>g</td>\n",
       "      <td>200.0</td>\n",
       "      <td>11</td>\n",
       "    </tr>\n",
       "  </tbody>\n",
       "</table>\n",
       "</div>"
      ],
      "text/plain": [
       "  0      1     2  3  4  5  6      7  8  9   10 11 12     13    14\n",
       "0  b  35.58  0.75  u  g  k  v  1.500  f  f   0  t  g  231.0     0\n",
       "1  b  34.92  2.50  u  g  w  v  0.000  t  f   0  t  g  239.0   200\n",
       "2  b    NaN  4.00  y  p  i  v  0.085  f  f   0  t  g  411.0     0\n",
       "3  a  46.08  3.00  u  g  c  v  2.375  t  t   8  t  g  396.0  4159\n",
       "4  a  23.58  0.83  u  g  q  v  0.415  f  t   1  t  g  200.0    11"
      ]
     },
     "execution_count": 3,
     "metadata": {},
     "output_type": "execute_result"
    }
   ],
   "source": [
    "X_data = pd.read_csv('crx_data_train_x.csv', header=None, na_values='?')\n",
    "X_data.head()"
   ]
  },
  {
   "cell_type": "code",
   "execution_count": 4,
   "metadata": {},
   "outputs": [
    {
     "data": {
      "text/html": [
       "<div>\n",
       "<style scoped>\n",
       "    .dataframe tbody tr th:only-of-type {\n",
       "        vertical-align: middle;\n",
       "    }\n",
       "\n",
       "    .dataframe tbody tr th {\n",
       "        vertical-align: top;\n",
       "    }\n",
       "\n",
       "    .dataframe thead th {\n",
       "        text-align: right;\n",
       "    }\n",
       "</style>\n",
       "<table border=\"1\" class=\"dataframe\">\n",
       "  <thead>\n",
       "    <tr style=\"text-align: right;\">\n",
       "      <th></th>\n",
       "      <th>0</th>\n",
       "    </tr>\n",
       "  </thead>\n",
       "  <tbody>\n",
       "    <tr>\n",
       "      <th>0</th>\n",
       "      <td>0</td>\n",
       "    </tr>\n",
       "    <tr>\n",
       "      <th>1</th>\n",
       "      <td>1</td>\n",
       "    </tr>\n",
       "    <tr>\n",
       "      <th>2</th>\n",
       "      <td>0</td>\n",
       "    </tr>\n",
       "    <tr>\n",
       "      <th>3</th>\n",
       "      <td>1</td>\n",
       "    </tr>\n",
       "    <tr>\n",
       "      <th>4</th>\n",
       "      <td>0</td>\n",
       "    </tr>\n",
       "  </tbody>\n",
       "</table>\n",
       "</div>"
      ],
      "text/plain": [
       "   0\n",
       "0  0\n",
       "1  1\n",
       "2  0\n",
       "3  1\n",
       "4  0"
      ]
     },
     "execution_count": 4,
     "metadata": {},
     "output_type": "execute_result"
    }
   ],
   "source": [
    "y_data = pd.read_csv('crx_data_train_y.csv', header=None, na_values='?')\n",
    "y_data.head()"
   ]
  },
  {
   "cell_type": "code",
   "execution_count": 6,
   "metadata": {},
   "outputs": [
    {
     "data": {
      "text/plain": [
       "(483, 15)"
      ]
     },
     "execution_count": 6,
     "metadata": {},
     "output_type": "execute_result"
    }
   ],
   "source": [
    "X_data.shape"
   ]
  },
  {
   "cell_type": "code",
   "execution_count": 7,
   "metadata": {},
   "outputs": [
    {
     "data": {
      "text/plain": [
       "(483, 1)"
      ]
     },
     "execution_count": 7,
     "metadata": {},
     "output_type": "execute_result"
    }
   ],
   "source": [
    "y_data.shape"
   ]
  },
  {
   "cell_type": "code",
   "execution_count": 9,
   "metadata": {},
   "outputs": [
    {
     "data": {
      "text/html": [
       "<div>\n",
       "<style scoped>\n",
       "    .dataframe tbody tr th:only-of-type {\n",
       "        vertical-align: middle;\n",
       "    }\n",
       "\n",
       "    .dataframe tbody tr th {\n",
       "        vertical-align: top;\n",
       "    }\n",
       "\n",
       "    .dataframe thead th {\n",
       "        text-align: right;\n",
       "    }\n",
       "</style>\n",
       "<table border=\"1\" class=\"dataframe\">\n",
       "  <thead>\n",
       "    <tr style=\"text-align: right;\">\n",
       "      <th></th>\n",
       "      <th>A1</th>\n",
       "      <th>A2</th>\n",
       "      <th>A3</th>\n",
       "      <th>A4</th>\n",
       "      <th>A5</th>\n",
       "      <th>A6</th>\n",
       "      <th>A7</th>\n",
       "      <th>A8</th>\n",
       "      <th>A9</th>\n",
       "      <th>A10</th>\n",
       "      <th>A11</th>\n",
       "      <th>A12</th>\n",
       "      <th>A13</th>\n",
       "      <th>A14</th>\n",
       "      <th>A15</th>\n",
       "    </tr>\n",
       "  </thead>\n",
       "  <tbody>\n",
       "    <tr>\n",
       "      <th>0</th>\n",
       "      <td>b</td>\n",
       "      <td>35.58</td>\n",
       "      <td>0.75</td>\n",
       "      <td>u</td>\n",
       "      <td>g</td>\n",
       "      <td>k</td>\n",
       "      <td>v</td>\n",
       "      <td>1.500</td>\n",
       "      <td>f</td>\n",
       "      <td>f</td>\n",
       "      <td>0</td>\n",
       "      <td>t</td>\n",
       "      <td>g</td>\n",
       "      <td>231.0</td>\n",
       "      <td>0</td>\n",
       "    </tr>\n",
       "    <tr>\n",
       "      <th>1</th>\n",
       "      <td>b</td>\n",
       "      <td>34.92</td>\n",
       "      <td>2.50</td>\n",
       "      <td>u</td>\n",
       "      <td>g</td>\n",
       "      <td>w</td>\n",
       "      <td>v</td>\n",
       "      <td>0.000</td>\n",
       "      <td>t</td>\n",
       "      <td>f</td>\n",
       "      <td>0</td>\n",
       "      <td>t</td>\n",
       "      <td>g</td>\n",
       "      <td>239.0</td>\n",
       "      <td>200</td>\n",
       "    </tr>\n",
       "    <tr>\n",
       "      <th>2</th>\n",
       "      <td>b</td>\n",
       "      <td>NaN</td>\n",
       "      <td>4.00</td>\n",
       "      <td>y</td>\n",
       "      <td>p</td>\n",
       "      <td>i</td>\n",
       "      <td>v</td>\n",
       "      <td>0.085</td>\n",
       "      <td>f</td>\n",
       "      <td>f</td>\n",
       "      <td>0</td>\n",
       "      <td>t</td>\n",
       "      <td>g</td>\n",
       "      <td>411.0</td>\n",
       "      <td>0</td>\n",
       "    </tr>\n",
       "    <tr>\n",
       "      <th>3</th>\n",
       "      <td>a</td>\n",
       "      <td>46.08</td>\n",
       "      <td>3.00</td>\n",
       "      <td>u</td>\n",
       "      <td>g</td>\n",
       "      <td>c</td>\n",
       "      <td>v</td>\n",
       "      <td>2.375</td>\n",
       "      <td>t</td>\n",
       "      <td>t</td>\n",
       "      <td>8</td>\n",
       "      <td>t</td>\n",
       "      <td>g</td>\n",
       "      <td>396.0</td>\n",
       "      <td>4159</td>\n",
       "    </tr>\n",
       "    <tr>\n",
       "      <th>4</th>\n",
       "      <td>a</td>\n",
       "      <td>23.58</td>\n",
       "      <td>0.83</td>\n",
       "      <td>u</td>\n",
       "      <td>g</td>\n",
       "      <td>q</td>\n",
       "      <td>v</td>\n",
       "      <td>0.415</td>\n",
       "      <td>f</td>\n",
       "      <td>t</td>\n",
       "      <td>1</td>\n",
       "      <td>t</td>\n",
       "      <td>g</td>\n",
       "      <td>200.0</td>\n",
       "      <td>11</td>\n",
       "    </tr>\n",
       "  </tbody>\n",
       "</table>\n",
       "</div>"
      ],
      "text/plain": [
       "  A1     A2    A3 A4 A5 A6 A7     A8 A9 A10  A11 A12 A13    A14   A15\n",
       "0  b  35.58  0.75  u  g  k  v  1.500  f   f    0   t   g  231.0     0\n",
       "1  b  34.92  2.50  u  g  w  v  0.000  t   f    0   t   g  239.0   200\n",
       "2  b    NaN  4.00  y  p  i  v  0.085  f   f    0   t   g  411.0     0\n",
       "3  a  46.08  3.00  u  g  c  v  2.375  t   t    8   t   g  396.0  4159\n",
       "4  a  23.58  0.83  u  g  q  v  0.415  f   t    1   t   g  200.0    11"
      ]
     },
     "execution_count": 9,
     "metadata": {},
     "output_type": "execute_result"
    }
   ],
   "source": [
    "X_data.columns = ['A' + str(i) for i in range(1, 16)]\n",
    "X_data.head()"
   ]
  },
  {
   "cell_type": "code",
   "execution_count": 10,
   "metadata": {},
   "outputs": [
    {
     "data": {
      "text/html": [
       "<div>\n",
       "<style scoped>\n",
       "    .dataframe tbody tr th:only-of-type {\n",
       "        vertical-align: middle;\n",
       "    }\n",
       "\n",
       "    .dataframe tbody tr th {\n",
       "        vertical-align: top;\n",
       "    }\n",
       "\n",
       "    .dataframe thead th {\n",
       "        text-align: right;\n",
       "    }\n",
       "</style>\n",
       "<table border=\"1\" class=\"dataframe\">\n",
       "  <thead>\n",
       "    <tr style=\"text-align: right;\">\n",
       "      <th></th>\n",
       "      <th>class</th>\n",
       "    </tr>\n",
       "  </thead>\n",
       "  <tbody>\n",
       "    <tr>\n",
       "      <th>0</th>\n",
       "      <td>0</td>\n",
       "    </tr>\n",
       "    <tr>\n",
       "      <th>1</th>\n",
       "      <td>1</td>\n",
       "    </tr>\n",
       "    <tr>\n",
       "      <th>2</th>\n",
       "      <td>0</td>\n",
       "    </tr>\n",
       "    <tr>\n",
       "      <th>3</th>\n",
       "      <td>1</td>\n",
       "    </tr>\n",
       "    <tr>\n",
       "      <th>4</th>\n",
       "      <td>0</td>\n",
       "    </tr>\n",
       "  </tbody>\n",
       "</table>\n",
       "</div>"
      ],
      "text/plain": [
       "   class\n",
       "0      0\n",
       "1      1\n",
       "2      0\n",
       "3      1\n",
       "4      0"
      ]
     },
     "execution_count": 10,
     "metadata": {},
     "output_type": "execute_result"
    }
   ],
   "source": [
    "y_data.columns = ['class']\n",
    "y_data.head()"
   ]
  },
  {
   "cell_type": "code",
   "execution_count": 11,
   "metadata": {},
   "outputs": [
    {
     "data": {
      "text/html": [
       "<div>\n",
       "<style scoped>\n",
       "    .dataframe tbody tr th:only-of-type {\n",
       "        vertical-align: middle;\n",
       "    }\n",
       "\n",
       "    .dataframe tbody tr th {\n",
       "        vertical-align: top;\n",
       "    }\n",
       "\n",
       "    .dataframe thead th {\n",
       "        text-align: right;\n",
       "    }\n",
       "</style>\n",
       "<table border=\"1\" class=\"dataframe\">\n",
       "  <thead>\n",
       "    <tr style=\"text-align: right;\">\n",
       "      <th></th>\n",
       "      <th>A2</th>\n",
       "      <th>A3</th>\n",
       "      <th>A8</th>\n",
       "      <th>A11</th>\n",
       "      <th>A14</th>\n",
       "      <th>A15</th>\n",
       "    </tr>\n",
       "  </thead>\n",
       "  <tbody>\n",
       "    <tr>\n",
       "      <th>count</th>\n",
       "      <td>476.000000</td>\n",
       "      <td>483.000000</td>\n",
       "      <td>483.000000</td>\n",
       "      <td>483.000000</td>\n",
       "      <td>477.000000</td>\n",
       "      <td>483.000000</td>\n",
       "    </tr>\n",
       "    <tr>\n",
       "      <th>mean</th>\n",
       "      <td>31.555462</td>\n",
       "      <td>4.796056</td>\n",
       "      <td>2.171170</td>\n",
       "      <td>2.387164</td>\n",
       "      <td>184.981132</td>\n",
       "      <td>951.000000</td>\n",
       "    </tr>\n",
       "    <tr>\n",
       "      <th>std</th>\n",
       "      <td>12.057072</td>\n",
       "      <td>5.116264</td>\n",
       "      <td>3.352241</td>\n",
       "      <td>4.352373</td>\n",
       "      <td>165.520244</td>\n",
       "      <td>4089.710922</td>\n",
       "    </tr>\n",
       "    <tr>\n",
       "      <th>min</th>\n",
       "      <td>13.750000</td>\n",
       "      <td>0.000000</td>\n",
       "      <td>0.000000</td>\n",
       "      <td>0.000000</td>\n",
       "      <td>0.000000</td>\n",
       "      <td>0.000000</td>\n",
       "    </tr>\n",
       "    <tr>\n",
       "      <th>25%</th>\n",
       "      <td>22.647500</td>\n",
       "      <td>0.980000</td>\n",
       "      <td>0.165000</td>\n",
       "      <td>0.000000</td>\n",
       "      <td>80.000000</td>\n",
       "      <td>0.000000</td>\n",
       "    </tr>\n",
       "    <tr>\n",
       "      <th>50%</th>\n",
       "      <td>28.500000</td>\n",
       "      <td>2.750000</td>\n",
       "      <td>1.000000</td>\n",
       "      <td>0.000000</td>\n",
       "      <td>160.000000</td>\n",
       "      <td>6.000000</td>\n",
       "    </tr>\n",
       "    <tr>\n",
       "      <th>75%</th>\n",
       "      <td>38.250000</td>\n",
       "      <td>7.500000</td>\n",
       "      <td>2.500000</td>\n",
       "      <td>3.000000</td>\n",
       "      <td>280.000000</td>\n",
       "      <td>459.500000</td>\n",
       "    </tr>\n",
       "    <tr>\n",
       "      <th>max</th>\n",
       "      <td>80.250000</td>\n",
       "      <td>28.000000</td>\n",
       "      <td>28.500000</td>\n",
       "      <td>40.000000</td>\n",
       "      <td>1160.000000</td>\n",
       "      <td>51100.000000</td>\n",
       "    </tr>\n",
       "  </tbody>\n",
       "</table>\n",
       "</div>"
      ],
      "text/plain": [
       "               A2          A3          A8         A11          A14  \\\n",
       "count  476.000000  483.000000  483.000000  483.000000   477.000000   \n",
       "mean    31.555462    4.796056    2.171170    2.387164   184.981132   \n",
       "std     12.057072    5.116264    3.352241    4.352373   165.520244   \n",
       "min     13.750000    0.000000    0.000000    0.000000     0.000000   \n",
       "25%     22.647500    0.980000    0.165000    0.000000    80.000000   \n",
       "50%     28.500000    2.750000    1.000000    0.000000   160.000000   \n",
       "75%     38.250000    7.500000    2.500000    3.000000   280.000000   \n",
       "max     80.250000   28.000000   28.500000   40.000000  1160.000000   \n",
       "\n",
       "                A15  \n",
       "count    483.000000  \n",
       "mean     951.000000  \n",
       "std     4089.710922  \n",
       "min        0.000000  \n",
       "25%        0.000000  \n",
       "50%        6.000000  \n",
       "75%      459.500000  \n",
       "max    51100.000000  "
      ]
     },
     "execution_count": 11,
     "metadata": {},
     "output_type": "execute_result"
    }
   ],
   "source": [
    "X_data.describe()"
   ]
  },
  {
   "cell_type": "code",
   "execution_count": 13,
   "metadata": {},
   "outputs": [
    {
     "name": "stdout",
     "output_type": "stream",
     "text": [
      "['A1', 'A4', 'A5', 'A6', 'A7', 'A9', 'A10', 'A12', 'A13']\n",
      "['A2', 'A3', 'A8', 'A11', 'A14', 'A15']\n"
     ]
    }
   ],
   "source": [
    "categorical_columns = [c for c in X_data.columns if X_data[c].dtype.name == 'object']\n",
    "numerical_columns   = [c for c in X_data.columns if X_data[c].dtype.name != 'object']\n",
    "print categorical_columns\n",
    "print numerical_columns"
   ]
  },
  {
   "cell_type": "code",
   "execution_count": 14,
   "metadata": {},
   "outputs": [
    {
     "data": {
      "text/html": [
       "<div>\n",
       "<style scoped>\n",
       "    .dataframe tbody tr th:only-of-type {\n",
       "        vertical-align: middle;\n",
       "    }\n",
       "\n",
       "    .dataframe tbody tr th {\n",
       "        vertical-align: top;\n",
       "    }\n",
       "\n",
       "    .dataframe thead th {\n",
       "        text-align: right;\n",
       "    }\n",
       "</style>\n",
       "<table border=\"1\" class=\"dataframe\">\n",
       "  <thead>\n",
       "    <tr style=\"text-align: right;\">\n",
       "      <th></th>\n",
       "      <th>A1</th>\n",
       "      <th>A4</th>\n",
       "      <th>A5</th>\n",
       "      <th>A6</th>\n",
       "      <th>A7</th>\n",
       "      <th>A9</th>\n",
       "      <th>A10</th>\n",
       "      <th>A12</th>\n",
       "      <th>A13</th>\n",
       "    </tr>\n",
       "  </thead>\n",
       "  <tbody>\n",
       "    <tr>\n",
       "      <th>count</th>\n",
       "      <td>476</td>\n",
       "      <td>479</td>\n",
       "      <td>479</td>\n",
       "      <td>477</td>\n",
       "      <td>477</td>\n",
       "      <td>483</td>\n",
       "      <td>483</td>\n",
       "      <td>483</td>\n",
       "      <td>483</td>\n",
       "    </tr>\n",
       "    <tr>\n",
       "      <th>unique</th>\n",
       "      <td>2</td>\n",
       "      <td>3</td>\n",
       "      <td>3</td>\n",
       "      <td>14</td>\n",
       "      <td>8</td>\n",
       "      <td>2</td>\n",
       "      <td>2</td>\n",
       "      <td>2</td>\n",
       "      <td>3</td>\n",
       "    </tr>\n",
       "    <tr>\n",
       "      <th>top</th>\n",
       "      <td>b</td>\n",
       "      <td>u</td>\n",
       "      <td>g</td>\n",
       "      <td>c</td>\n",
       "      <td>v</td>\n",
       "      <td>t</td>\n",
       "      <td>f</td>\n",
       "      <td>f</td>\n",
       "      <td>g</td>\n",
       "    </tr>\n",
       "    <tr>\n",
       "      <th>freq</th>\n",
       "      <td>329</td>\n",
       "      <td>364</td>\n",
       "      <td>364</td>\n",
       "      <td>91</td>\n",
       "      <td>279</td>\n",
       "      <td>261</td>\n",
       "      <td>270</td>\n",
       "      <td>253</td>\n",
       "      <td>439</td>\n",
       "    </tr>\n",
       "  </tbody>\n",
       "</table>\n",
       "</div>"
      ],
      "text/plain": [
       "         A1   A4   A5   A6   A7   A9  A10  A12  A13\n",
       "count   476  479  479  477  477  483  483  483  483\n",
       "unique    2    3    3   14    8    2    2    2    3\n",
       "top       b    u    g    c    v    t    f    f    g\n",
       "freq    329  364  364   91  279  261  270  253  439"
      ]
     },
     "execution_count": 14,
     "metadata": {},
     "output_type": "execute_result"
    }
   ],
   "source": [
    "X_data[categorical_columns].describe()"
   ]
  },
  {
   "cell_type": "code",
   "execution_count": 15,
   "metadata": {},
   "outputs": [
    {
     "name": "stdout",
     "output_type": "stream",
     "text": [
      "['b' 'a' nan]\n",
      "['u' 'y' nan 'l']\n",
      "['g' 'p' nan 'gg']\n",
      "['k' 'w' 'i' 'c' 'q' 'm' 'd' 'cc' nan 'aa' 'x' 'e' 'ff' 'j' 'r']\n",
      "['v' 'h' nan 'bb' 'ff' 'z' 'j' 'dd' 'n']\n",
      "['f' 't']\n",
      "['f' 't']\n",
      "['t' 'f']\n",
      "['g' 's' 'p']\n"
     ]
    }
   ],
   "source": [
    "for c in categorical_columns:\n",
    "    print X_data[c].unique()"
   ]
  },
  {
   "cell_type": "code",
   "execution_count": 16,
   "metadata": {},
   "outputs": [
    {
     "name": "stderr",
     "output_type": "stream",
     "text": [
      "C:\\ProgramData\\Anaconda2\\lib\\site-packages\\ipykernel_launcher.py:2: FutureWarning: 'pandas.tools.plotting.scatter_matrix' is deprecated, import 'pandas.plotting.scatter_matrix' instead.\n",
      "  \n"
     ]
    },
    {
     "data": {
      "image/png": "[encoded data removed]",
      "text/plain": [
       "<Figure size 720x720 with 36 Axes>"
      ]
     },
     "metadata": {
      "needs_background": "light"
     },
     "output_type": "display_data"
    }
   ],
   "source": [
    "from pandas.tools.plotting import scatter_matrix\n",
    "scatter_matrix(X_data, alpha=0.05, figsize=(10, 10));"
   ]
  },
  {
   "cell_type": "code",
   "execution_count": 17,
   "metadata": {},
   "outputs": [
    {
     "data": {
      "text/html": [
       "<div>\n",
       "<style scoped>\n",
       "    .dataframe tbody tr th:only-of-type {\n",
       "        vertical-align: middle;\n",
       "    }\n",
       "\n",
       "    .dataframe tbody tr th {\n",
       "        vertical-align: top;\n",
       "    }\n",
       "\n",
       "    .dataframe thead th {\n",
       "        text-align: right;\n",
       "    }\n",
       "</style>\n",
       "<table border=\"1\" class=\"dataframe\">\n",
       "  <thead>\n",
       "    <tr style=\"text-align: right;\">\n",
       "      <th></th>\n",
       "      <th>A2</th>\n",
       "      <th>A3</th>\n",
       "      <th>A8</th>\n",
       "      <th>A11</th>\n",
       "      <th>A14</th>\n",
       "      <th>A15</th>\n",
       "    </tr>\n",
       "  </thead>\n",
       "  <tbody>\n",
       "    <tr>\n",
       "      <th>A2</th>\n",
       "      <td>1.000000</td>\n",
       "      <td>0.207524</td>\n",
       "      <td>0.363002</td>\n",
       "      <td>0.224627</td>\n",
       "      <td>-0.068912</td>\n",
       "      <td>0.068631</td>\n",
       "    </tr>\n",
       "    <tr>\n",
       "      <th>A3</th>\n",
       "      <td>0.207524</td>\n",
       "      <td>1.000000</td>\n",
       "      <td>0.346883</td>\n",
       "      <td>0.290460</td>\n",
       "      <td>-0.254471</td>\n",
       "      <td>0.024471</td>\n",
       "    </tr>\n",
       "    <tr>\n",
       "      <th>A8</th>\n",
       "      <td>0.363002</td>\n",
       "      <td>0.346883</td>\n",
       "      <td>1.000000</td>\n",
       "      <td>0.391390</td>\n",
       "      <td>-0.079320</td>\n",
       "      <td>0.096005</td>\n",
       "    </tr>\n",
       "    <tr>\n",
       "      <th>A11</th>\n",
       "      <td>0.224627</td>\n",
       "      <td>0.290460</td>\n",
       "      <td>0.391390</td>\n",
       "      <td>1.000000</td>\n",
       "      <td>-0.162471</td>\n",
       "      <td>0.088158</td>\n",
       "    </tr>\n",
       "    <tr>\n",
       "      <th>A14</th>\n",
       "      <td>-0.068912</td>\n",
       "      <td>-0.254471</td>\n",
       "      <td>-0.079320</td>\n",
       "      <td>-0.162471</td>\n",
       "      <td>1.000000</td>\n",
       "      <td>0.084787</td>\n",
       "    </tr>\n",
       "    <tr>\n",
       "      <th>A15</th>\n",
       "      <td>0.068631</td>\n",
       "      <td>0.024471</td>\n",
       "      <td>0.096005</td>\n",
       "      <td>0.088158</td>\n",
       "      <td>0.084787</td>\n",
       "      <td>1.000000</td>\n",
       "    </tr>\n",
       "  </tbody>\n",
       "</table>\n",
       "</div>"
      ],
      "text/plain": [
       "           A2        A3        A8       A11       A14       A15\n",
       "A2   1.000000  0.207524  0.363002  0.224627 -0.068912  0.068631\n",
       "A3   0.207524  1.000000  0.346883  0.290460 -0.254471  0.024471\n",
       "A8   0.363002  0.346883  1.000000  0.391390 -0.079320  0.096005\n",
       "A11  0.224627  0.290460  0.391390  1.000000 -0.162471  0.088158\n",
       "A14 -0.068912 -0.254471 -0.079320 -0.162471  1.000000  0.084787\n",
       "A15  0.068631  0.024471  0.096005  0.088158  0.084787  1.000000"
      ]
     },
     "execution_count": 17,
     "metadata": {},
     "output_type": "execute_result"
    }
   ],
   "source": [
    "X_data.corr()"
   ]
  },
  {
   "cell_type": "code",
   "execution_count": 19,
   "metadata": {},
   "outputs": [
    {
     "data": {
      "text/html": [
       "<div>\n",
       "<style scoped>\n",
       "    .dataframe tbody tr th:only-of-type {\n",
       "        vertical-align: middle;\n",
       "    }\n",
       "\n",
       "    .dataframe tbody tr th {\n",
       "        vertical-align: top;\n",
       "    }\n",
       "\n",
       "    .dataframe thead th {\n",
       "        text-align: right;\n",
       "    }\n",
       "</style>\n",
       "<table border=\"1\" class=\"dataframe\">\n",
       "  <thead>\n",
       "    <tr style=\"text-align: right;\">\n",
       "      <th></th>\n",
       "      <th>A2</th>\n",
       "      <th>A3</th>\n",
       "      <th>A8</th>\n",
       "      <th>A11</th>\n",
       "      <th>A14</th>\n",
       "      <th>A15</th>\n",
       "      <th>class</th>\n",
       "    </tr>\n",
       "  </thead>\n",
       "  <tbody>\n",
       "    <tr>\n",
       "      <th>A2</th>\n",
       "      <td>1.000000</td>\n",
       "      <td>0.207524</td>\n",
       "      <td>0.363002</td>\n",
       "      <td>0.224627</td>\n",
       "      <td>-0.068912</td>\n",
       "      <td>0.068631</td>\n",
       "      <td>0.152538</td>\n",
       "    </tr>\n",
       "    <tr>\n",
       "      <th>A3</th>\n",
       "      <td>0.207524</td>\n",
       "      <td>1.000000</td>\n",
       "      <td>0.346883</td>\n",
       "      <td>0.290460</td>\n",
       "      <td>-0.254471</td>\n",
       "      <td>0.024471</td>\n",
       "      <td>0.180746</td>\n",
       "    </tr>\n",
       "    <tr>\n",
       "      <th>A8</th>\n",
       "      <td>0.363002</td>\n",
       "      <td>0.346883</td>\n",
       "      <td>1.000000</td>\n",
       "      <td>0.391390</td>\n",
       "      <td>-0.079320</td>\n",
       "      <td>0.096005</td>\n",
       "      <td>0.322850</td>\n",
       "    </tr>\n",
       "    <tr>\n",
       "      <th>A11</th>\n",
       "      <td>0.224627</td>\n",
       "      <td>0.290460</td>\n",
       "      <td>0.391390</td>\n",
       "      <td>1.000000</td>\n",
       "      <td>-0.162471</td>\n",
       "      <td>0.088158</td>\n",
       "      <td>0.418553</td>\n",
       "    </tr>\n",
       "    <tr>\n",
       "      <th>A14</th>\n",
       "      <td>-0.068912</td>\n",
       "      <td>-0.254471</td>\n",
       "      <td>-0.079320</td>\n",
       "      <td>-0.162471</td>\n",
       "      <td>1.000000</td>\n",
       "      <td>0.084787</td>\n",
       "      <td>-0.129575</td>\n",
       "    </tr>\n",
       "    <tr>\n",
       "      <th>A15</th>\n",
       "      <td>0.068631</td>\n",
       "      <td>0.024471</td>\n",
       "      <td>0.096005</td>\n",
       "      <td>0.088158</td>\n",
       "      <td>0.084787</td>\n",
       "      <td>1.000000</td>\n",
       "      <td>0.199872</td>\n",
       "    </tr>\n",
       "    <tr>\n",
       "      <th>class</th>\n",
       "      <td>0.152538</td>\n",
       "      <td>0.180746</td>\n",
       "      <td>0.322850</td>\n",
       "      <td>0.418553</td>\n",
       "      <td>-0.129575</td>\n",
       "      <td>0.199872</td>\n",
       "      <td>1.000000</td>\n",
       "    </tr>\n",
       "  </tbody>\n",
       "</table>\n",
       "</div>"
      ],
      "text/plain": [
       "             A2        A3        A8       A11       A14       A15     class\n",
       "A2     1.000000  0.207524  0.363002  0.224627 -0.068912  0.068631  0.152538\n",
       "A3     0.207524  1.000000  0.346883  0.290460 -0.254471  0.024471  0.180746\n",
       "A8     0.363002  0.346883  1.000000  0.391390 -0.079320  0.096005  0.322850\n",
       "A11    0.224627  0.290460  0.391390  1.000000 -0.162471  0.088158  0.418553\n",
       "A14   -0.068912 -0.254471 -0.079320 -0.162471  1.000000  0.084787 -0.129575\n",
       "A15    0.068631  0.024471  0.096005  0.088158  0.084787  1.000000  0.199872\n",
       "class  0.152538  0.180746  0.322850  0.418553 -0.129575  0.199872  1.000000"
      ]
     },
     "execution_count": 19,
     "metadata": {},
     "output_type": "execute_result"
    }
   ],
   "source": [
    "data = pd.concat((X_data, y_data), axis=1)\n",
    "data.corr()"
   ]
  },
  {
   "cell_type": "code",
   "execution_count": 24,
   "metadata": {},
   "outputs": [
    {
     "data": {
      "text/html": [
       "<div>\n",
       "<style scoped>\n",
       "    .dataframe tbody tr th:only-of-type {\n",
       "        vertical-align: middle;\n",
       "    }\n",
       "\n",
       "    .dataframe tbody tr th {\n",
       "        vertical-align: top;\n",
       "    }\n",
       "\n",
       "    .dataframe thead th {\n",
       "        text-align: right;\n",
       "    }\n",
       "</style>\n",
       "<table border=\"1\" class=\"dataframe\">\n",
       "  <thead>\n",
       "    <tr style=\"text-align: right;\">\n",
       "      <th></th>\n",
       "      <th>A1</th>\n",
       "      <th>A2</th>\n",
       "      <th>A3</th>\n",
       "      <th>A4</th>\n",
       "      <th>A5</th>\n",
       "      <th>A6</th>\n",
       "      <th>A7</th>\n",
       "      <th>A8</th>\n",
       "      <th>A9</th>\n",
       "      <th>A10</th>\n",
       "      <th>A11</th>\n",
       "      <th>A12</th>\n",
       "      <th>A13</th>\n",
       "      <th>A14</th>\n",
       "      <th>A15</th>\n",
       "      <th>class</th>\n",
       "    </tr>\n",
       "  </thead>\n",
       "  <tbody>\n",
       "    <tr>\n",
       "      <th>0</th>\n",
       "      <td>b</td>\n",
       "      <td>35.58</td>\n",
       "      <td>0.75</td>\n",
       "      <td>u</td>\n",
       "      <td>g</td>\n",
       "      <td>k</td>\n",
       "      <td>v</td>\n",
       "      <td>1.500</td>\n",
       "      <td>f</td>\n",
       "      <td>f</td>\n",
       "      <td>0</td>\n",
       "      <td>t</td>\n",
       "      <td>g</td>\n",
       "      <td>231.0</td>\n",
       "      <td>0</td>\n",
       "      <td>0</td>\n",
       "    </tr>\n",
       "    <tr>\n",
       "      <th>1</th>\n",
       "      <td>b</td>\n",
       "      <td>34.92</td>\n",
       "      <td>2.50</td>\n",
       "      <td>u</td>\n",
       "      <td>g</td>\n",
       "      <td>w</td>\n",
       "      <td>v</td>\n",
       "      <td>0.000</td>\n",
       "      <td>t</td>\n",
       "      <td>f</td>\n",
       "      <td>0</td>\n",
       "      <td>t</td>\n",
       "      <td>g</td>\n",
       "      <td>239.0</td>\n",
       "      <td>200</td>\n",
       "      <td>1</td>\n",
       "    </tr>\n",
       "    <tr>\n",
       "      <th>2</th>\n",
       "      <td>b</td>\n",
       "      <td>NaN</td>\n",
       "      <td>4.00</td>\n",
       "      <td>y</td>\n",
       "      <td>p</td>\n",
       "      <td>i</td>\n",
       "      <td>v</td>\n",
       "      <td>0.085</td>\n",
       "      <td>f</td>\n",
       "      <td>f</td>\n",
       "      <td>0</td>\n",
       "      <td>t</td>\n",
       "      <td>g</td>\n",
       "      <td>411.0</td>\n",
       "      <td>0</td>\n",
       "      <td>0</td>\n",
       "    </tr>\n",
       "    <tr>\n",
       "      <th>3</th>\n",
       "      <td>a</td>\n",
       "      <td>46.08</td>\n",
       "      <td>3.00</td>\n",
       "      <td>u</td>\n",
       "      <td>g</td>\n",
       "      <td>c</td>\n",
       "      <td>v</td>\n",
       "      <td>2.375</td>\n",
       "      <td>t</td>\n",
       "      <td>t</td>\n",
       "      <td>8</td>\n",
       "      <td>t</td>\n",
       "      <td>g</td>\n",
       "      <td>396.0</td>\n",
       "      <td>4159</td>\n",
       "      <td>1</td>\n",
       "    </tr>\n",
       "    <tr>\n",
       "      <th>4</th>\n",
       "      <td>a</td>\n",
       "      <td>23.58</td>\n",
       "      <td>0.83</td>\n",
       "      <td>u</td>\n",
       "      <td>g</td>\n",
       "      <td>q</td>\n",
       "      <td>v</td>\n",
       "      <td>0.415</td>\n",
       "      <td>f</td>\n",
       "      <td>t</td>\n",
       "      <td>1</td>\n",
       "      <td>t</td>\n",
       "      <td>g</td>\n",
       "      <td>200.0</td>\n",
       "      <td>11</td>\n",
       "      <td>0</td>\n",
       "    </tr>\n",
       "  </tbody>\n",
       "</table>\n",
       "</div>"
      ],
      "text/plain": [
       "  A1     A2    A3 A4 A5 A6 A7     A8 A9 A10  A11 A12 A13    A14   A15  class\n",
       "0  b  35.58  0.75  u  g  k  v  1.500  f   f    0   t   g  231.0     0      0\n",
       "1  b  34.92  2.50  u  g  w  v  0.000  t   f    0   t   g  239.0   200      1\n",
       "2  b    NaN  4.00  y  p  i  v  0.085  f   f    0   t   g  411.0     0      0\n",
       "3  a  46.08  3.00  u  g  c  v  2.375  t   t    8   t   g  396.0  4159      1\n",
       "4  a  23.58  0.83  u  g  q  v  0.415  f   t    1   t   g  200.0    11      0"
      ]
     },
     "execution_count": 24,
     "metadata": {},
     "output_type": "execute_result"
    }
   ],
   "source": [
    "data.head()"
   ]
  },
  {
   "cell_type": "code",
   "execution_count": 35,
   "metadata": {},
   "outputs": [
    {
     "name": "stdout",
     "output_type": "stream",
     "text": [
      "<type 'numpy.int64'>\n",
      "<type 'numpy.float64'>\n"
     ]
    }
   ],
   "source": [
    "print type(data['class'][4])\n",
    "data['class'] = pd.DataFrame(data['class'], dtype=float)\n",
    "print type(data['class'][4])"
   ]
  },
  {
   "cell_type": "code",
   "execution_count": 39,
   "metadata": {},
   "outputs": [
    {
     "data": {
      "image/png": "[encoded data removed]",
      "text/plain": [
       "<Figure size 720x432 with 1 Axes>"
      ]
     },
     "metadata": {
      "needs_background": "light"
     },
     "output_type": "display_data"
    }
   ],
   "source": [
    "col1 = 'A2'\n",
    "col2 = 'A11'\n",
    "\n",
    "plt.figure(figsize=(10, 6))\n",
    "\n",
    "plt.scatter(data[col1][data['class'] == '+'],\n",
    "            data[col2][data['class'] == '+'],\n",
    "            alpha=0.75,\n",
    "            color='red',\n",
    "            label='+')\n",
    "\n",
    "plt.scatter(data[col1][data['class'] == '-'],\n",
    "            data[col2][data['class'] == '-'],\n",
    "            alpha=0.75,\n",
    "            color='blue',\n",
    "            label='-')\n",
    "\n",
    "plt.xlabel(col1)\n",
    "plt.ylabel(col2)\n",
    "plt.legend(loc='best');"
   ]
  },
  {
   "cell_type": "code",
   "execution_count": 41,
   "metadata": {},
   "outputs": [
    {
     "data": {
      "text/plain": [
       "A1       476\n",
       "A2       476\n",
       "A3       483\n",
       "A4       479\n",
       "A5       479\n",
       "A6       477\n",
       "A7       477\n",
       "A8       483\n",
       "A9       483\n",
       "A10      483\n",
       "A11      483\n",
       "A12      483\n",
       "A13      483\n",
       "A14      477\n",
       "A15      483\n",
       "class    483\n",
       "dtype: int64"
      ]
     },
     "execution_count": 41,
     "metadata": {},
     "output_type": "execute_result"
    }
   ],
   "source": [
    "data.count(axis=0)"
   ]
  },
  {
   "cell_type": "code",
   "execution_count": 43,
   "metadata": {},
   "outputs": [
    {
     "data": {
      "text/plain": [
       "A1       476\n",
       "A2       483\n",
       "A3       483\n",
       "A4       479\n",
       "A5       479\n",
       "A6       477\n",
       "A7       477\n",
       "A8       483\n",
       "A9       483\n",
       "A10      483\n",
       "A11      483\n",
       "A12      483\n",
       "A13      483\n",
       "A14      483\n",
       "A15      483\n",
       "class    483\n",
       "dtype: int64"
      ]
     },
     "execution_count": 43,
     "metadata": {},
     "output_type": "execute_result"
    }
   ],
   "source": [
    "data = data.fillna(data.median(axis=0), axis=0)\n",
    "data.count(axis=0)"
   ]
  },
  {
   "cell_type": "code",
   "execution_count": 44,
   "metadata": {},
   "outputs": [
    {
     "data": {
      "text/plain": [
       "count     476\n",
       "unique      2\n",
       "top         b\n",
       "freq      329\n",
       "Name: A1, dtype: object"
      ]
     },
     "execution_count": 44,
     "metadata": {},
     "output_type": "execute_result"
    }
   ],
   "source": [
    "data['A1'].describe()"
   ]
  },
  {
   "cell_type": "code",
   "execution_count": 45,
   "metadata": {},
   "outputs": [],
   "source": [
    "data['A1'] = data['A1'].fillna('b')"
   ]
  },
  {
   "cell_type": "code",
   "execution_count": 46,
   "metadata": {},
   "outputs": [
    {
     "data": {
      "text/plain": [
       "count     483\n",
       "unique      2\n",
       "top         b\n",
       "freq      336\n",
       "Name: A1, dtype: object"
      ]
     },
     "execution_count": 46,
     "metadata": {},
     "output_type": "execute_result"
    }
   ],
   "source": [
    "data['A1'].describe()"
   ]
  },
  {
   "cell_type": "code",
   "execution_count": 47,
   "metadata": {},
   "outputs": [],
   "source": [
    "data_describe = data.describe(include=[object])\n",
    "for c in categorical_columns:\n",
    "    data[c] = data[c].fillna(data_describe[c]['top'])"
   ]
  },
  {
   "cell_type": "code",
   "execution_count": 48,
   "metadata": {},
   "outputs": [
    {
     "data": {
      "text/plain": [
       "A1       483\n",
       "A2       483\n",
       "A3       483\n",
       "A4       483\n",
       "A5       483\n",
       "A6       483\n",
       "A7       483\n",
       "A8       483\n",
       "A9       483\n",
       "A10      483\n",
       "A11      483\n",
       "A12      483\n",
       "A13      483\n",
       "A14      483\n",
       "A15      483\n",
       "class    483\n",
       "dtype: int64"
      ]
     },
     "execution_count": 48,
     "metadata": {},
     "output_type": "execute_result"
    }
   ],
   "source": [
    "data.count(axis=0)"
   ]
  },
  {
   "cell_type": "code",
   "execution_count": 49,
   "metadata": {},
   "outputs": [
    {
     "data": {
      "text/html": [
       "<div>\n",
       "<style scoped>\n",
       "    .dataframe tbody tr th:only-of-type {\n",
       "        vertical-align: middle;\n",
       "    }\n",
       "\n",
       "    .dataframe tbody tr th {\n",
       "        vertical-align: top;\n",
       "    }\n",
       "\n",
       "    .dataframe thead th {\n",
       "        text-align: right;\n",
       "    }\n",
       "</style>\n",
       "<table border=\"1\" class=\"dataframe\">\n",
       "  <thead>\n",
       "    <tr style=\"text-align: right;\">\n",
       "      <th></th>\n",
       "      <th>A1</th>\n",
       "      <th>A4</th>\n",
       "      <th>A5</th>\n",
       "      <th>A6</th>\n",
       "      <th>A7</th>\n",
       "      <th>A9</th>\n",
       "      <th>A10</th>\n",
       "      <th>A12</th>\n",
       "      <th>A13</th>\n",
       "    </tr>\n",
       "  </thead>\n",
       "  <tbody>\n",
       "    <tr>\n",
       "      <th>count</th>\n",
       "      <td>483</td>\n",
       "      <td>483</td>\n",
       "      <td>483</td>\n",
       "      <td>483</td>\n",
       "      <td>483</td>\n",
       "      <td>483</td>\n",
       "      <td>483</td>\n",
       "      <td>483</td>\n",
       "      <td>483</td>\n",
       "    </tr>\n",
       "    <tr>\n",
       "      <th>unique</th>\n",
       "      <td>2</td>\n",
       "      <td>3</td>\n",
       "      <td>3</td>\n",
       "      <td>14</td>\n",
       "      <td>8</td>\n",
       "      <td>2</td>\n",
       "      <td>2</td>\n",
       "      <td>2</td>\n",
       "      <td>3</td>\n",
       "    </tr>\n",
       "    <tr>\n",
       "      <th>top</th>\n",
       "      <td>b</td>\n",
       "      <td>u</td>\n",
       "      <td>g</td>\n",
       "      <td>c</td>\n",
       "      <td>v</td>\n",
       "      <td>t</td>\n",
       "      <td>f</td>\n",
       "      <td>f</td>\n",
       "      <td>g</td>\n",
       "    </tr>\n",
       "    <tr>\n",
       "      <th>freq</th>\n",
       "      <td>336</td>\n",
       "      <td>368</td>\n",
       "      <td>368</td>\n",
       "      <td>97</td>\n",
       "      <td>285</td>\n",
       "      <td>261</td>\n",
       "      <td>270</td>\n",
       "      <td>253</td>\n",
       "      <td>439</td>\n",
       "    </tr>\n",
       "  </tbody>\n",
       "</table>\n",
       "</div>"
      ],
      "text/plain": [
       "         A1   A4   A5   A6   A7   A9  A10  A12  A13\n",
       "count   483  483  483  483  483  483  483  483  483\n",
       "unique    2    3    3   14    8    2    2    2    3\n",
       "top       b    u    g    c    v    t    f    f    g\n",
       "freq    336  368  368   97  285  261  270  253  439"
      ]
     },
     "execution_count": 49,
     "metadata": {},
     "output_type": "execute_result"
    }
   ],
   "source": [
    "data.describe(include=[object])"
   ]
  },
  {
   "cell_type": "code",
   "execution_count": 50,
   "metadata": {},
   "outputs": [
    {
     "data": {
      "text/html": [
       "<div>\n",
       "<style scoped>\n",
       "    .dataframe tbody tr th:only-of-type {\n",
       "        vertical-align: middle;\n",
       "    }\n",
       "\n",
       "    .dataframe tbody tr th {\n",
       "        vertical-align: top;\n",
       "    }\n",
       "\n",
       "    .dataframe thead th {\n",
       "        text-align: right;\n",
       "    }\n",
       "</style>\n",
       "<table border=\"1\" class=\"dataframe\">\n",
       "  <thead>\n",
       "    <tr style=\"text-align: right;\">\n",
       "      <th></th>\n",
       "      <th>A2</th>\n",
       "      <th>A3</th>\n",
       "      <th>A8</th>\n",
       "      <th>A11</th>\n",
       "      <th>A14</th>\n",
       "      <th>A15</th>\n",
       "      <th>class</th>\n",
       "    </tr>\n",
       "  </thead>\n",
       "  <tbody>\n",
       "    <tr>\n",
       "      <th>count</th>\n",
       "      <td>483.000000</td>\n",
       "      <td>483.000000</td>\n",
       "      <td>483.000000</td>\n",
       "      <td>483.000000</td>\n",
       "      <td>483.000000</td>\n",
       "      <td>483.000000</td>\n",
       "      <td>483.000000</td>\n",
       "    </tr>\n",
       "    <tr>\n",
       "      <th>mean</th>\n",
       "      <td>31.511180</td>\n",
       "      <td>4.796056</td>\n",
       "      <td>2.171170</td>\n",
       "      <td>2.387164</td>\n",
       "      <td>184.670807</td>\n",
       "      <td>951.000000</td>\n",
       "      <td>0.459627</td>\n",
       "    </tr>\n",
       "    <tr>\n",
       "      <th>std</th>\n",
       "      <td>11.974781</td>\n",
       "      <td>5.116264</td>\n",
       "      <td>3.352241</td>\n",
       "      <td>4.352373</td>\n",
       "      <td>164.510128</td>\n",
       "      <td>4089.710922</td>\n",
       "      <td>0.498884</td>\n",
       "    </tr>\n",
       "    <tr>\n",
       "      <th>min</th>\n",
       "      <td>13.750000</td>\n",
       "      <td>0.000000</td>\n",
       "      <td>0.000000</td>\n",
       "      <td>0.000000</td>\n",
       "      <td>0.000000</td>\n",
       "      <td>0.000000</td>\n",
       "      <td>0.000000</td>\n",
       "    </tr>\n",
       "    <tr>\n",
       "      <th>25%</th>\n",
       "      <td>22.670000</td>\n",
       "      <td>0.980000</td>\n",
       "      <td>0.165000</td>\n",
       "      <td>0.000000</td>\n",
       "      <td>80.000000</td>\n",
       "      <td>0.000000</td>\n",
       "      <td>0.000000</td>\n",
       "    </tr>\n",
       "    <tr>\n",
       "      <th>50%</th>\n",
       "      <td>28.500000</td>\n",
       "      <td>2.750000</td>\n",
       "      <td>1.000000</td>\n",
       "      <td>0.000000</td>\n",
       "      <td>160.000000</td>\n",
       "      <td>6.000000</td>\n",
       "      <td>0.000000</td>\n",
       "    </tr>\n",
       "    <tr>\n",
       "      <th>75%</th>\n",
       "      <td>37.750000</td>\n",
       "      <td>7.500000</td>\n",
       "      <td>2.500000</td>\n",
       "      <td>3.000000</td>\n",
       "      <td>278.000000</td>\n",
       "      <td>459.500000</td>\n",
       "      <td>1.000000</td>\n",
       "    </tr>\n",
       "    <tr>\n",
       "      <th>max</th>\n",
       "      <td>80.250000</td>\n",
       "      <td>28.000000</td>\n",
       "      <td>28.500000</td>\n",
       "      <td>40.000000</td>\n",
       "      <td>1160.000000</td>\n",
       "      <td>51100.000000</td>\n",
       "      <td>1.000000</td>\n",
       "    </tr>\n",
       "  </tbody>\n",
       "</table>\n",
       "</div>"
      ],
      "text/plain": [
       "               A2          A3          A8         A11          A14  \\\n",
       "count  483.000000  483.000000  483.000000  483.000000   483.000000   \n",
       "mean    31.511180    4.796056    2.171170    2.387164   184.670807   \n",
       "std     11.974781    5.116264    3.352241    4.352373   164.510128   \n",
       "min     13.750000    0.000000    0.000000    0.000000     0.000000   \n",
       "25%     22.670000    0.980000    0.165000    0.000000    80.000000   \n",
       "50%     28.500000    2.750000    1.000000    0.000000   160.000000   \n",
       "75%     37.750000    7.500000    2.500000    3.000000   278.000000   \n",
       "max     80.250000   28.000000   28.500000   40.000000  1160.000000   \n",
       "\n",
       "                A15       class  \n",
       "count    483.000000  483.000000  \n",
       "mean     951.000000    0.459627  \n",
       "std     4089.710922    0.498884  \n",
       "min        0.000000    0.000000  \n",
       "25%        0.000000    0.000000  \n",
       "50%        6.000000    0.000000  \n",
       "75%      459.500000    1.000000  \n",
       "max    51100.000000    1.000000  "
      ]
     },
     "execution_count": 50,
     "metadata": {},
     "output_type": "execute_result"
    }
   ],
   "source": [
    "data.describe()"
   ]
  },
  {
   "cell_type": "code",
   "execution_count": 60,
   "metadata": {},
   "outputs": [
    {
     "name": "stdout",
     "output_type": "stream",
     "text": [
      "['A1', 'A9', 'A10', 'A12'] ['A4', 'A5', 'A6', 'A7', 'A13']\n"
     ]
    }
   ],
   "source": [
    "binary_columns    = [c for c in categorical_columns if data_describe[c]['unique'] == 2]\n",
    "nonbinary_columns = [c for c in categorical_columns if data_describe[c]['unique'] > 2]\n",
    "print binary_columns, nonbinary_columns"
   ]
  },
  {
   "cell_type": "code",
   "execution_count": 52,
   "metadata": {},
   "outputs": [
    {
     "name": "stdout",
     "output_type": "stream",
     "text": [
      "<type 'numpy.float64'>\n",
      "<type 'numpy.int32'>\n"
     ]
    }
   ],
   "source": [
    "print type(data['class'][4])\n",
    "data['class'] = pd.DataFrame(data['class'], dtype=int)\n",
    "print type(data['class'][4])"
   ]
  },
  {
   "cell_type": "code",
   "execution_count": 53,
   "metadata": {},
   "outputs": [
    {
     "name": "stdout",
     "output_type": "stream",
     "text": [
      "['A1', 'A9', 'A10', 'A12'] ['A4', 'A5', 'A6', 'A7', 'A13']\n"
     ]
    }
   ],
   "source": [
    "binary_columns    = [c for c in categorical_columns if data_describe[c]['unique'] == 2]\n",
    "nonbinary_columns = [c for c in categorical_columns if data_describe[c]['unique'] > 2]\n",
    "print binary_columns, nonbinary_columns"
   ]
  },
  {
   "cell_type": "code",
   "execution_count": 55,
   "metadata": {},
   "outputs": [
    {
     "data": {
      "text/plain": [
       "count    483.000000\n",
       "mean       0.304348\n",
       "std        0.460608\n",
       "min        0.000000\n",
       "25%        0.000000\n",
       "50%        0.000000\n",
       "75%        1.000000\n",
       "max        1.000000\n",
       "Name: A1, dtype: float64"
      ]
     },
     "execution_count": 55,
     "metadata": {},
     "output_type": "execute_result"
    }
   ],
   "source": [
    "data['A1'].describe()"
   ]
  },
  {
   "cell_type": "code",
   "execution_count": 56,
   "metadata": {},
   "outputs": [
    {
     "data": {
      "text/plain": [
       "count     483\n",
       "unique      2\n",
       "top         t\n",
       "freq      261\n",
       "Name: A9, dtype: object"
      ]
     },
     "execution_count": 56,
     "metadata": {},
     "output_type": "execute_result"
    }
   ],
   "source": [
    "data['A9'].describe()"
   ]
  },
  {
   "cell_type": "code",
   "execution_count": 57,
   "metadata": {},
   "outputs": [
    {
     "data": {
      "text/plain": [
       "count    483.000000\n",
       "mean       0.459627\n",
       "std        0.498884\n",
       "min        0.000000\n",
       "25%        0.000000\n",
       "50%        0.000000\n",
       "75%        1.000000\n",
       "max        1.000000\n",
       "Name: A9, dtype: float64"
      ]
     },
     "execution_count": 57,
     "metadata": {},
     "output_type": "execute_result"
    }
   ],
   "source": [
    "data.at[data['A9'] == 't', 'A9'] = 0\n",
    "data.at[data['A9'] == 'f', 'A9'] = 1\n",
    "data['A9'].describe()"
   ]
  },
  {
   "cell_type": "code",
   "execution_count": 63,
   "metadata": {},
   "outputs": [
    {
     "name": "stdout",
     "output_type": "stream",
     "text": [
      "count     483\n",
      "unique      2\n",
      "top         f\n",
      "freq      270\n",
      "Name: A10, dtype: object\n",
      "['f' 't']\n"
     ]
    }
   ],
   "source": [
    "print data['A10'].describe()\n",
    "print X_data[c].unique()"
   ]
  },
  {
   "cell_type": "code",
   "execution_count": 64,
   "metadata": {},
   "outputs": [
    {
     "data": {
      "text/plain": [
       "count    483.000000\n",
       "mean       0.559006\n",
       "std        0.497021\n",
       "min        0.000000\n",
       "25%        0.000000\n",
       "50%        1.000000\n",
       "75%        1.000000\n",
       "max        1.000000\n",
       "Name: A10, dtype: float64"
      ]
     },
     "execution_count": 64,
     "metadata": {},
     "output_type": "execute_result"
    }
   ],
   "source": [
    "data.at[data['A10'] == 't', 'A10'] = 0\n",
    "data.at[data['A10'] == 'f', 'A10'] = 1\n",
    "data['A10'].describe()"
   ]
  },
  {
   "cell_type": "code",
   "execution_count": 65,
   "metadata": {},
   "outputs": [
    {
     "name": "stdout",
     "output_type": "stream",
     "text": [
      "count     483\n",
      "unique      2\n",
      "top         f\n",
      "freq      253\n",
      "Name: A12, dtype: object\n",
      "['t' 'f']\n"
     ]
    }
   ],
   "source": [
    "print data['A12'].describe()\n",
    "print data['A12'].unique()"
   ]
  },
  {
   "cell_type": "code",
   "execution_count": 66,
   "metadata": {},
   "outputs": [
    {
     "data": {
      "text/plain": [
       "count    483.000000\n",
       "mean       0.476190\n",
       "std        0.499951\n",
       "min        0.000000\n",
       "25%        0.000000\n",
       "50%        0.000000\n",
       "75%        1.000000\n",
       "max        1.000000\n",
       "Name: A12, dtype: float64"
      ]
     },
     "execution_count": 66,
     "metadata": {},
     "output_type": "execute_result"
    }
   ],
   "source": [
    "data.at[data['A12'] == 'f', 'A12'] = 0\n",
    "data.at[data['A12'] == 't', 'A12'] = 1\n",
    "data['A12'].describe()"
   ]
  },
  {
   "cell_type": "code",
   "execution_count": 67,
   "metadata": {},
   "outputs": [
    {
     "data": {
      "text/html": [
       "<div>\n",
       "<style scoped>\n",
       "    .dataframe tbody tr th:only-of-type {\n",
       "        vertical-align: middle;\n",
       "    }\n",
       "\n",
       "    .dataframe tbody tr th {\n",
       "        vertical-align: top;\n",
       "    }\n",
       "\n",
       "    .dataframe thead th {\n",
       "        text-align: right;\n",
       "    }\n",
       "</style>\n",
       "<table border=\"1\" class=\"dataframe\">\n",
       "  <thead>\n",
       "    <tr style=\"text-align: right;\">\n",
       "      <th></th>\n",
       "      <th>A1</th>\n",
       "      <th>A9</th>\n",
       "      <th>A10</th>\n",
       "      <th>A12</th>\n",
       "    </tr>\n",
       "  </thead>\n",
       "  <tbody>\n",
       "    <tr>\n",
       "      <th>count</th>\n",
       "      <td>483.000000</td>\n",
       "      <td>483.000000</td>\n",
       "      <td>483.000000</td>\n",
       "      <td>483.000000</td>\n",
       "    </tr>\n",
       "    <tr>\n",
       "      <th>mean</th>\n",
       "      <td>0.304348</td>\n",
       "      <td>0.459627</td>\n",
       "      <td>0.559006</td>\n",
       "      <td>0.476190</td>\n",
       "    </tr>\n",
       "    <tr>\n",
       "      <th>std</th>\n",
       "      <td>0.460608</td>\n",
       "      <td>0.498884</td>\n",
       "      <td>0.497021</td>\n",
       "      <td>0.499951</td>\n",
       "    </tr>\n",
       "    <tr>\n",
       "      <th>min</th>\n",
       "      <td>0.000000</td>\n",
       "      <td>0.000000</td>\n",
       "      <td>0.000000</td>\n",
       "      <td>0.000000</td>\n",
       "    </tr>\n",
       "    <tr>\n",
       "      <th>25%</th>\n",
       "      <td>0.000000</td>\n",
       "      <td>0.000000</td>\n",
       "      <td>0.000000</td>\n",
       "      <td>0.000000</td>\n",
       "    </tr>\n",
       "    <tr>\n",
       "      <th>50%</th>\n",
       "      <td>0.000000</td>\n",
       "      <td>0.000000</td>\n",
       "      <td>1.000000</td>\n",
       "      <td>0.000000</td>\n",
       "    </tr>\n",
       "    <tr>\n",
       "      <th>75%</th>\n",
       "      <td>1.000000</td>\n",
       "      <td>1.000000</td>\n",
       "      <td>1.000000</td>\n",
       "      <td>1.000000</td>\n",
       "    </tr>\n",
       "    <tr>\n",
       "      <th>max</th>\n",
       "      <td>1.000000</td>\n",
       "      <td>1.000000</td>\n",
       "      <td>1.000000</td>\n",
       "      <td>1.000000</td>\n",
       "    </tr>\n",
       "  </tbody>\n",
       "</table>\n",
       "</div>"
      ],
      "text/plain": [
       "               A1          A9         A10         A12\n",
       "count  483.000000  483.000000  483.000000  483.000000\n",
       "mean     0.304348    0.459627    0.559006    0.476190\n",
       "std      0.460608    0.498884    0.497021    0.499951\n",
       "min      0.000000    0.000000    0.000000    0.000000\n",
       "25%      0.000000    0.000000    0.000000    0.000000\n",
       "50%      0.000000    0.000000    1.000000    0.000000\n",
       "75%      1.000000    1.000000    1.000000    1.000000\n",
       "max      1.000000    1.000000    1.000000    1.000000"
      ]
     },
     "execution_count": 67,
     "metadata": {},
     "output_type": "execute_result"
    }
   ],
   "source": [
    "data[binary_columns].describe()"
   ]
  },
  {
   "cell_type": "code",
   "execution_count": 68,
   "metadata": {},
   "outputs": [
    {
     "data": {
      "text/plain": [
       "array(['u', 'y', 'l'], dtype=object)"
      ]
     },
     "execution_count": 68,
     "metadata": {},
     "output_type": "execute_result"
    }
   ],
   "source": [
    "data['A4'].unique()"
   ]
  },
  {
   "cell_type": "code",
   "execution_count": 69,
   "metadata": {},
   "outputs": [
    {
     "name": "stdout",
     "output_type": "stream",
     "text": [
      "Index([u'A4_l', u'A4_u', u'A4_y', u'A5_g', u'A5_gg', u'A5_p', u'A6_aa',\n",
      "       u'A6_c', u'A6_cc', u'A6_d', u'A6_e', u'A6_ff', u'A6_i', u'A6_j',\n",
      "       u'A6_k', u'A6_m', u'A6_q', u'A6_r', u'A6_w', u'A6_x', u'A7_bb',\n",
      "       u'A7_dd', u'A7_ff', u'A7_h', u'A7_j', u'A7_n', u'A7_v', u'A7_z',\n",
      "       u'A13_g', u'A13_p', u'A13_s'],\n",
      "      dtype='object')\n"
     ]
    }
   ],
   "source": [
    "data_nonbinary = pd.get_dummies(data[nonbinary_columns])\n",
    "print data_nonbinary.columns"
   ]
  },
  {
   "cell_type": "code",
   "execution_count": 70,
   "metadata": {},
   "outputs": [
    {
     "data": {
      "text/plain": [
       "<bound method DataFrame.head of      A4_l  A4_u  A4_y  A5_g  A5_gg  A5_p  A6_aa  A6_c  A6_cc  A6_d  ...    \\\n",
       "0       0     1     0     1      0     0      0     0      0     0  ...     \n",
       "1       0     1     0     1      0     0      0     0      0     0  ...     \n",
       "2       0     0     1     0      0     1      0     0      0     0  ...     \n",
       "3       0     1     0     1      0     0      0     1      0     0  ...     \n",
       "4       0     1     0     1      0     0      0     0      0     0  ...     \n",
       "5       0     1     0     1      0     0      0     0      0     0  ...     \n",
       "6       0     1     0     1      0     0      0     0      0     0  ...     \n",
       "7       0     1     0     1      0     0      0     0      0     0  ...     \n",
       "8       0     1     0     1      0     0      0     0      0     0  ...     \n",
       "9       0     1     0     1      0     0      0     1      0     0  ...     \n",
       "10      0     0     1     0      0     1      0     0      0     0  ...     \n",
       "11      0     1     0     1      0     0      0     0      0     1  ...     \n",
       "12      0     0     1     0      0     1      0     1      0     0  ...     \n",
       "13      0     0     1     0      0     1      0     0      1     0  ...     \n",
       "14      0     1     0     1      0     0      0     1      0     0  ...     \n",
       "15      0     1     0     1      0     0      1     0      0     0  ...     \n",
       "16      0     0     1     0      0     1      0     1      0     0  ...     \n",
       "17      0     1     0     1      0     0      0     0      0     0  ...     \n",
       "18      0     0     1     0      0     1      0     1      0     0  ...     \n",
       "19      0     1     0     1      0     0      0     0      0     0  ...     \n",
       "20      0     1     0     1      0     0      0     0      0     0  ...     \n",
       "21      0     0     1     0      0     1      0     1      0     0  ...     \n",
       "22      0     1     0     1      0     0      0     0      0     0  ...     \n",
       "23      0     1     0     1      0     0      0     0      0     0  ...     \n",
       "24      0     0     1     0      0     1      0     0      0     1  ...     \n",
       "25      0     1     0     1      0     0      0     0      0     0  ...     \n",
       "26      0     1     0     1      0     0      0     0      1     0  ...     \n",
       "27      0     1     0     1      0     0      0     0      0     1  ...     \n",
       "28      0     1     0     1      0     0      0     0      0     0  ...     \n",
       "29      0     1     0     1      0     0      0     0      0     1  ...     \n",
       "..    ...   ...   ...   ...    ...   ...    ...   ...    ...   ...  ...     \n",
       "453     0     0     1     0      0     1      0     0      0     1  ...     \n",
       "454     0     1     0     1      0     0      0     1      0     0  ...     \n",
       "455     0     1     0     1      0     0      0     0      0     0  ...     \n",
       "456     0     1     0     1      0     0      0     0      0     0  ...     \n",
       "457     0     0     1     0      0     1      0     0      0     0  ...     \n",
       "458     0     0     1     0      0     1      0     1      0     0  ...     \n",
       "459     0     1     0     1      0     0      0     0      0     0  ...     \n",
       "460     0     1     0     1      0     0      1     0      0     0  ...     \n",
       "461     0     1     0     1      0     0      0     1      0     0  ...     \n",
       "462     0     1     0     1      0     0      0     0      0     0  ...     \n",
       "463     0     1     0     1      0     0      1     0      0     0  ...     \n",
       "464     0     1     0     1      0     0      0     0      0     0  ...     \n",
       "465     0     1     0     1      0     0      0     0      0     0  ...     \n",
       "466     0     1     0     1      0     0      0     0      0     0  ...     \n",
       "467     0     1     0     1      0     0      0     0      1     0  ...     \n",
       "468     0     1     0     1      0     0      0     0      0     0  ...     \n",
       "469     0     1     0     1      0     0      0     0      1     0  ...     \n",
       "470     0     0     1     0      0     1      0     0      0     0  ...     \n",
       "471     0     1     0     1      0     0      1     0      0     0  ...     \n",
       "472     0     1     0     1      0     0      0     0      0     0  ...     \n",
       "473     0     0     1     0      0     1      0     0      0     0  ...     \n",
       "474     0     1     0     1      0     0      0     1      0     0  ...     \n",
       "475     0     1     0     1      0     0      0     1      0     0  ...     \n",
       "476     0     0     1     0      0     1      0     0      0     0  ...     \n",
       "477     0     0     1     0      0     1      0     0      0     0  ...     \n",
       "478     0     1     0     1      0     0      0     1      0     0  ...     \n",
       "479     0     1     0     1      0     0      0     0      0     0  ...     \n",
       "480     0     0     1     0      0     1      0     0      0     0  ...     \n",
       "481     0     1     0     1      0     0      0     1      0     0  ...     \n",
       "482     0     1     0     1      0     0      0     0      0     0  ...     \n",
       "\n",
       "     A7_dd  A7_ff  A7_h  A7_j  A7_n  A7_v  A7_z  A13_g  A13_p  A13_s  \n",
       "0        0      0     0     0     0     1     0      1      0      0  \n",
       "1        0      0     0     0     0     1     0      1      0      0  \n",
       "2        0      0     0     0     0     1     0      1      0      0  \n",
       "3        0      0     0     0     0     1     0      1      0      0  \n",
       "4        0      0     0     0     0     1     0      1      0      0  \n",
       "5        0      0     0     0     0     1     0      0      0      1  \n",
       "6        0      0     0     0     0     1     0      1      0      0  \n",
       "7        0      0     0     0     0     1     0      1      0      0  \n",
       "8        0      0     0     0     0     1     0      1      0      0  \n",
       "9        0      0     0     0     0     1     0      1      0      0  \n",
       "10       0      0     1     0     0     0     0      1      0      0  \n",
       "11       0      0     0     0     0     1     0      0      0      1  \n",
       "12       0      0     0     0     0     1     0      1      0      0  \n",
       "13       0      0     0     0     0     1     0      1      0      0  \n",
       "14       0      0     0     0     0     1     0      1      0      0  \n",
       "15       0      0     0     0     0     1     0      1      0      0  \n",
       "16       0      0     0     0     0     1     0      1      0      0  \n",
       "17       0      0     1     0     0     0     0      1      0      0  \n",
       "18       0      0     1     0     0     0     0      1      0      0  \n",
       "19       0      0     0     0     0     1     0      1      0      0  \n",
       "20       0      0     0     0     0     0     0      1      0      0  \n",
       "21       0      0     1     0     0     0     0      1      0      0  \n",
       "22       0      0     1     0     0     0     0      1      0      0  \n",
       "23       0      0     0     0     0     1     0      1      0      0  \n",
       "24       0      0     1     0     0     0     0      1      0      0  \n",
       "25       0      0     0     0     0     1     0      0      0      1  \n",
       "26       0      0     0     0     0     0     0      1      0      0  \n",
       "27       0      0     0     0     0     1     0      0      0      1  \n",
       "28       0      0     0     0     0     1     0      1      0      0  \n",
       "29       0      0     1     0     0     0     0      1      0      0  \n",
       "..     ...    ...   ...   ...   ...   ...   ...    ...    ...    ...  \n",
       "453      0      0     0     0     0     1     0      1      0      0  \n",
       "454      0      0     0     0     0     1     0      1      0      0  \n",
       "455      0      0     1     0     0     0     0      1      0      0  \n",
       "456      0      0     0     0     0     1     0      1      0      0  \n",
       "457      0      0     0     0     0     1     0      1      0      0  \n",
       "458      0      0     0     0     0     1     0      1      0      0  \n",
       "459      0      0     0     0     0     1     0      1      0      0  \n",
       "460      0      0     0     0     0     1     0      1      0      0  \n",
       "461      0      0     0     0     0     1     0      1      0      0  \n",
       "462      0      0     0     0     0     1     0      1      0      0  \n",
       "463      0      0     0     0     0     1     0      1      0      0  \n",
       "464      0      0     0     0     0     1     0      0      0      1  \n",
       "465      0      0     0     0     0     1     0      1      0      0  \n",
       "466      0      0     0     0     0     1     0      1      0      0  \n",
       "467      0      0     0     0     0     1     0      1      0      0  \n",
       "468      0      0     1     0     0     0     0      1      0      0  \n",
       "469      0      0     1     0     0     0     0      1      0      0  \n",
       "470      0      0     0     0     0     1     0      1      0      0  \n",
       "471      0      0     0     0     0     1     0      1      0      0  \n",
       "472      0      0     0     0     0     0     0      1      0      0  \n",
       "473      0      0     0     0     0     1     0      1      0      0  \n",
       "474      0      0     1     0     0     0     0      1      0      0  \n",
       "475      0      0     0     1     0     0     0      0      0      1  \n",
       "476      0      0     1     0     0     0     0      1      0      0  \n",
       "477      0      0     1     0     0     0     0      1      0      0  \n",
       "478      0      0     0     0     0     1     0      1      0      0  \n",
       "479      0      0     0     0     1     0     0      1      0      0  \n",
       "480      0      0     1     0     0     0     0      1      0      0  \n",
       "481      0      0     0     0     0     1     0      1      0      0  \n",
       "482      0      1     0     0     0     0     0      1      0      0  \n",
       "\n",
       "[483 rows x 31 columns]>"
      ]
     },
     "execution_count": 70,
     "metadata": {},
     "output_type": "execute_result"
    }
   ],
   "source": [
    "data_nonbinary.head"
   ]
  },
  {
   "cell_type": "code",
   "execution_count": 71,
   "metadata": {},
   "outputs": [
    {
     "name": "stdout",
     "output_type": "stream",
     "text": [
      "        A2      A3      A8   A11    A14   A15\n",
      "0    35.58   0.750   1.500   0.0  231.0     0\n",
      "1    34.92   2.500   0.000   0.0  239.0   200\n",
      "2    28.50   4.000   0.085   0.0  411.0     0\n",
      "3    46.08   3.000   2.375   8.0  396.0  4159\n",
      "4    23.58   0.830   0.415   1.0  200.0    11\n",
      "5    23.00   0.750   0.500   0.0  320.0     0\n",
      "6    23.25   1.500   2.375   3.0    0.0   582\n",
      "7    22.92   1.250   0.250   0.0  120.0   809\n",
      "8    38.67   0.210   0.085   0.0  280.0     0\n",
      "9    28.67   1.040   2.500   5.0  300.0  1430\n",
      "10   26.17  12.500   1.250   0.0    0.0    17\n",
      "11   28.50   0.375   0.875   0.0  928.0     0\n",
      "12   18.92   9.250   1.000   4.0   80.0   500\n",
      "13   21.58   0.790   0.665   0.0  160.0     0\n",
      "14   80.25   5.500   0.540   0.0    0.0   340\n",
      "15   20.83   3.000   0.040   0.0  100.0     0\n",
      "16   56.42  28.000  28.500  40.0    0.0    15\n",
      "17   22.67  10.500   1.335   0.0  100.0     0\n",
      "18   22.67   2.540   2.585   0.0    0.0     0\n",
      "19   22.33  11.000   2.000   1.0   80.0   278\n",
      "20   51.33  10.000   0.000  11.0    0.0  1249\n",
      "21   21.17   0.875   0.250   0.0  280.0   204\n",
      "22   26.92  13.500   5.000   2.0    0.0  5000\n",
      "23   25.08   1.710   1.665   1.0  395.0    20\n",
      "24   27.83   1.000   3.000   0.0  176.0   537\n",
      "25   23.08   0.000   1.000  11.0    0.0     0\n",
      "26   34.75   2.500   0.500   0.0  348.0     0\n",
      "27   30.75   1.585   0.585   0.0    0.0     0\n",
      "28   41.58   1.750   0.210   0.0  160.0     0\n",
      "29   23.92   1.500   1.875   6.0  200.0   327\n",
      "..     ...     ...     ...   ...    ...   ...\n",
      "453  28.50   0.040   4.250   0.0  460.0     0\n",
      "454  21.50   9.750   0.250   0.0  140.0     0\n",
      "455  34.92   5.000   7.500   6.0    0.0  1000\n",
      "456  28.33   5.000  11.000   0.0   70.0     0\n",
      "457  33.00   2.500   7.000   0.0  280.0     0\n",
      "458  30.17   1.085   0.040   0.0  170.0   179\n",
      "459  39.08   6.000   1.290   5.0  108.0  1097\n",
      "460  38.92   1.665   0.250   0.0    0.0   390\n",
      "461  28.75   3.750   1.085   1.0  371.0     0\n",
      "462  16.00   3.125   0.085   1.0    0.0     6\n",
      "463  17.92   0.205   0.040   0.0  280.0   750\n",
      "464  27.67   1.500   2.000   0.0  368.0     0\n",
      "465  22.08   2.335   0.750   0.0  180.0     0\n",
      "466  47.42   3.000  13.875   2.0  519.0  1704\n",
      "467  39.00   5.000   3.500  10.0    0.0     0\n",
      "468  23.00  11.750   0.500   2.0  300.0   551\n",
      "469  31.25   3.750   0.625   9.0  181.0     0\n",
      "470  23.58   0.460   2.625   6.0  208.0   347\n",
      "471  19.50   9.585   0.790   0.0   80.0   350\n",
      "472  26.17   0.250   0.000   0.0    0.0     0\n",
      "473  22.50   0.125   0.125   0.0  200.0    70\n",
      "474  23.42   0.585   0.085   0.0  180.0     0\n",
      "475  22.67   0.165   2.250   0.0    0.0     0\n",
      "476  32.67   9.000   5.250   0.0  154.0     0\n",
      "477  29.50   2.000   2.000   0.0  256.0    17\n",
      "478  34.08   2.500   1.000   0.0  460.0    16\n",
      "479  18.00   0.165   0.210   0.0  200.0    40\n",
      "480  34.83   1.250   0.500   0.0  160.0     0\n",
      "481  31.42  15.500   0.500   0.0  120.0     0\n",
      "482  49.58  19.000   0.000   1.0   94.0     0\n",
      "\n",
      "[483 rows x 6 columns]\n"
     ]
    }
   ],
   "source": [
    "data_numerical = data[numerical_columns]\n",
    "print data_numerical"
   ]
  },
  {
   "cell_type": "code",
   "execution_count": 72,
   "metadata": {},
   "outputs": [
    {
     "data": {
      "text/plain": [
       "<bound method DataFrame.head of      A1     A2      A3 A4 A5  A6  A7      A8  A9  A10   A11  A12 A13    A14  \\\n",
       "0     0  35.58   0.750  u  g   k   v   1.500   1    1   0.0    1   g  231.0   \n",
       "1     0  34.92   2.500  u  g   w   v   0.000   0    1   0.0    1   g  239.0   \n",
       "2     0  28.50   4.000  y  p   i   v   0.085   1    1   0.0    1   g  411.0   \n",
       "3     1  46.08   3.000  u  g   c   v   2.375   0    0   8.0    1   g  396.0   \n",
       "4     1  23.58   0.830  u  g   q   v   0.415   1    0   1.0    1   g  200.0   \n",
       "5     0  23.00   0.750  u  g   m   v   0.500   0    1   0.0    1   s  320.0   \n",
       "6     0  23.25   1.500  u  g   q   v   2.375   0    0   3.0    1   g    0.0   \n",
       "7     1  22.92   1.250  u  g   q   v   0.250   1    1   0.0    1   g  120.0   \n",
       "8     0  38.67   0.210  u  g   k   v   0.085   0    1   0.0    1   g  280.0   \n",
       "9     1  28.67   1.040  u  g   c   v   2.500   0    0   5.0    1   g  300.0   \n",
       "10    0  26.17  12.500  y  p   k   h   1.250   1    1   0.0    1   g    0.0   \n",
       "11    0  28.50   0.375  u  g   d   v   0.875   0    1   0.0    1   s  928.0   \n",
       "12    1  18.92   9.250  y  p   c   v   1.000   0    0   4.0    1   g   80.0   \n",
       "13    0  21.58   0.790  y  p  cc   v   0.665   1    1   0.0    0   g  160.0   \n",
       "14    0  80.25   5.500  u  g   c   v   0.540   0    1   0.0    0   g    0.0   \n",
       "15    1  20.83   3.000  u  g  aa   v   0.040   0    1   0.0    0   g  100.0   \n",
       "16    0  56.42  28.000  y  p   c   v  28.500   0    0  40.0    0   g    0.0   \n",
       "17    0  22.67  10.500  u  g   q   h   1.335   0    1   0.0    0   g  100.0   \n",
       "18    0  22.67   2.540  y  p   c   h   2.585   0    1   0.0    0   g    0.0   \n",
       "19    0  22.33  11.000  u  g   w   v   2.000   0    0   1.0    0   g   80.0   \n",
       "20    0  51.33  10.000  u  g   i  bb   0.000   0    0  11.0    0   g    0.0   \n",
       "21    0  21.17   0.875  y  p   c   h   0.250   1    1   0.0    0   g  280.0   \n",
       "22    1  26.92  13.500  u  g   q   h   5.000   0    0   2.0    0   g    0.0   \n",
       "23    0  25.08   1.710  u  g   x   v   1.665   0    0   1.0    1   g  395.0   \n",
       "24    0  27.83   1.000  y  p   d   h   3.000   1    1   0.0    0   g  176.0   \n",
       "25    0  23.08   0.000  u  g   k   v   1.000   1    0  11.0    0   s    0.0   \n",
       "26    0  34.75   2.500  u  g  cc  bb   0.500   1    1   0.0    0   g  348.0   \n",
       "27    0  30.75   1.585  u  g   d   v   0.585   1    1   0.0    1   s    0.0   \n",
       "28    0  41.58   1.750  u  g   k   v   0.210   0    1   0.0    0   g  160.0   \n",
       "29    0  23.92   1.500  u  g   d   h   1.875   0    0   6.0    0   g  200.0   \n",
       "..   ..    ...     ... .. ..  ..  ..     ...  ..  ...   ...  ...  ..    ...   \n",
       "453   0  28.50   0.040  y  p   d   v   4.250   1    1   0.0    1   g  460.0   \n",
       "454   0  21.50   9.750  u  g   c   v   0.250   0    1   0.0    0   g  140.0   \n",
       "455   0  34.92   5.000  u  g   x   h   7.500   0    0   6.0    1   g    0.0   \n",
       "456   0  28.33   5.000  u  g   w   v  11.000   0    1   0.0    1   g   70.0   \n",
       "457   0  33.00   2.500  y  p   w   v   7.000   1    1   0.0    1   g  280.0   \n",
       "458   0  30.17   1.085  y  p   c   v   0.040   1    1   0.0    0   g  170.0   \n",
       "459   0  39.08   6.000  u  g   m   v   1.290   0    0   5.0    1   g  108.0   \n",
       "460   1  38.92   1.665  u  g  aa   v   0.250   1    1   0.0    0   g    0.0   \n",
       "461   1  28.75   3.750  u  g   c   v   1.085   0    0   1.0    1   g  371.0   \n",
       "462   0  16.00   3.125  u  g   w   v   0.085   1    0   1.0    0   g    0.0   \n",
       "463   0  17.92   0.205  u  g  aa   v   0.040   1    1   0.0    0   g  280.0   \n",
       "464   1  27.67   1.500  u  g   m   v   2.000   0    1   0.0    0   s  368.0   \n",
       "465   0  22.08   2.335  u  g   k   v   0.750   1    1   0.0    0   g  180.0   \n",
       "466   1  47.42   3.000  u  g   x   v  13.875   0    0   2.0    1   g  519.0   \n",
       "467   0  39.00   5.000  u  g  cc   v   3.500   0    0  10.0    1   g    0.0   \n",
       "468   1  23.00  11.750  u  g   x   h   0.500   0    0   2.0    1   g  300.0   \n",
       "469   1  31.25   3.750  u  g  cc   h   0.625   0    0   9.0    1   g  181.0   \n",
       "470   0  23.58   0.460  y  p   w   v   2.625   0    0   6.0    1   g  208.0   \n",
       "471   0  19.50   9.585  u  g  aa   v   0.790   1    1   0.0    0   g   80.0   \n",
       "472   0  26.17   0.250  u  g   i  bb   0.000   0    1   0.0    1   g    0.0   \n",
       "473   0  22.50   0.125  y  p   k   v   0.125   1    1   0.0    0   g  200.0   \n",
       "474   0  23.42   0.585  u  g   c   h   0.085   0    1   0.0    0   g  180.0   \n",
       "475   0  22.67   0.165  u  g   c   j   2.250   1    1   0.0    1   s    0.0   \n",
       "476   0  32.67   9.000  y  p   w   h   5.250   0    1   0.0    1   g  154.0   \n",
       "477   0  29.50   2.000  y  p   e   h   2.000   1    1   0.0    0   g  256.0   \n",
       "478   0  34.08   2.500  u  g   c   v   1.000   1    1   0.0    0   g  460.0   \n",
       "479   0  18.00   0.165  u  g   q   n   0.210   1    1   0.0    0   g  200.0   \n",
       "480   1  34.83   1.250  y  p   i   h   0.500   1    1   0.0    1   g  160.0   \n",
       "481   0  31.42  15.500  u  g   c   v   0.500   0    1   0.0    0   g  120.0   \n",
       "482   0  49.58  19.000  u  g  ff  ff   0.000   0    0   1.0    0   g   94.0   \n",
       "\n",
       "      A15  class  \n",
       "0       0      0  \n",
       "1     200      1  \n",
       "2       0      0  \n",
       "3    4159      1  \n",
       "4      11      0  \n",
       "5       0      0  \n",
       "6     582      1  \n",
       "7     809      0  \n",
       "8       0      1  \n",
       "9    1430      1  \n",
       "10     17      0  \n",
       "11      0      0  \n",
       "12    500      1  \n",
       "13      0      0  \n",
       "14    340      0  \n",
       "15      0      1  \n",
       "16     15      1  \n",
       "17      0      1  \n",
       "18      0      1  \n",
       "19    278      1  \n",
       "20   1249      1  \n",
       "21    204      0  \n",
       "22   5000      1  \n",
       "23     20      1  \n",
       "24    537      0  \n",
       "25      0      0  \n",
       "26      0      0  \n",
       "27      0      0  \n",
       "28      0      0  \n",
       "29    327      1  \n",
       "..    ...    ...  \n",
       "453     0      0  \n",
       "454     0      0  \n",
       "455  1000      1  \n",
       "456     0      1  \n",
       "457     0      0  \n",
       "458   179      0  \n",
       "459  1097      1  \n",
       "460   390      0  \n",
       "461     0      1  \n",
       "462     6      0  \n",
       "463   750      0  \n",
       "464     0      0  \n",
       "465     0      0  \n",
       "466  1704      1  \n",
       "467     0      1  \n",
       "468   551      1  \n",
       "469     0      1  \n",
       "470   347      0  \n",
       "471   350      0  \n",
       "472     0      1  \n",
       "473    70      0  \n",
       "474     0      0  \n",
       "475     0      1  \n",
       "476     0      1  \n",
       "477    17      0  \n",
       "478    16      0  \n",
       "479    40      1  \n",
       "480     0      0  \n",
       "481     0      0  \n",
       "482     0      0  \n",
       "\n",
       "[483 rows x 16 columns]>"
      ]
     },
     "execution_count": 72,
     "metadata": {},
     "output_type": "execute_result"
    }
   ],
   "source": [
    "data.head"
   ]
  },
  {
   "cell_type": "code",
   "execution_count": 73,
   "metadata": {},
   "outputs": [
    {
     "data": {
      "text/html": [
       "<div>\n",
       "<style scoped>\n",
       "    .dataframe tbody tr th:only-of-type {\n",
       "        vertical-align: middle;\n",
       "    }\n",
       "\n",
       "    .dataframe tbody tr th {\n",
       "        vertical-align: top;\n",
       "    }\n",
       "\n",
       "    .dataframe thead th {\n",
       "        text-align: right;\n",
       "    }\n",
       "</style>\n",
       "<table border=\"1\" class=\"dataframe\">\n",
       "  <thead>\n",
       "    <tr style=\"text-align: right;\">\n",
       "      <th></th>\n",
       "      <th>A2</th>\n",
       "      <th>A3</th>\n",
       "      <th>A8</th>\n",
       "      <th>A11</th>\n",
       "      <th>A14</th>\n",
       "      <th>A15</th>\n",
       "    </tr>\n",
       "  </thead>\n",
       "  <tbody>\n",
       "    <tr>\n",
       "      <th>count</th>\n",
       "      <td>4.830000e+02</td>\n",
       "      <td>4.830000e+02</td>\n",
       "      <td>4.830000e+02</td>\n",
       "      <td>4.830000e+02</td>\n",
       "      <td>4.830000e+02</td>\n",
       "      <td>4.830000e+02</td>\n",
       "    </tr>\n",
       "    <tr>\n",
       "      <th>mean</th>\n",
       "      <td>-3.889228e-16</td>\n",
       "      <td>-1.746935e-17</td>\n",
       "      <td>1.528568e-16</td>\n",
       "      <td>-9.033492e-17</td>\n",
       "      <td>-3.815673e-17</td>\n",
       "      <td>9.021999e-17</td>\n",
       "    </tr>\n",
       "    <tr>\n",
       "      <th>std</th>\n",
       "      <td>1.000000e+00</td>\n",
       "      <td>1.000000e+00</td>\n",
       "      <td>1.000000e+00</td>\n",
       "      <td>1.000000e+00</td>\n",
       "      <td>1.000000e+00</td>\n",
       "      <td>1.000000e+00</td>\n",
       "    </tr>\n",
       "    <tr>\n",
       "      <th>min</th>\n",
       "      <td>-1.483215e+00</td>\n",
       "      <td>-9.374137e-01</td>\n",
       "      <td>-6.476772e-01</td>\n",
       "      <td>-5.484740e-01</td>\n",
       "      <td>-1.122550e+00</td>\n",
       "      <td>-2.325348e-01</td>\n",
       "    </tr>\n",
       "    <tr>\n",
       "      <th>25%</th>\n",
       "      <td>-7.383167e-01</td>\n",
       "      <td>-7.458677e-01</td>\n",
       "      <td>-5.984564e-01</td>\n",
       "      <td>-5.484740e-01</td>\n",
       "      <td>-6.362575e-01</td>\n",
       "      <td>-2.325348e-01</td>\n",
       "    </tr>\n",
       "    <tr>\n",
       "      <th>50%</th>\n",
       "      <td>-2.514601e-01</td>\n",
       "      <td>-3.999121e-01</td>\n",
       "      <td>-3.493692e-01</td>\n",
       "      <td>-5.484740e-01</td>\n",
       "      <td>-1.499653e-01</td>\n",
       "      <td>-2.310677e-01</td>\n",
       "    </tr>\n",
       "    <tr>\n",
       "      <th>75%</th>\n",
       "      <td>5.209966e-01</td>\n",
       "      <td>5.284998e-01</td>\n",
       "      <td>9.809267e-02</td>\n",
       "      <td>1.408051e-01</td>\n",
       "      <td>5.673158e-01</td>\n",
       "      <td>-1.201796e-01</td>\n",
       "    </tr>\n",
       "    <tr>\n",
       "      <th>max</th>\n",
       "      <td>4.070122e+00</td>\n",
       "      <td>4.535330e+00</td>\n",
       "      <td>7.854099e+00</td>\n",
       "      <td>8.641914e+00</td>\n",
       "      <td>5.928688e+00</td>\n",
       "      <td>1.226224e+01</td>\n",
       "    </tr>\n",
       "  </tbody>\n",
       "</table>\n",
       "</div>"
      ],
      "text/plain": [
       "                 A2            A3            A8           A11           A14  \\\n",
       "count  4.830000e+02  4.830000e+02  4.830000e+02  4.830000e+02  4.830000e+02   \n",
       "mean  -3.889228e-16 -1.746935e-17  1.528568e-16 -9.033492e-17 -3.815673e-17   \n",
       "std    1.000000e+00  1.000000e+00  1.000000e+00  1.000000e+00  1.000000e+00   \n",
       "min   -1.483215e+00 -9.374137e-01 -6.476772e-01 -5.484740e-01 -1.122550e+00   \n",
       "25%   -7.383167e-01 -7.458677e-01 -5.984564e-01 -5.484740e-01 -6.362575e-01   \n",
       "50%   -2.514601e-01 -3.999121e-01 -3.493692e-01 -5.484740e-01 -1.499653e-01   \n",
       "75%    5.209966e-01  5.284998e-01  9.809267e-02  1.408051e-01  5.673158e-01   \n",
       "max    4.070122e+00  4.535330e+00  7.854099e+00  8.641914e+00  5.928688e+00   \n",
       "\n",
       "                A15  \n",
       "count  4.830000e+02  \n",
       "mean   9.021999e-17  \n",
       "std    1.000000e+00  \n",
       "min   -2.325348e-01  \n",
       "25%   -2.325348e-01  \n",
       "50%   -2.310677e-01  \n",
       "75%   -1.201796e-01  \n",
       "max    1.226224e+01  "
      ]
     },
     "execution_count": 73,
     "metadata": {},
     "output_type": "execute_result"
    }
   ],
   "source": [
    "data_numerical = data[numerical_columns]\n",
    "data_numerical = (data_numerical - data_numerical.mean()) / data_numerical.std()\n",
    "data_numerical.describe()"
   ]
  },
  {
   "cell_type": "code",
   "execution_count": 78,
   "metadata": {},
   "outputs": [
    {
     "name": "stdout",
     "output_type": "stream",
     "text": [
      "(483, 42)\n",
      "Index([u'A2', u'A3', u'A8', u'A11', u'A14', u'A15', u'A1', u'A9', u'A10',\n",
      "       u'A12', u'A4_l', u'A4_u', u'A4_y', u'A5_g', u'A5_gg', u'A5_p', u'A6_aa',\n",
      "       u'A6_c', u'A6_cc', u'A6_d', u'A6_e', u'A6_ff', u'A6_i', u'A6_j',\n",
      "       u'A6_k', u'A6_m', u'A6_q', u'A6_r', u'A6_w', u'A6_x', u'A7_bb',\n",
      "       u'A7_dd', u'A7_ff', u'A7_h', u'A7_j', u'A7_n', u'A7_v', u'A7_z',\n",
      "       u'A13_g', u'A13_p', u'A13_s', u'class'],\n",
      "      dtype='object')\n"
     ]
    },
    {
     "data": {
      "text/plain": [
       "<bound method DataFrame.head of            A2        A3        A8       A11       A14       A15   A1   A9  \\\n",
       "0    0.339782 -0.790822 -0.200215 -0.548474  0.281619 -0.232535  0.0  1.0   \n",
       "1    0.284667 -0.448776 -0.647677 -0.548474  0.330248 -0.183632  0.0  0.0   \n",
       "2   -0.251460 -0.155593 -0.622321 -0.548474  1.375777 -0.232535  0.0  1.0   \n",
       "3    1.216625 -0.351048  0.060804  1.289604  1.284597  0.784408  1.0  0.0   \n",
       "4   -0.662324 -0.775186 -0.523879 -0.318714  0.093181 -0.229845  1.0  1.0   \n",
       "5   -0.710759 -0.790822 -0.498523 -0.548474  0.822619 -0.232535  0.0  0.0   \n",
       "6   -0.689882 -0.644231  0.060804  0.140805 -1.122550 -0.090226  0.0  0.0   \n",
       "7   -0.717439 -0.693095 -0.573100 -0.548474 -0.393111 -0.034721  1.0  1.0   \n",
       "8    0.597825 -0.896368 -0.622321 -0.548474  0.579473 -0.232535  0.0  0.0   \n",
       "9   -0.237264 -0.734140  0.098093  0.600325  0.701046  0.117123  1.0  0.0   \n",
       "10  -0.446036  1.505775 -0.274792 -0.548474 -1.122550 -0.228378  0.0  1.0   \n",
       "11  -0.251460 -0.864118 -0.386658 -0.548474  4.518440 -0.232535  0.0  0.0   \n",
       "12  -1.051475  0.870546 -0.349369  0.370565 -0.636258 -0.110277  1.0  0.0   \n",
       "13  -0.829341 -0.783004 -0.449302 -0.548474 -0.149965 -0.232535  0.0  1.0   \n",
       "14   4.070122  0.137589 -0.486591 -0.548474 -1.122550 -0.149399  0.0  0.0   \n",
       "15  -0.891973 -0.351048 -0.635745 -0.548474 -0.514684 -0.232535  1.0  0.0   \n",
       "16   2.080107  4.535330  7.854099  8.641914 -1.122550 -0.228867  0.0  0.0   \n",
       "17  -0.738317  1.114865 -0.249436 -0.548474 -0.514684 -0.232535  0.0  0.0   \n",
       "18  -0.738317 -0.440958  0.123449 -0.548474 -1.122550 -0.232535  0.0  0.0   \n",
       "19  -0.766710  1.212593 -0.051061 -0.318714 -0.636258 -0.164559  0.0  0.0   \n",
       "20   1.655047  1.017138 -0.647677  1.978883 -1.122550  0.072866  0.0  0.0   \n",
       "21  -0.863580 -0.766391 -0.573100 -0.548474  0.579473 -0.182653  0.0  1.0   \n",
       "22  -0.383404  1.701231  0.843863 -0.088955 -1.122550  0.990046  1.0  0.0   \n",
       "23  -0.537060 -0.603185 -0.150994 -0.318714  1.278518 -0.227644  0.0  0.0   \n",
       "24  -0.307411 -0.741959  0.247247 -0.548474 -0.052707 -0.101230  0.0  1.0   \n",
       "25  -0.704078 -0.937414 -0.349369  1.978883 -1.122550 -0.232535  0.0  1.0   \n",
       "26   0.270470 -0.448776 -0.498523 -0.548474  0.992822 -0.232535  0.0  1.0   \n",
       "27  -0.063565 -0.627617 -0.473167 -0.548474 -1.122550 -0.232535  0.0  1.0   \n",
       "28   0.840835 -0.595367 -0.585033 -0.548474 -0.149965 -0.232535  0.0  0.0   \n",
       "29  -0.633931 -0.644231 -0.088350  0.830084  0.093181 -0.152578  0.0  0.0   \n",
       "..        ...       ...       ...       ...       ...       ...  ...  ...   \n",
       "453 -0.251460 -0.929596  0.620132 -0.548474  1.673631 -0.232535  0.0  1.0   \n",
       "454 -0.836022  0.968274 -0.573100 -0.548474 -0.271538 -0.232535  0.0  0.0   \n",
       "455  0.284667  0.039862  1.589632  0.830084 -1.122550  0.011981  0.0  0.0   \n",
       "456 -0.265657  0.039862  2.633710 -0.548474 -0.697044 -0.232535  0.0  0.0   \n",
       "457  0.124330 -0.448776  1.440478 -0.548474  0.579473 -0.232535  0.0  1.0   \n",
       "458 -0.112000 -0.725345 -0.635745 -0.548474 -0.089179 -0.188766  0.0  1.0   \n",
       "459  0.632063  0.235317 -0.262860  0.600325 -0.466055  0.035699  0.0  0.0   \n",
       "460  0.618702 -0.611981 -0.573100 -0.548474 -1.122550 -0.137174  1.0  1.0   \n",
       "461 -0.230583 -0.204457 -0.324013 -0.318714  1.132631 -0.232535  1.0  0.0   \n",
       "462 -1.295321 -0.326616 -0.622321 -0.318714 -1.122550 -0.231068  0.0  1.0   \n",
       "463 -1.134984 -0.897345 -0.635745 -0.548474  0.579473 -0.049148  0.0  1.0   \n",
       "464 -0.320772 -0.644231 -0.051061 -0.548474  1.114395 -0.232535  1.0  0.0   \n",
       "465 -0.787587 -0.481026 -0.423946 -0.548474 -0.028392 -0.232535  0.0  1.0   \n",
       "466  1.328527 -0.351048  3.491346 -0.088955  2.032271  0.184121  1.0  0.0   \n",
       "467  0.625383  0.039862  0.396401  1.749123 -1.122550 -0.232535  0.0  0.0   \n",
       "468 -0.710759  1.359184 -0.498523 -0.088955  0.701046 -0.097806  1.0  0.0   \n",
       "469 -0.021811 -0.204457 -0.461235  1.519363 -0.022314 -0.232535  1.0  0.0   \n",
       "470 -0.662324 -0.847504  0.135381  0.830084  0.141810 -0.147688  0.0  0.0   \n",
       "471 -1.003040  0.936024 -0.412014 -0.548474 -0.636258 -0.146954  0.0  1.0   \n",
       "472 -0.446036 -0.888550 -0.647677 -0.548474 -1.122550 -0.232535  0.0  0.0   \n",
       "473 -0.752513 -0.912982 -0.610389 -0.548474  0.093181 -0.215419  0.0  1.0   \n",
       "474 -0.675685 -0.823072 -0.622321 -0.548474 -0.028392 -0.232535  0.0  0.0   \n",
       "475 -0.738317 -0.905164  0.023516 -0.548474 -1.122550 -0.232535  0.0  1.0   \n",
       "476  0.096772  0.821682  0.918440 -0.548474 -0.186437 -0.232535  0.0  0.0   \n",
       "477 -0.167951 -0.546503 -0.051061 -0.548474  0.433585 -0.228378  0.0  1.0   \n",
       "478  0.214519 -0.448776 -0.349369 -0.548474  1.673631 -0.228623  0.0  1.0   \n",
       "479 -1.128303 -0.905164 -0.585033 -0.548474  0.093181 -0.222754  0.0  1.0   \n",
       "480  0.277151 -0.693095 -0.498523 -0.548474 -0.149965 -0.232535  1.0  1.0   \n",
       "481 -0.007614  2.092141 -0.498523 -0.548474 -0.393111 -0.232535  0.0  0.0   \n",
       "482  1.508906  2.776234 -0.647677 -0.318714 -0.551156 -0.232535  0.0  0.0   \n",
       "\n",
       "     A10  A12  ...    A7_ff  A7_h  A7_j  A7_n  A7_v  A7_z  A13_g  A13_p  \\\n",
       "0    1.0  1.0  ...      0.0   0.0   0.0   0.0   1.0   0.0    1.0    0.0   \n",
       "1    1.0  1.0  ...      0.0   0.0   0.0   0.0   1.0   0.0    1.0    0.0   \n",
       "2    1.0  1.0  ...      0.0   0.0   0.0   0.0   1.0   0.0    1.0    0.0   \n",
       "3    0.0  1.0  ...      0.0   0.0   0.0   0.0   1.0   0.0    1.0    0.0   \n",
       "4    0.0  1.0  ...      0.0   0.0   0.0   0.0   1.0   0.0    1.0    0.0   \n",
       "5    1.0  1.0  ...      0.0   0.0   0.0   0.0   1.0   0.0    0.0    0.0   \n",
       "6    0.0  1.0  ...      0.0   0.0   0.0   0.0   1.0   0.0    1.0    0.0   \n",
       "7    1.0  1.0  ...      0.0   0.0   0.0   0.0   1.0   0.0    1.0    0.0   \n",
       "8    1.0  1.0  ...      0.0   0.0   0.0   0.0   1.0   0.0    1.0    0.0   \n",
       "9    0.0  1.0  ...      0.0   0.0   0.0   0.0   1.0   0.0    1.0    0.0   \n",
       "10   1.0  1.0  ...      0.0   1.0   0.0   0.0   0.0   0.0    1.0    0.0   \n",
       "11   1.0  1.0  ...      0.0   0.0   0.0   0.0   1.0   0.0    0.0    0.0   \n",
       "12   0.0  1.0  ...      0.0   0.0   0.0   0.0   1.0   0.0    1.0    0.0   \n",
       "13   1.0  0.0  ...      0.0   0.0   0.0   0.0   1.0   0.0    1.0    0.0   \n",
       "14   1.0  0.0  ...      0.0   0.0   0.0   0.0   1.0   0.0    1.0    0.0   \n",
       "15   1.0  0.0  ...      0.0   0.0   0.0   0.0   1.0   0.0    1.0    0.0   \n",
       "16   0.0  0.0  ...      0.0   0.0   0.0   0.0   1.0   0.0    1.0    0.0   \n",
       "17   1.0  0.0  ...      0.0   1.0   0.0   0.0   0.0   0.0    1.0    0.0   \n",
       "18   1.0  0.0  ...      0.0   1.0   0.0   0.0   0.0   0.0    1.0    0.0   \n",
       "19   0.0  0.0  ...      0.0   0.0   0.0   0.0   1.0   0.0    1.0    0.0   \n",
       "20   0.0  0.0  ...      0.0   0.0   0.0   0.0   0.0   0.0    1.0    0.0   \n",
       "21   1.0  0.0  ...      0.0   1.0   0.0   0.0   0.0   0.0    1.0    0.0   \n",
       "22   0.0  0.0  ...      0.0   1.0   0.0   0.0   0.0   0.0    1.0    0.0   \n",
       "23   0.0  1.0  ...      0.0   0.0   0.0   0.0   1.0   0.0    1.0    0.0   \n",
       "24   1.0  0.0  ...      0.0   1.0   0.0   0.0   0.0   0.0    1.0    0.0   \n",
       "25   0.0  0.0  ...      0.0   0.0   0.0   0.0   1.0   0.0    0.0    0.0   \n",
       "26   1.0  0.0  ...      0.0   0.0   0.0   0.0   0.0   0.0    1.0    0.0   \n",
       "27   1.0  1.0  ...      0.0   0.0   0.0   0.0   1.0   0.0    0.0    0.0   \n",
       "28   1.0  0.0  ...      0.0   0.0   0.0   0.0   1.0   0.0    1.0    0.0   \n",
       "29   0.0  0.0  ...      0.0   1.0   0.0   0.0   0.0   0.0    1.0    0.0   \n",
       "..   ...  ...  ...      ...   ...   ...   ...   ...   ...    ...    ...   \n",
       "453  1.0  1.0  ...      0.0   0.0   0.0   0.0   1.0   0.0    1.0    0.0   \n",
       "454  1.0  0.0  ...      0.0   0.0   0.0   0.0   1.0   0.0    1.0    0.0   \n",
       "455  0.0  1.0  ...      0.0   1.0   0.0   0.0   0.0   0.0    1.0    0.0   \n",
       "456  1.0  1.0  ...      0.0   0.0   0.0   0.0   1.0   0.0    1.0    0.0   \n",
       "457  1.0  1.0  ...      0.0   0.0   0.0   0.0   1.0   0.0    1.0    0.0   \n",
       "458  1.0  0.0  ...      0.0   0.0   0.0   0.0   1.0   0.0    1.0    0.0   \n",
       "459  0.0  1.0  ...      0.0   0.0   0.0   0.0   1.0   0.0    1.0    0.0   \n",
       "460  1.0  0.0  ...      0.0   0.0   0.0   0.0   1.0   0.0    1.0    0.0   \n",
       "461  0.0  1.0  ...      0.0   0.0   0.0   0.0   1.0   0.0    1.0    0.0   \n",
       "462  0.0  0.0  ...      0.0   0.0   0.0   0.0   1.0   0.0    1.0    0.0   \n",
       "463  1.0  0.0  ...      0.0   0.0   0.0   0.0   1.0   0.0    1.0    0.0   \n",
       "464  1.0  0.0  ...      0.0   0.0   0.0   0.0   1.0   0.0    0.0    0.0   \n",
       "465  1.0  0.0  ...      0.0   0.0   0.0   0.0   1.0   0.0    1.0    0.0   \n",
       "466  0.0  1.0  ...      0.0   0.0   0.0   0.0   1.0   0.0    1.0    0.0   \n",
       "467  0.0  1.0  ...      0.0   0.0   0.0   0.0   1.0   0.0    1.0    0.0   \n",
       "468  0.0  1.0  ...      0.0   1.0   0.0   0.0   0.0   0.0    1.0    0.0   \n",
       "469  0.0  1.0  ...      0.0   1.0   0.0   0.0   0.0   0.0    1.0    0.0   \n",
       "470  0.0  1.0  ...      0.0   0.0   0.0   0.0   1.0   0.0    1.0    0.0   \n",
       "471  1.0  0.0  ...      0.0   0.0   0.0   0.0   1.0   0.0    1.0    0.0   \n",
       "472  1.0  1.0  ...      0.0   0.0   0.0   0.0   0.0   0.0    1.0    0.0   \n",
       "473  1.0  0.0  ...      0.0   0.0   0.0   0.0   1.0   0.0    1.0    0.0   \n",
       "474  1.0  0.0  ...      0.0   1.0   0.0   0.0   0.0   0.0    1.0    0.0   \n",
       "475  1.0  1.0  ...      0.0   0.0   1.0   0.0   0.0   0.0    0.0    0.0   \n",
       "476  1.0  1.0  ...      0.0   1.0   0.0   0.0   0.0   0.0    1.0    0.0   \n",
       "477  1.0  0.0  ...      0.0   1.0   0.0   0.0   0.0   0.0    1.0    0.0   \n",
       "478  1.0  0.0  ...      0.0   0.0   0.0   0.0   1.0   0.0    1.0    0.0   \n",
       "479  1.0  0.0  ...      0.0   0.0   0.0   1.0   0.0   0.0    1.0    0.0   \n",
       "480  1.0  1.0  ...      0.0   1.0   0.0   0.0   0.0   0.0    1.0    0.0   \n",
       "481  1.0  0.0  ...      0.0   0.0   0.0   0.0   1.0   0.0    1.0    0.0   \n",
       "482  0.0  0.0  ...      1.0   0.0   0.0   0.0   0.0   0.0    1.0    0.0   \n",
       "\n",
       "     A13_s  class  \n",
       "0      0.0    0.0  \n",
       "1      0.0    1.0  \n",
       "2      0.0    0.0  \n",
       "3      0.0    1.0  \n",
       "4      0.0    0.0  \n",
       "5      1.0    0.0  \n",
       "6      0.0    1.0  \n",
       "7      0.0    0.0  \n",
       "8      0.0    1.0  \n",
       "9      0.0    1.0  \n",
       "10     0.0    0.0  \n",
       "11     1.0    0.0  \n",
       "12     0.0    1.0  \n",
       "13     0.0    0.0  \n",
       "14     0.0    0.0  \n",
       "15     0.0    1.0  \n",
       "16     0.0    1.0  \n",
       "17     0.0    1.0  \n",
       "18     0.0    1.0  \n",
       "19     0.0    1.0  \n",
       "20     0.0    1.0  \n",
       "21     0.0    0.0  \n",
       "22     0.0    1.0  \n",
       "23     0.0    1.0  \n",
       "24     0.0    0.0  \n",
       "25     1.0    0.0  \n",
       "26     0.0    0.0  \n",
       "27     1.0    0.0  \n",
       "28     0.0    0.0  \n",
       "29     0.0    1.0  \n",
       "..     ...    ...  \n",
       "453    0.0    0.0  \n",
       "454    0.0    0.0  \n",
       "455    0.0    1.0  \n",
       "456    0.0    1.0  \n",
       "457    0.0    0.0  \n",
       "458    0.0    0.0  \n",
       "459    0.0    1.0  \n",
       "460    0.0    0.0  \n",
       "461    0.0    1.0  \n",
       "462    0.0    0.0  \n",
       "463    0.0    0.0  \n",
       "464    1.0    0.0  \n",
       "465    0.0    0.0  \n",
       "466    0.0    1.0  \n",
       "467    0.0    1.0  \n",
       "468    0.0    1.0  \n",
       "469    0.0    1.0  \n",
       "470    0.0    0.0  \n",
       "471    0.0    0.0  \n",
       "472    0.0    1.0  \n",
       "473    0.0    0.0  \n",
       "474    0.0    0.0  \n",
       "475    1.0    1.0  \n",
       "476    0.0    1.0  \n",
       "477    0.0    0.0  \n",
       "478    0.0    0.0  \n",
       "479    0.0    1.0  \n",
       "480    0.0    0.0  \n",
       "481    0.0    0.0  \n",
       "482    0.0    0.0  \n",
       "\n",
       "[483 rows x 42 columns]>"
      ]
     },
     "execution_count": 78,
     "metadata": {},
     "output_type": "execute_result"
    }
   ],
   "source": [
    "data_general = pd.concat((data_numerical, data[binary_columns], data_nonbinary, y_data), axis=1)\n",
    "data_general = pd.DataFrame(data_general, dtype=float)\n",
    "print data_general.shape\n",
    "print data_general.columns\n",
    "data_general.head"
   ]
  },
  {
   "cell_type": "code",
   "execution_count": 88,
   "metadata": {},
   "outputs": [
    {
     "name": "stdout",
     "output_type": "stream",
     "text": [
      "Index([u'A2', u'A3', u'A8', u'A11', u'A14', u'A15', u'A1', u'A9', u'A10',\n",
      "       u'A12', u'A4_l', u'A4_u', u'A4_y', u'A5_g', u'A5_gg', u'A5_p', u'A6_aa',\n",
      "       u'A6_c', u'A6_cc', u'A6_d', u'A6_e', u'A6_ff', u'A6_i', u'A6_j',\n",
      "       u'A6_k', u'A6_m', u'A6_q', u'A6_r', u'A6_w', u'A6_x', u'A7_bb',\n",
      "       u'A7_dd', u'A7_ff', u'A7_h', u'A7_j', u'A7_n', u'A7_v', u'A7_z',\n",
      "       u'A13_g', u'A13_p', u'A13_s'],\n",
      "      dtype='object')\n"
     ]
    }
   ],
   "source": [
    "X = data_general.drop(('class'), axis=1)  # Выбрасываем столбец 'class'.\n",
    "y = data_general['class']\n",
    "feature_names = X.columns\n",
    "print feature_names"
   ]
  },
  {
   "cell_type": "code",
   "execution_count": 89,
   "metadata": {},
   "outputs": [
    {
     "data": {
      "text/plain": [
       "(483, 41)"
      ]
     },
     "execution_count": 89,
     "metadata": {},
     "output_type": "execute_result"
    }
   ],
   "source": [
    "X.shape"
   ]
  },
  {
   "cell_type": "code",
   "execution_count": 90,
   "metadata": {},
   "outputs": [
    {
     "data": {
      "text/plain": [
       "(483L,)"
      ]
     },
     "execution_count": 90,
     "metadata": {},
     "output_type": "execute_result"
    }
   ],
   "source": [
    "y.shape"
   ]
  },
  {
   "cell_type": "code",
   "execution_count": 91,
   "metadata": {},
   "outputs": [
    {
     "name": "stdout",
     "output_type": "stream",
     "text": [
      "338 145\n"
     ]
    }
   ],
   "source": [
    "from sklearn.model_selection import train_test_split\n",
    "X_train, X_test, y_train, y_test = train_test_split(X, y, test_size = 0.3, random_state = 11)\n",
    "\n",
    "N_train, _ = X_train.shape \n",
    "N_test,  _ = X_test.shape \n",
    "print N_train, N_test"
   ]
  },
  {
   "cell_type": "code",
   "execution_count": 92,
   "metadata": {},
   "outputs": [
    {
     "name": "stdout",
     "output_type": "stream",
     "text": [
      "[]\n",
      "['A2', 'A3', 'A8', 'A11', 'A14', 'A15', 'A1', 'A9', 'A10', 'A12', 'A4_l', 'A4_u', 'A4_y', 'A5_g', 'A5_gg', 'A5_p', 'A6_aa', 'A6_c', 'A6_cc', 'A6_d', 'A6_e', 'A6_ff', 'A6_i', 'A6_j', 'A6_k', 'A6_m', 'A6_q', 'A6_r', 'A6_w', 'A6_x', 'A7_bb', 'A7_dd', 'A7_ff', 'A7_h', 'A7_j', 'A7_n', 'A7_v', 'A7_z', 'A13_g', 'A13_p', 'A13_s']\n"
     ]
    }
   ],
   "source": [
    "categorical_columns_X = [c for c in X.columns if X[c].dtype.name == 'object']\n",
    "numerical_columns_X   = [c for c in X.columns if X[c].dtype.name != 'object']\n",
    "print categorical_columns_X\n",
    "print numerical_columns_X"
   ]
  },
  {
   "cell_type": "code",
   "execution_count": 93,
   "metadata": {},
   "outputs": [
    {
     "data": {
      "text/plain": [
       "KNeighborsClassifier(algorithm='auto', leaf_size=30, metric='minkowski',\n",
       "           metric_params=None, n_jobs=None, n_neighbors=5, p=2,\n",
       "           weights='uniform')"
      ]
     },
     "execution_count": 93,
     "metadata": {},
     "output_type": "execute_result"
    }
   ],
   "source": [
    "from sklearn.neighbors import KNeighborsClassifier\n",
    "\n",
    "knn = KNeighborsClassifier()\n",
    "knn.fit(X_train, y_train)"
   ]
  },
  {
   "cell_type": "code",
   "execution_count": 94,
   "metadata": {},
   "outputs": [
    {
     "name": "stdout",
     "output_type": "stream",
     "text": [
      "0.13609467455621302 0.1793103448275862\n"
     ]
    }
   ],
   "source": [
    "y_train_predict = knn.predict(X_train)\n",
    "y_test_predict = knn.predict(X_test)\n",
    "\n",
    "err_train = np.mean(y_train != y_train_predict)\n",
    "err_test  = np.mean(y_test  != y_test_predict)\n",
    "print err_train, err_test"
   ]
  },
  {
   "cell_type": "code",
   "execution_count": 96,
   "metadata": {},
   "outputs": [
    {
     "name": "stderr",
     "output_type": "stream",
     "text": [
      "C:\\ProgramData\\Anaconda2\\lib\\site-packages\\sklearn\\model_selection\\_split.py:2053: FutureWarning: You should specify a value for 'cv' instead of relying on the default value. The default value will change from 3 to 5 in version 0.22.\n",
      "  warnings.warn(CV_WARNING, FutureWarning)\n"
     ]
    },
    {
     "name": "stdout",
     "output_type": "stream",
     "text": [
      "0.20414201183431957 7\n"
     ]
    }
   ],
   "source": [
    "from sklearn.model_selection import GridSearchCV\n",
    "\n",
    "n_neighbors_array = [1, 3, 5, 7, 10, 15]\n",
    "knn = KNeighborsClassifier()\n",
    "grid = GridSearchCV(knn, param_grid={'n_neighbors': n_neighbors_array})\n",
    "grid.fit(X_train, y_train)\n",
    "\n",
    "best_cv_err = 1 - grid.best_score_\n",
    "best_n_neighbors = grid.best_estimator_.n_neighbors\n",
    "print best_cv_err, best_n_neighbors"
   ]
  },
  {
   "cell_type": "code",
   "execution_count": 97,
   "metadata": {},
   "outputs": [
    {
     "name": "stdout",
     "output_type": "stream",
     "text": [
      "0.16568047337278108 0.1724137931034483\n"
     ]
    }
   ],
   "source": [
    "knn = KNeighborsClassifier(n_neighbors=best_n_neighbors)\n",
    "knn.fit(X_train, y_train)\n",
    "\n",
    "err_train = np.mean(y_train != knn.predict(X_train))\n",
    "err_test  = np.mean(y_test  != knn.predict(X_test))\n",
    "print err_train, err_test"
   ]
  },
  {
   "cell_type": "code",
   "execution_count": 98,
   "metadata": {},
   "outputs": [
    {
     "name": "stdout",
     "output_type": "stream",
     "text": [
      "0.12721893491124261 0.18620689655172415\n"
     ]
    },
    {
     "name": "stderr",
     "output_type": "stream",
     "text": [
      "C:\\ProgramData\\Anaconda2\\lib\\site-packages\\sklearn\\svm\\base.py:196: FutureWarning: The default value of gamma will change from 'auto' to 'scale' in version 0.22 to account better for unscaled features. Set gamma explicitly to 'auto' or 'scale' to avoid this warning.\n",
      "  \"avoid this warning.\", FutureWarning)\n"
     ]
    }
   ],
   "source": [
    "from sklearn.svm import SVC\n",
    "svc = SVC()\n",
    "svc.fit(X_train, y_train)\n",
    "\n",
    "err_train = np.mean(y_train != svc.predict(X_train))\n",
    "err_test  = np.mean(y_test  != svc.predict(X_test))\n",
    "print err_train, err_test"
   ]
  },
  {
   "cell_type": "code",
   "execution_count": 99,
   "metadata": {},
   "outputs": [
    {
     "name": "stdout",
     "output_type": "stream",
     "text": [
      "CV error    =  0.13313609467455623\n",
      "best C      =  100.0\n",
      "best gamma  =  0.01\n"
     ]
    },
    {
     "name": "stderr",
     "output_type": "stream",
     "text": [
      "C:\\ProgramData\\Anaconda2\\lib\\site-packages\\sklearn\\model_selection\\_search.py:841: DeprecationWarning: The default of the `iid` parameter will change from True to False in version 0.22 and will be removed in 0.24. This will change numeric results when test-set sizes are unequal.\n",
      "  DeprecationWarning)\n"
     ]
    }
   ],
   "source": [
    "C_array = np.logspace(-3, 3, num=7)\n",
    "gamma_array = np.logspace(-5, 2, num=8)\n",
    "svc = SVC(kernel='rbf')\n",
    "grid = GridSearchCV(svc, param_grid={'C': C_array, 'gamma': gamma_array})\n",
    "grid.fit(X_train, y_train)\n",
    "print 'CV error    = ', 1 - grid.best_score_\n",
    "print 'best C      = ', grid.best_estimator_.C\n",
    "print 'best gamma  = ', grid.best_estimator_.gamma"
   ]
  },
  {
   "cell_type": "code",
   "execution_count": 100,
   "metadata": {},
   "outputs": [
    {
     "name": "stdout",
     "output_type": "stream",
     "text": [
      "0.07100591715976332 0.2206896551724138\n"
     ]
    }
   ],
   "source": [
    "svc = SVC(kernel='rbf', C=grid.best_estimator_.C, gamma=grid.best_estimator_.gamma)\n",
    "svc.fit(X_train, y_train)\n",
    "\n",
    "err_train = np.mean(y_train != svc.predict(X_train))\n",
    "err_test  = np.mean(y_test  != svc.predict(X_test))\n",
    "print err_train, err_test"
   ]
  },
  {
   "cell_type": "code",
   "execution_count": 101,
   "metadata": {},
   "outputs": [
    {
     "name": "stdout",
     "output_type": "stream",
     "text": [
      "CV error    =  0.13905325443786987\n",
      "best C      =  0.1\n"
     ]
    },
    {
     "name": "stderr",
     "output_type": "stream",
     "text": [
      "C:\\ProgramData\\Anaconda2\\lib\\site-packages\\sklearn\\model_selection\\_search.py:841: DeprecationWarning: The default of the `iid` parameter will change from True to False in version 0.22 and will be removed in 0.24. This will change numeric results when test-set sizes are unequal.\n",
      "  DeprecationWarning)\n"
     ]
    }
   ],
   "source": [
    "C_array = np.logspace(-3, 3, num=7)\n",
    "svc = SVC(kernel='linear')\n",
    "grid = GridSearchCV(svc, param_grid={'C': C_array})\n",
    "grid.fit(X_train, y_train)\n",
    "print 'CV error    = ', 1 - grid.best_score_\n",
    "print 'best C      = ', grid.best_estimator_.C"
   ]
  },
  {
   "cell_type": "code",
   "execution_count": 102,
   "metadata": {},
   "outputs": [
    {
     "name": "stdout",
     "output_type": "stream",
     "text": [
      "0.13609467455621302 0.18620689655172415\n"
     ]
    }
   ],
   "source": [
    "svc = SVC(kernel='linear', C=grid.best_estimator_.C)\n",
    "svc.fit(X_train, y_train)\n",
    "\n",
    "err_train = np.mean(y_train != svc.predict(X_train))\n",
    "err_test  = np.mean(y_test  != svc.predict(X_test))\n",
    "print err_train, err_test"
   ]
  },
  {
   "cell_type": "code",
   "execution_count": 103,
   "metadata": {},
   "outputs": [
    {
     "name": "stdout",
     "output_type": "stream",
     "text": [
      "CV error    =  0.1449704142011834\n",
      "best C      =  0.0001\n",
      "best gamma  =  10.0\n",
      "best degree =  2\n"
     ]
    }
   ],
   "source": [
    "C_array = np.logspace(-5, 2, num=8)\n",
    "gamma_array = np.logspace(-5, 2, num=8)\n",
    "degree_array = [2, 3, 4]\n",
    "svc = SVC(kernel='poly')\n",
    "grid = GridSearchCV(svc, param_grid={'C': C_array, 'gamma': gamma_array, 'degree': degree_array})\n",
    "grid.fit(X_train, y_train)\n",
    "print 'CV error    = ', 1 - grid.best_score_\n",
    "print 'best C      = ', grid.best_estimator_.C\n",
    "print 'best gamma  = ', grid.best_estimator_.gamma\n",
    "print 'best degree = ', grid.best_estimator_.degree"
   ]
  },
  {
   "cell_type": "code",
   "execution_count": 104,
   "metadata": {},
   "outputs": [
    {
     "name": "stdout",
     "output_type": "stream",
     "text": [
      "0.09467455621301775 0.18620689655172415\n"
     ]
    }
   ],
   "source": [
    "svc = SVC(kernel='poly', C=grid.best_estimator_.C, \n",
    "          gamma=grid.best_estimator_.gamma, degree=grid.best_estimator_.degree)\n",
    "svc.fit(X_train, y_train)\n",
    "\n",
    "err_train = np.mean(y_train != svc.predict(X_train))\n",
    "err_test  = np.mean(y_test  != svc.predict(X_test))\n",
    "print err_train, err_test"
   ]
  },
  {
   "cell_type": "code",
   "execution_count": 106,
   "metadata": {},
   "outputs": [
    {
     "name": "stdout",
     "output_type": "stream",
     "text": [
      "0.0 0.15172413793103448\n"
     ]
    }
   ],
   "source": [
    "from sklearn import ensemble\n",
    "rf = ensemble.RandomForestClassifier(n_estimators=100, random_state=11)\n",
    "rf.fit(X_train, y_train)\n",
    "\n",
    "err_train = np.mean(y_train != rf.predict(X_train))\n",
    "err_test  = np.mean(y_test  != rf.predict(X_test))\n",
    "print err_train, err_test"
   ]
  },
  {
   "cell_type": "code",
   "execution_count": 107,
   "metadata": {},
   "outputs": [
    {
     "name": "stdout",
     "output_type": "stream",
     "text": [
      "Feature importances:\n",
      " 1. feature 'A9   ' (0.2593)\n",
      " 2. feature 'A8   ' (0.1075)\n",
      " 3. feature 'A14  ' (0.0796)\n",
      " 4. feature 'A15  ' (0.0756)\n",
      " 5. feature 'A11  ' (0.0750)\n",
      " 6. feature 'A2   ' (0.0726)\n",
      " 7. feature 'A3   ' (0.0698)\n",
      " 8. feature 'A10  ' (0.0517)\n",
      " 9. feature 'A6_x ' (0.0168)\n",
      "10. feature 'A1   ' (0.0146)\n",
      "11. feature 'A7_h ' (0.0129)\n",
      "12. feature 'A6_cc' (0.0123)\n",
      "13. feature 'A12  ' (0.0122)\n",
      "14. feature 'A6_q ' (0.0105)\n",
      "15. feature 'A7_v ' (0.0090)\n",
      "16. feature 'A6_ff' (0.0086)\n",
      "17. feature 'A4_y ' (0.0084)\n",
      "18. feature 'A6_i ' (0.0083)\n",
      "19. feature 'A6_w ' (0.0082)\n",
      "20. feature 'A6_k ' (0.0079)\n",
      "21. feature 'A7_ff' (0.0076)\n",
      "22. feature 'A5_p ' (0.0074)\n",
      "23. feature 'A6_c ' (0.0073)\n",
      "24. feature 'A4_u ' (0.0070)\n",
      "25. feature 'A5_g ' (0.0070)\n",
      "26. feature 'A13_g' (0.0057)\n",
      "27. feature 'A13_s' (0.0057)\n",
      "28. feature 'A6_aa' (0.0049)\n",
      "29. feature 'A7_bb' (0.0047)\n",
      "30. feature 'A6_m ' (0.0034)\n",
      "31. feature 'A6_d ' (0.0034)\n",
      "32. feature 'A6_e ' (0.0029)\n",
      "33. feature 'A7_n ' (0.0029)\n",
      "34. feature 'A6_j ' (0.0018)\n",
      "35. feature 'A7_j ' (0.0015)\n",
      "36. feature 'A13_p' (0.0015)\n",
      "37. feature 'A4_l ' (0.0014)\n",
      "38. feature 'A7_z ' (0.0014)\n",
      "39. feature 'A5_gg' (0.0012)\n",
      "40. feature 'A7_dd' (0.0008)\n",
      "41. feature 'A6_r ' (0.0000)\n"
     ]
    }
   ],
   "source": [
    "importances = rf.feature_importances_\n",
    "indices = np.argsort(importances)[::-1]\n",
    "\n",
    "print(\"Feature importances:\")\n",
    "for f, idx in enumerate(indices):\n",
    "    print(\"{:2d}. feature '{:5s}' ({:.4f})\".format(f + 1, feature_names[idx], importances[idx]))"
   ]
  },
  {
   "cell_type": "code",
   "execution_count": 108,
   "metadata": {},
   "outputs": [
    {
     "data": {
      "image/png": "[encoded data removed]",
      "text/plain": [
       "<Figure size 576x576 with 1 Axes>"
      ]
     },
     "metadata": {
      "needs_background": "light"
     },
     "output_type": "display_data"
    }
   ],
   "source": [
    "d_first = 20\n",
    "plt.figure(figsize=(8, 8))\n",
    "plt.title(\"Feature importances\")\n",
    "plt.bar(range(d_first), importances[indices[:d_first]], align='center')\n",
    "plt.xticks(range(d_first), np.array(feature_names)[indices[:d_first]], rotation=90)\n",
    "plt.xlim([-1, d_first]);"
   ]
  },
  {
   "cell_type": "code",
   "execution_count": 109,
   "metadata": {},
   "outputs": [
    {
     "name": "stdout",
     "output_type": "stream",
     "text": [
      "Index([u'A9', u'A8', u'A14', u'A15', u'A11', u'A2', u'A3', u'A10'], dtype='object')\n"
     ]
    }
   ],
   "source": [
    "best_features = indices[:8]\n",
    "best_features_names = feature_names[best_features]\n",
    "print(best_features_names)"
   ]
  },
  {
   "cell_type": "code",
   "execution_count": 110,
   "metadata": {},
   "outputs": [
    {
     "name": "stdout",
     "output_type": "stream",
     "text": [
      "0.011834319526627219 0.20689655172413793\n"
     ]
    }
   ],
   "source": [
    "gbt = ensemble.GradientBoostingClassifier(n_estimators=100, random_state=11)\n",
    "gbt.fit(X_train, y_train)\n",
    "\n",
    "err_train = np.mean(y_train != gbt.predict(X_train))\n",
    "err_test = np.mean(y_test != gbt.predict(X_test))\n",
    "print err_train, err_test"
   ]
  },
  {
   "cell_type": "code",
   "execution_count": 111,
   "metadata": {},
   "outputs": [
    {
     "name": "stdout",
     "output_type": "stream",
     "text": [
      "0.011834319526627219 0.19310344827586207\n"
     ]
    }
   ],
   "source": [
    "gbt = ensemble.GradientBoostingClassifier(n_estimators=100, random_state=11)\n",
    "gbt.fit(X_train[best_features_names], y_train)\n",
    "\n",
    "err_train = np.mean(y_train != gbt.predict(X_train[best_features_names]))\n",
    "err_test = np.mean(y_test != gbt.predict(X_test[best_features_names]))\n",
    "print err_train, err_test"
   ]
  },
  {
   "cell_type": "code",
   "execution_count": 112,
   "metadata": {},
   "outputs": [
    {
     "name": "stdout",
     "output_type": "stream",
     "text": [
      "0.0 0.15172413793103448\n"
     ]
    }
   ],
   "source": [
    "rf = ensemble.RandomForestClassifier(n_estimators=100, random_state=11)\n",
    "rf.fit(X_train, y_train)\n",
    "\n",
    "err_train = np.mean(y_train != rf.predict(X_train))\n",
    "err_test  = np.mean(y_test  != rf.predict(X_test))\n",
    "print err_train, err_test"
   ]
  },
  {
   "cell_type": "code",
   "execution_count": 115,
   "metadata": {},
   "outputs": [
    {
     "name": "stdout",
     "output_type": "stream",
     "text": [
      "{'max_features': 'auto', 'n_estimators': 100}\n"
     ]
    },
    {
     "name": "stderr",
     "output_type": "stream",
     "text": [
      "C:\\ProgramData\\Anaconda2\\lib\\site-packages\\sklearn\\model_selection\\_search.py:841: DeprecationWarning: The default of the `iid` parameter will change from True to False in version 0.22 and will be removed in 0.24. This will change numeric results when test-set sizes are unequal.\n",
      "  DeprecationWarning)\n"
     ]
    }
   ],
   "source": [
    "param_grid = { \n",
    "    'n_estimators': [50, 100],\n",
    "    'max_features': ['auto', 'sqrt', 'log2']\n",
    "}\n",
    "\n",
    "CV_rfc = GridSearchCV(estimator=rf, param_grid=param_grid, cv= 5)\n",
    "CV_rfc.fit(X_train, y_train)\n",
    "print CV_rfc.best_params_"
   ]
  },
  {
   "cell_type": "code",
   "execution_count": 122,
   "metadata": {},
   "outputs": [
    {
     "name": "stdout",
     "output_type": "stream",
     "text": [
      "0.0 0.14482758620689656\n"
     ]
    }
   ],
   "source": [
    "rf = ensemble.RandomForestClassifier(n_estimators=50, max_features= 'auto' , random_state=11)\n",
    "rf.fit(X_train, y_train)\n",
    "\n",
    "err_train = np.mean(y_train != rf.predict(X_train))\n",
    "err_test  = np.mean(y_test  != rf.predict(X_test))\n",
    "print err_train, err_test"
   ]
  },
  {
   "cell_type": "code",
   "execution_count": null,
   "metadata": {},
   "outputs": [],
   "source": [
    "rf = ensemble.RandomForestClassifier(n_estimators=50, max_features= 'auto' , random_state=11)\n",
    "rf.fit(X, y)\n"
   ]
  },
  {
   "cell_type": "code",
   "execution_count": 124,
   "metadata": {},
   "outputs": [
    {
     "data": {
      "text/html": [
       "<div>\n",
       "<style scoped>\n",
       "    .dataframe tbody tr th:only-of-type {\n",
       "        vertical-align: middle;\n",
       "    }\n",
       "\n",
       "    .dataframe tbody tr th {\n",
       "        vertical-align: top;\n",
       "    }\n",
       "\n",
       "    .dataframe thead th {\n",
       "        text-align: right;\n",
       "    }\n",
       "</style>\n",
       "<table border=\"1\" class=\"dataframe\">\n",
       "  <thead>\n",
       "    <tr style=\"text-align: right;\">\n",
       "      <th></th>\n",
       "      <th>0</th>\n",
       "      <th>1</th>\n",
       "      <th>2</th>\n",
       "      <th>3</th>\n",
       "      <th>4</th>\n",
       "      <th>5</th>\n",
       "      <th>6</th>\n",
       "      <th>7</th>\n",
       "      <th>8</th>\n",
       "      <th>9</th>\n",
       "      <th>10</th>\n",
       "      <th>11</th>\n",
       "      <th>12</th>\n",
       "      <th>13</th>\n",
       "      <th>14</th>\n",
       "    </tr>\n",
       "  </thead>\n",
       "  <tbody>\n",
       "    <tr>\n",
       "      <th>0</th>\n",
       "      <td>b</td>\n",
       "      <td>26.67</td>\n",
       "      <td>2.710</td>\n",
       "      <td>y</td>\n",
       "      <td>p</td>\n",
       "      <td>cc</td>\n",
       "      <td>v</td>\n",
       "      <td>5.25</td>\n",
       "      <td>t</td>\n",
       "      <td>t</td>\n",
       "      <td>1</td>\n",
       "      <td>f</td>\n",
       "      <td>g</td>\n",
       "      <td>211.0</td>\n",
       "      <td>0</td>\n",
       "    </tr>\n",
       "    <tr>\n",
       "      <th>1</th>\n",
       "      <td>b</td>\n",
       "      <td>44.25</td>\n",
       "      <td>11.000</td>\n",
       "      <td>y</td>\n",
       "      <td>p</td>\n",
       "      <td>d</td>\n",
       "      <td>v</td>\n",
       "      <td>1.50</td>\n",
       "      <td>t</td>\n",
       "      <td>f</td>\n",
       "      <td>0</td>\n",
       "      <td>f</td>\n",
       "      <td>s</td>\n",
       "      <td>0.0</td>\n",
       "      <td>0</td>\n",
       "    </tr>\n",
       "    <tr>\n",
       "      <th>2</th>\n",
       "      <td>b</td>\n",
       "      <td>19.58</td>\n",
       "      <td>0.585</td>\n",
       "      <td>u</td>\n",
       "      <td>g</td>\n",
       "      <td>ff</td>\n",
       "      <td>ff</td>\n",
       "      <td>0.00</td>\n",
       "      <td>f</td>\n",
       "      <td>t</td>\n",
       "      <td>3</td>\n",
       "      <td>f</td>\n",
       "      <td>g</td>\n",
       "      <td>350.0</td>\n",
       "      <td>769</td>\n",
       "    </tr>\n",
       "    <tr>\n",
       "      <th>3</th>\n",
       "      <td>a</td>\n",
       "      <td>41.33</td>\n",
       "      <td>1.000</td>\n",
       "      <td>u</td>\n",
       "      <td>g</td>\n",
       "      <td>i</td>\n",
       "      <td>bb</td>\n",
       "      <td>2.25</td>\n",
       "      <td>t</td>\n",
       "      <td>f</td>\n",
       "      <td>0</td>\n",
       "      <td>t</td>\n",
       "      <td>g</td>\n",
       "      <td>0.0</td>\n",
       "      <td>300</td>\n",
       "    </tr>\n",
       "    <tr>\n",
       "      <th>4</th>\n",
       "      <td>a</td>\n",
       "      <td>45.00</td>\n",
       "      <td>4.585</td>\n",
       "      <td>u</td>\n",
       "      <td>g</td>\n",
       "      <td>k</td>\n",
       "      <td>h</td>\n",
       "      <td>1.00</td>\n",
       "      <td>f</td>\n",
       "      <td>f</td>\n",
       "      <td>0</td>\n",
       "      <td>t</td>\n",
       "      <td>s</td>\n",
       "      <td>240.0</td>\n",
       "      <td>0</td>\n",
       "    </tr>\n",
       "  </tbody>\n",
       "</table>\n",
       "</div>"
      ],
      "text/plain": [
       "  0      1       2  3  4   5   6     7  8  9   10 11 12     13   14\n",
       "0  b  26.67   2.710  y  p  cc   v  5.25  t  t   1  f  g  211.0    0\n",
       "1  b  44.25  11.000  y  p   d   v  1.50  t  f   0  f  s    0.0    0\n",
       "2  b  19.58   0.585  u  g  ff  ff  0.00  f  t   3  f  g  350.0  769\n",
       "3  a  41.33   1.000  u  g   i  bb  2.25  t  f   0  t  g    0.0  300\n",
       "4  a  45.00   4.585  u  g   k   h  1.00  f  f   0  t  s  240.0    0"
      ]
     },
     "execution_count": 124,
     "metadata": {},
     "output_type": "execute_result"
    }
   ],
   "source": [
    "work_y = pd.read_csv('crx_data_test_x.csv', header=None, na_values='?')\n",
    "work_y.head()"
   ]
  },
  {
   "cell_type": "code",
   "execution_count": 125,
   "metadata": {},
   "outputs": [
    {
     "data": {
      "text/html": [
       "<div>\n",
       "<style scoped>\n",
       "    .dataframe tbody tr th:only-of-type {\n",
       "        vertical-align: middle;\n",
       "    }\n",
       "\n",
       "    .dataframe tbody tr th {\n",
       "        vertical-align: top;\n",
       "    }\n",
       "\n",
       "    .dataframe thead th {\n",
       "        text-align: right;\n",
       "    }\n",
       "</style>\n",
       "<table border=\"1\" class=\"dataframe\">\n",
       "  <thead>\n",
       "    <tr style=\"text-align: right;\">\n",
       "      <th></th>\n",
       "      <th>0</th>\n",
       "    </tr>\n",
       "  </thead>\n",
       "  <tbody>\n",
       "    <tr>\n",
       "      <th>0</th>\n",
       "      <td>0</td>\n",
       "    </tr>\n",
       "    <tr>\n",
       "      <th>1</th>\n",
       "      <td>1</td>\n",
       "    </tr>\n",
       "    <tr>\n",
       "      <th>2</th>\n",
       "      <td>0</td>\n",
       "    </tr>\n",
       "    <tr>\n",
       "      <th>3</th>\n",
       "      <td>1</td>\n",
       "    </tr>\n",
       "    <tr>\n",
       "      <th>4</th>\n",
       "      <td>0</td>\n",
       "    </tr>\n",
       "  </tbody>\n",
       "</table>\n",
       "</div>"
      ],
      "text/plain": [
       "   0\n",
       "0  0\n",
       "1  1\n",
       "2  0\n",
       "3  1\n",
       "4  0"
      ]
     },
     "execution_count": 125,
     "metadata": {},
     "output_type": "execute_result"
    }
   ],
   "source": [
    "example_y = pd.read_csv('submission_example.txt', header=None, na_values='?')\n",
    "example_y.head()"
   ]
  },
  {
   "cell_type": "code",
   "execution_count": 126,
   "metadata": {},
   "outputs": [
    {
     "data": {
      "text/plain": [
       "(207, 15)"
      ]
     },
     "execution_count": 126,
     "metadata": {},
     "output_type": "execute_result"
    }
   ],
   "source": [
    "work_y.shape"
   ]
  },
  {
   "cell_type": "code",
   "execution_count": 127,
   "metadata": {},
   "outputs": [
    {
     "data": {
      "text/html": [
       "<div>\n",
       "<style scoped>\n",
       "    .dataframe tbody tr th:only-of-type {\n",
       "        vertical-align: middle;\n",
       "    }\n",
       "\n",
       "    .dataframe tbody tr th {\n",
       "        vertical-align: top;\n",
       "    }\n",
       "\n",
       "    .dataframe thead th {\n",
       "        text-align: right;\n",
       "    }\n",
       "</style>\n",
       "<table border=\"1\" class=\"dataframe\">\n",
       "  <thead>\n",
       "    <tr style=\"text-align: right;\">\n",
       "      <th></th>\n",
       "      <th>A1</th>\n",
       "      <th>A2</th>\n",
       "      <th>A3</th>\n",
       "      <th>A4</th>\n",
       "      <th>A5</th>\n",
       "      <th>A6</th>\n",
       "      <th>A7</th>\n",
       "      <th>A8</th>\n",
       "      <th>A9</th>\n",
       "      <th>A10</th>\n",
       "      <th>A11</th>\n",
       "      <th>A12</th>\n",
       "      <th>A13</th>\n",
       "      <th>A14</th>\n",
       "      <th>A15</th>\n",
       "    </tr>\n",
       "  </thead>\n",
       "  <tbody>\n",
       "    <tr>\n",
       "      <th>0</th>\n",
       "      <td>b</td>\n",
       "      <td>26.67</td>\n",
       "      <td>2.710</td>\n",
       "      <td>y</td>\n",
       "      <td>p</td>\n",
       "      <td>cc</td>\n",
       "      <td>v</td>\n",
       "      <td>5.25</td>\n",
       "      <td>t</td>\n",
       "      <td>t</td>\n",
       "      <td>1</td>\n",
       "      <td>f</td>\n",
       "      <td>g</td>\n",
       "      <td>211.0</td>\n",
       "      <td>0</td>\n",
       "    </tr>\n",
       "    <tr>\n",
       "      <th>1</th>\n",
       "      <td>b</td>\n",
       "      <td>44.25</td>\n",
       "      <td>11.000</td>\n",
       "      <td>y</td>\n",
       "      <td>p</td>\n",
       "      <td>d</td>\n",
       "      <td>v</td>\n",
       "      <td>1.50</td>\n",
       "      <td>t</td>\n",
       "      <td>f</td>\n",
       "      <td>0</td>\n",
       "      <td>f</td>\n",
       "      <td>s</td>\n",
       "      <td>0.0</td>\n",
       "      <td>0</td>\n",
       "    </tr>\n",
       "    <tr>\n",
       "      <th>2</th>\n",
       "      <td>b</td>\n",
       "      <td>19.58</td>\n",
       "      <td>0.585</td>\n",
       "      <td>u</td>\n",
       "      <td>g</td>\n",
       "      <td>ff</td>\n",
       "      <td>ff</td>\n",
       "      <td>0.00</td>\n",
       "      <td>f</td>\n",
       "      <td>t</td>\n",
       "      <td>3</td>\n",
       "      <td>f</td>\n",
       "      <td>g</td>\n",
       "      <td>350.0</td>\n",
       "      <td>769</td>\n",
       "    </tr>\n",
       "    <tr>\n",
       "      <th>3</th>\n",
       "      <td>a</td>\n",
       "      <td>41.33</td>\n",
       "      <td>1.000</td>\n",
       "      <td>u</td>\n",
       "      <td>g</td>\n",
       "      <td>i</td>\n",
       "      <td>bb</td>\n",
       "      <td>2.25</td>\n",
       "      <td>t</td>\n",
       "      <td>f</td>\n",
       "      <td>0</td>\n",
       "      <td>t</td>\n",
       "      <td>g</td>\n",
       "      <td>0.0</td>\n",
       "      <td>300</td>\n",
       "    </tr>\n",
       "    <tr>\n",
       "      <th>4</th>\n",
       "      <td>a</td>\n",
       "      <td>45.00</td>\n",
       "      <td>4.585</td>\n",
       "      <td>u</td>\n",
       "      <td>g</td>\n",
       "      <td>k</td>\n",
       "      <td>h</td>\n",
       "      <td>1.00</td>\n",
       "      <td>f</td>\n",
       "      <td>f</td>\n",
       "      <td>0</td>\n",
       "      <td>t</td>\n",
       "      <td>s</td>\n",
       "      <td>240.0</td>\n",
       "      <td>0</td>\n",
       "    </tr>\n",
       "  </tbody>\n",
       "</table>\n",
       "</div>"
      ],
      "text/plain": [
       "  A1     A2      A3 A4 A5  A6  A7    A8 A9 A10  A11 A12 A13    A14  A15\n",
       "0  b  26.67   2.710  y  p  cc   v  5.25  t   t    1   f   g  211.0    0\n",
       "1  b  44.25  11.000  y  p   d   v  1.50  t   f    0   f   s    0.0    0\n",
       "2  b  19.58   0.585  u  g  ff  ff  0.00  f   t    3   f   g  350.0  769\n",
       "3  a  41.33   1.000  u  g   i  bb  2.25  t   f    0   t   g    0.0  300\n",
       "4  a  45.00   4.585  u  g   k   h  1.00  f   f    0   t   s  240.0    0"
      ]
     },
     "execution_count": 127,
     "metadata": {},
     "output_type": "execute_result"
    }
   ],
   "source": [
    "work_y.columns = ['A' + str(i) for i in range(1, 16)]\n",
    "work_y.head()"
   ]
  },
  {
   "cell_type": "code",
   "execution_count": 128,
   "metadata": {},
   "outputs": [
    {
     "data": {
      "text/html": [
       "<div>\n",
       "<style scoped>\n",
       "    .dataframe tbody tr th:only-of-type {\n",
       "        vertical-align: middle;\n",
       "    }\n",
       "\n",
       "    .dataframe tbody tr th {\n",
       "        vertical-align: top;\n",
       "    }\n",
       "\n",
       "    .dataframe thead th {\n",
       "        text-align: right;\n",
       "    }\n",
       "</style>\n",
       "<table border=\"1\" class=\"dataframe\">\n",
       "  <thead>\n",
       "    <tr style=\"text-align: right;\">\n",
       "      <th></th>\n",
       "      <th>A2</th>\n",
       "      <th>A3</th>\n",
       "      <th>A8</th>\n",
       "      <th>A11</th>\n",
       "      <th>A14</th>\n",
       "      <th>A15</th>\n",
       "    </tr>\n",
       "  </thead>\n",
       "  <tbody>\n",
       "    <tr>\n",
       "      <th>count</th>\n",
       "      <td>202.000000</td>\n",
       "      <td>207.000000</td>\n",
       "      <td>207.000000</td>\n",
       "      <td>207.000000</td>\n",
       "      <td>200.000000</td>\n",
       "      <td>207.000000</td>\n",
       "    </tr>\n",
       "    <tr>\n",
       "      <th>mean</th>\n",
       "      <td>31.598119</td>\n",
       "      <td>4.671618</td>\n",
       "      <td>2.345290</td>\n",
       "      <td>2.429952</td>\n",
       "      <td>181.710000</td>\n",
       "      <td>1172.285024</td>\n",
       "    </tr>\n",
       "    <tr>\n",
       "      <th>std</th>\n",
       "      <td>11.750332</td>\n",
       "      <td>4.650777</td>\n",
       "      <td>3.338027</td>\n",
       "      <td>5.896656</td>\n",
       "      <td>192.558641</td>\n",
       "      <td>7184.841681</td>\n",
       "    </tr>\n",
       "    <tr>\n",
       "      <th>min</th>\n",
       "      <td>15.830000</td>\n",
       "      <td>0.000000</td>\n",
       "      <td>0.000000</td>\n",
       "      <td>0.000000</td>\n",
       "      <td>0.000000</td>\n",
       "      <td>0.000000</td>\n",
       "    </tr>\n",
       "    <tr>\n",
       "      <th>25%</th>\n",
       "      <td>22.542500</td>\n",
       "      <td>1.105000</td>\n",
       "      <td>0.165000</td>\n",
       "      <td>0.000000</td>\n",
       "      <td>60.000000</td>\n",
       "      <td>0.000000</td>\n",
       "    </tr>\n",
       "    <tr>\n",
       "      <th>50%</th>\n",
       "      <td>28.250000</td>\n",
       "      <td>2.750000</td>\n",
       "      <td>1.165000</td>\n",
       "      <td>0.000000</td>\n",
       "      <td>160.000000</td>\n",
       "      <td>2.000000</td>\n",
       "    </tr>\n",
       "    <tr>\n",
       "      <th>75%</th>\n",
       "      <td>38.022500</td>\n",
       "      <td>7.000000</td>\n",
       "      <td>3.000000</td>\n",
       "      <td>2.000000</td>\n",
       "      <td>265.250000</td>\n",
       "      <td>300.000000</td>\n",
       "    </tr>\n",
       "    <tr>\n",
       "      <th>max</th>\n",
       "      <td>69.170000</td>\n",
       "      <td>22.000000</td>\n",
       "      <td>20.000000</td>\n",
       "      <td>67.000000</td>\n",
       "      <td>2000.000000</td>\n",
       "      <td>100000.000000</td>\n",
       "    </tr>\n",
       "  </tbody>\n",
       "</table>\n",
       "</div>"
      ],
      "text/plain": [
       "               A2          A3          A8         A11          A14  \\\n",
       "count  202.000000  207.000000  207.000000  207.000000   200.000000   \n",
       "mean    31.598119    4.671618    2.345290    2.429952   181.710000   \n",
       "std     11.750332    4.650777    3.338027    5.896656   192.558641   \n",
       "min     15.830000    0.000000    0.000000    0.000000     0.000000   \n",
       "25%     22.542500    1.105000    0.165000    0.000000    60.000000   \n",
       "50%     28.250000    2.750000    1.165000    0.000000   160.000000   \n",
       "75%     38.022500    7.000000    3.000000    2.000000   265.250000   \n",
       "max     69.170000   22.000000   20.000000   67.000000  2000.000000   \n",
       "\n",
       "                 A15  \n",
       "count     207.000000  \n",
       "mean     1172.285024  \n",
       "std      7184.841681  \n",
       "min         0.000000  \n",
       "25%         0.000000  \n",
       "50%         2.000000  \n",
       "75%       300.000000  \n",
       "max    100000.000000  "
      ]
     },
     "execution_count": 128,
     "metadata": {},
     "output_type": "execute_result"
    }
   ],
   "source": [
    "work_y.describe()"
   ]
  },
  {
   "cell_type": "code",
   "execution_count": 129,
   "metadata": {},
   "outputs": [
    {
     "name": "stdout",
     "output_type": "stream",
     "text": [
      "['A1', 'A4', 'A5', 'A6', 'A7', 'A9', 'A10', 'A12', 'A13']\n",
      "['A2', 'A3', 'A8', 'A11', 'A14', 'A15']\n"
     ]
    }
   ],
   "source": [
    "categorical_columns = [c for c in work_y.columns if work_y[c].dtype.name == 'object']\n",
    "numerical_columns   = [c for c in work_y.columns if work_y[c].dtype.name != 'object']\n",
    "print categorical_columns\n",
    "print numerical_columns"
   ]
  },
  {
   "cell_type": "code",
   "execution_count": 130,
   "metadata": {},
   "outputs": [
    {
     "data": {
      "text/html": [
       "<div>\n",
       "<style scoped>\n",
       "    .dataframe tbody tr th:only-of-type {\n",
       "        vertical-align: middle;\n",
       "    }\n",
       "\n",
       "    .dataframe tbody tr th {\n",
       "        vertical-align: top;\n",
       "    }\n",
       "\n",
       "    .dataframe thead th {\n",
       "        text-align: right;\n",
       "    }\n",
       "</style>\n",
       "<table border=\"1\" class=\"dataframe\">\n",
       "  <thead>\n",
       "    <tr style=\"text-align: right;\">\n",
       "      <th></th>\n",
       "      <th>A1</th>\n",
       "      <th>A4</th>\n",
       "      <th>A5</th>\n",
       "      <th>A6</th>\n",
       "      <th>A7</th>\n",
       "      <th>A9</th>\n",
       "      <th>A10</th>\n",
       "      <th>A12</th>\n",
       "      <th>A13</th>\n",
       "    </tr>\n",
       "  </thead>\n",
       "  <tbody>\n",
       "    <tr>\n",
       "      <th>count</th>\n",
       "      <td>202</td>\n",
       "      <td>205</td>\n",
       "      <td>205</td>\n",
       "      <td>204</td>\n",
       "      <td>204</td>\n",
       "      <td>207</td>\n",
       "      <td>207</td>\n",
       "      <td>207</td>\n",
       "      <td>207</td>\n",
       "    </tr>\n",
       "    <tr>\n",
       "      <th>unique</th>\n",
       "      <td>2</td>\n",
       "      <td>3</td>\n",
       "      <td>3</td>\n",
       "      <td>14</td>\n",
       "      <td>9</td>\n",
       "      <td>2</td>\n",
       "      <td>2</td>\n",
       "      <td>2</td>\n",
       "      <td>3</td>\n",
       "    </tr>\n",
       "    <tr>\n",
       "      <th>top</th>\n",
       "      <td>b</td>\n",
       "      <td>u</td>\n",
       "      <td>g</td>\n",
       "      <td>c</td>\n",
       "      <td>v</td>\n",
       "      <td>f</td>\n",
       "      <td>f</td>\n",
       "      <td>f</td>\n",
       "      <td>g</td>\n",
       "    </tr>\n",
       "    <tr>\n",
       "      <th>freq</th>\n",
       "      <td>139</td>\n",
       "      <td>155</td>\n",
       "      <td>155</td>\n",
       "      <td>46</td>\n",
       "      <td>120</td>\n",
       "      <td>107</td>\n",
       "      <td>125</td>\n",
       "      <td>121</td>\n",
       "      <td>186</td>\n",
       "    </tr>\n",
       "  </tbody>\n",
       "</table>\n",
       "</div>"
      ],
      "text/plain": [
       "         A1   A4   A5   A6   A7   A9  A10  A12  A13\n",
       "count   202  205  205  204  204  207  207  207  207\n",
       "unique    2    3    3   14    9    2    2    2    3\n",
       "top       b    u    g    c    v    f    f    f    g\n",
       "freq    139  155  155   46  120  107  125  121  186"
      ]
     },
     "execution_count": 130,
     "metadata": {},
     "output_type": "execute_result"
    }
   ],
   "source": [
    "work_y[categorical_columns].describe()"
   ]
  },
  {
   "cell_type": "code",
   "execution_count": 131,
   "metadata": {},
   "outputs": [
    {
     "name": "stdout",
     "output_type": "stream",
     "text": [
      "['b' 'a' nan]\n",
      "['y' 'u' nan 'l']\n",
      "['p' 'g' nan 'gg']\n",
      "['cc' 'd' 'ff' 'i' 'k' 'aa' 'w' 'm' 'j' 'x' 'e' nan 'c' 'q' 'r']\n",
      "['v' 'ff' 'bb' 'h' 'j' nan 'z' 'o' 'n' 'dd']\n",
      "['t' 'f']\n",
      "['t' 'f']\n",
      "['f' 't']\n",
      "['g' 's' 'p']\n"
     ]
    }
   ],
   "source": [
    "for c in categorical_columns:\n",
    "    print work_y[c].unique()"
   ]
  },
  {
   "cell_type": "code",
   "execution_count": 132,
   "metadata": {},
   "outputs": [
    {
     "data": {
      "text/plain": [
       "A1     202\n",
       "A2     202\n",
       "A3     207\n",
       "A4     205\n",
       "A5     205\n",
       "A6     204\n",
       "A7     204\n",
       "A8     207\n",
       "A9     207\n",
       "A10    207\n",
       "A11    207\n",
       "A12    207\n",
       "A13    207\n",
       "A14    200\n",
       "A15    207\n",
       "dtype: int64"
      ]
     },
     "execution_count": 132,
     "metadata": {},
     "output_type": "execute_result"
    }
   ],
   "source": [
    "work_y.count(axis=0)"
   ]
  },
  {
   "cell_type": "code",
   "execution_count": 133,
   "metadata": {},
   "outputs": [
    {
     "data": {
      "text/plain": [
       "A1     202\n",
       "A2     207\n",
       "A3     207\n",
       "A4     205\n",
       "A5     205\n",
       "A6     204\n",
       "A7     204\n",
       "A8     207\n",
       "A9     207\n",
       "A10    207\n",
       "A11    207\n",
       "A12    207\n",
       "A13    207\n",
       "A14    207\n",
       "A15    207\n",
       "dtype: int64"
      ]
     },
     "execution_count": 133,
     "metadata": {},
     "output_type": "execute_result"
    }
   ],
   "source": [
    "work_y = work_y.fillna(work_y.median(axis=0), axis=0)\n",
    "work_y.count(axis=0)"
   ]
  },
  {
   "cell_type": "code",
   "execution_count": 134,
   "metadata": {},
   "outputs": [],
   "source": [
    "work_y_describe = work_y.describe(include=[object])\n",
    "for c in categorical_columns:\n",
    "    work_y[c] = work_y[c].fillna(work_y_describe[c]['top'])"
   ]
  },
  {
   "cell_type": "code",
   "execution_count": 135,
   "metadata": {},
   "outputs": [
    {
     "data": {
      "text/plain": [
       "A1     207\n",
       "A2     207\n",
       "A3     207\n",
       "A4     207\n",
       "A5     207\n",
       "A6     207\n",
       "A7     207\n",
       "A8     207\n",
       "A9     207\n",
       "A10    207\n",
       "A11    207\n",
       "A12    207\n",
       "A13    207\n",
       "A14    207\n",
       "A15    207\n",
       "dtype: int64"
      ]
     },
     "execution_count": 135,
     "metadata": {},
     "output_type": "execute_result"
    }
   ],
   "source": [
    "work_y.count(axis=0)"
   ]
  },
  {
   "cell_type": "code",
   "execution_count": 136,
   "metadata": {},
   "outputs": [
    {
     "data": {
      "text/html": [
       "<div>\n",
       "<style scoped>\n",
       "    .dataframe tbody tr th:only-of-type {\n",
       "        vertical-align: middle;\n",
       "    }\n",
       "\n",
       "    .dataframe tbody tr th {\n",
       "        vertical-align: top;\n",
       "    }\n",
       "\n",
       "    .dataframe thead th {\n",
       "        text-align: right;\n",
       "    }\n",
       "</style>\n",
       "<table border=\"1\" class=\"dataframe\">\n",
       "  <thead>\n",
       "    <tr style=\"text-align: right;\">\n",
       "      <th></th>\n",
       "      <th>A1</th>\n",
       "      <th>A4</th>\n",
       "      <th>A5</th>\n",
       "      <th>A6</th>\n",
       "      <th>A7</th>\n",
       "      <th>A9</th>\n",
       "      <th>A10</th>\n",
       "      <th>A12</th>\n",
       "      <th>A13</th>\n",
       "    </tr>\n",
       "  </thead>\n",
       "  <tbody>\n",
       "    <tr>\n",
       "      <th>count</th>\n",
       "      <td>207</td>\n",
       "      <td>207</td>\n",
       "      <td>207</td>\n",
       "      <td>207</td>\n",
       "      <td>207</td>\n",
       "      <td>207</td>\n",
       "      <td>207</td>\n",
       "      <td>207</td>\n",
       "      <td>207</td>\n",
       "    </tr>\n",
       "    <tr>\n",
       "      <th>unique</th>\n",
       "      <td>2</td>\n",
       "      <td>3</td>\n",
       "      <td>3</td>\n",
       "      <td>14</td>\n",
       "      <td>9</td>\n",
       "      <td>2</td>\n",
       "      <td>2</td>\n",
       "      <td>2</td>\n",
       "      <td>3</td>\n",
       "    </tr>\n",
       "    <tr>\n",
       "      <th>top</th>\n",
       "      <td>b</td>\n",
       "      <td>u</td>\n",
       "      <td>g</td>\n",
       "      <td>c</td>\n",
       "      <td>v</td>\n",
       "      <td>f</td>\n",
       "      <td>f</td>\n",
       "      <td>f</td>\n",
       "      <td>g</td>\n",
       "    </tr>\n",
       "    <tr>\n",
       "      <th>freq</th>\n",
       "      <td>144</td>\n",
       "      <td>157</td>\n",
       "      <td>157</td>\n",
       "      <td>49</td>\n",
       "      <td>123</td>\n",
       "      <td>107</td>\n",
       "      <td>125</td>\n",
       "      <td>121</td>\n",
       "      <td>186</td>\n",
       "    </tr>\n",
       "  </tbody>\n",
       "</table>\n",
       "</div>"
      ],
      "text/plain": [
       "         A1   A4   A5   A6   A7   A9  A10  A12  A13\n",
       "count   207  207  207  207  207  207  207  207  207\n",
       "unique    2    3    3   14    9    2    2    2    3\n",
       "top       b    u    g    c    v    f    f    f    g\n",
       "freq    144  157  157   49  123  107  125  121  186"
      ]
     },
     "execution_count": 136,
     "metadata": {},
     "output_type": "execute_result"
    }
   ],
   "source": [
    "work_y.describe(include=[object])"
   ]
  },
  {
   "cell_type": "code",
   "execution_count": 137,
   "metadata": {},
   "outputs": [
    {
     "name": "stdout",
     "output_type": "stream",
     "text": [
      "['A1', 'A9', 'A10', 'A12'] ['A4', 'A5', 'A6', 'A7', 'A13']\n"
     ]
    }
   ],
   "source": [
    "binary_columns    = [c for c in categorical_columns if data_describe[c]['unique'] == 2]\n",
    "nonbinary_columns = [c for c in categorical_columns if data_describe[c]['unique'] > 2]\n",
    "print binary_columns, nonbinary_columns"
   ]
  },
  {
   "cell_type": "code",
   "execution_count": 140,
   "metadata": {},
   "outputs": [
    {
     "data": {
      "text/plain": [
       "count     207\n",
       "unique      2\n",
       "top         b\n",
       "freq      144\n",
       "Name: A1, dtype: object"
      ]
     },
     "execution_count": 140,
     "metadata": {},
     "output_type": "execute_result"
    }
   ],
   "source": [
    "work_y['A1'].describe()"
   ]
  },
  {
   "cell_type": "code",
   "execution_count": 141,
   "metadata": {},
   "outputs": [
    {
     "data": {
      "text/plain": [
       "count    207.000000\n",
       "mean       0.304348\n",
       "std        0.461246\n",
       "min        0.000000\n",
       "25%        0.000000\n",
       "50%        0.000000\n",
       "75%        1.000000\n",
       "max        1.000000\n",
       "Name: A1, dtype: float64"
      ]
     },
     "execution_count": 141,
     "metadata": {},
     "output_type": "execute_result"
    }
   ],
   "source": [
    "work_y.at[work_y['A1'] == 'b', 'A1'] = 0\n",
    "work_y.at[work_y['A1'] == 'a', 'A1'] = 1\n",
    "work_y['A1'].describe()"
   ]
  },
  {
   "cell_type": "code",
   "execution_count": 142,
   "metadata": {},
   "outputs": [
    {
     "data": {
      "text/plain": [
       "count     207\n",
       "unique      2\n",
       "top         f\n",
       "freq      107\n",
       "Name: A9, dtype: object"
      ]
     },
     "execution_count": 142,
     "metadata": {},
     "output_type": "execute_result"
    }
   ],
   "source": [
    "work_y['A9'].describe()"
   ]
  },
  {
   "cell_type": "code",
   "execution_count": 145,
   "metadata": {},
   "outputs": [
    {
     "data": {
      "text/plain": [
       "count    207.000000\n",
       "mean       0.483092\n",
       "std        0.500925\n",
       "min        0.000000\n",
       "25%        0.000000\n",
       "50%        0.000000\n",
       "75%        1.000000\n",
       "max        1.000000\n",
       "Name: A9, dtype: float64"
      ]
     },
     "execution_count": 145,
     "metadata": {},
     "output_type": "execute_result"
    }
   ],
   "source": [
    "work_y.at[work_y['A9'] == 'f', 'A9'] = 0\n",
    "work_y.at[work_y['A9'] == 't', 'A9'] = 1\n",
    "work_y['A9'].describe()"
   ]
  },
  {
   "cell_type": "code",
   "execution_count": 146,
   "metadata": {},
   "outputs": [
    {
     "data": {
      "text/plain": [
       "count     207\n",
       "unique      2\n",
       "top         f\n",
       "freq      125\n",
       "Name: A10, dtype: object"
      ]
     },
     "execution_count": 146,
     "metadata": {},
     "output_type": "execute_result"
    }
   ],
   "source": [
    "work_y['A10'].describe()"
   ]
  },
  {
   "cell_type": "code",
   "execution_count": 147,
   "metadata": {},
   "outputs": [
    {
     "data": {
      "text/plain": [
       "count    207.000000\n",
       "mean       0.396135\n",
       "std        0.490279\n",
       "min        0.000000\n",
       "25%        0.000000\n",
       "50%        0.000000\n",
       "75%        1.000000\n",
       "max        1.000000\n",
       "Name: A10, dtype: float64"
      ]
     },
     "execution_count": 147,
     "metadata": {},
     "output_type": "execute_result"
    }
   ],
   "source": [
    "work_y.at[work_y['A10'] == 'f', 'A10'] = 0\n",
    "work_y.at[work_y['A10'] == 't', 'A10'] = 1\n",
    "work_y['A10'].describe()"
   ]
  },
  {
   "cell_type": "code",
   "execution_count": 148,
   "metadata": {},
   "outputs": [
    {
     "data": {
      "text/plain": [
       "count     207\n",
       "unique      2\n",
       "top         f\n",
       "freq      121\n",
       "Name: A12, dtype: object"
      ]
     },
     "execution_count": 148,
     "metadata": {},
     "output_type": "execute_result"
    }
   ],
   "source": [
    "work_y['A12'].describe()"
   ]
  },
  {
   "cell_type": "code",
   "execution_count": 149,
   "metadata": {},
   "outputs": [
    {
     "data": {
      "text/plain": [
       "count    207.000000\n",
       "mean       0.415459\n",
       "std        0.493996\n",
       "min        0.000000\n",
       "25%        0.000000\n",
       "50%        0.000000\n",
       "75%        1.000000\n",
       "max        1.000000\n",
       "Name: A12, dtype: float64"
      ]
     },
     "execution_count": 149,
     "metadata": {},
     "output_type": "execute_result"
    }
   ],
   "source": [
    "work_y.at[work_y['A12'] == 'f', 'A12'] = 0\n",
    "work_y.at[work_y['A12'] == 't', 'A12'] = 1\n",
    "work_y['A12'].describe()"
   ]
  },
  {
   "cell_type": "code",
   "execution_count": 151,
   "metadata": {},
   "outputs": [
    {
     "data": {
      "text/html": [
       "<div>\n",
       "<style scoped>\n",
       "    .dataframe tbody tr th:only-of-type {\n",
       "        vertical-align: middle;\n",
       "    }\n",
       "\n",
       "    .dataframe tbody tr th {\n",
       "        vertical-align: top;\n",
       "    }\n",
       "\n",
       "    .dataframe thead th {\n",
       "        text-align: right;\n",
       "    }\n",
       "</style>\n",
       "<table border=\"1\" class=\"dataframe\">\n",
       "  <thead>\n",
       "    <tr style=\"text-align: right;\">\n",
       "      <th></th>\n",
       "      <th>A1</th>\n",
       "      <th>A9</th>\n",
       "      <th>A10</th>\n",
       "      <th>A12</th>\n",
       "    </tr>\n",
       "  </thead>\n",
       "  <tbody>\n",
       "    <tr>\n",
       "      <th>count</th>\n",
       "      <td>207.000000</td>\n",
       "      <td>207.000000</td>\n",
       "      <td>207.000000</td>\n",
       "      <td>207.000000</td>\n",
       "    </tr>\n",
       "    <tr>\n",
       "      <th>mean</th>\n",
       "      <td>0.304348</td>\n",
       "      <td>0.483092</td>\n",
       "      <td>0.396135</td>\n",
       "      <td>0.415459</td>\n",
       "    </tr>\n",
       "    <tr>\n",
       "      <th>std</th>\n",
       "      <td>0.461246</td>\n",
       "      <td>0.500925</td>\n",
       "      <td>0.490279</td>\n",
       "      <td>0.493996</td>\n",
       "    </tr>\n",
       "    <tr>\n",
       "      <th>min</th>\n",
       "      <td>0.000000</td>\n",
       "      <td>0.000000</td>\n",
       "      <td>0.000000</td>\n",
       "      <td>0.000000</td>\n",
       "    </tr>\n",
       "    <tr>\n",
       "      <th>25%</th>\n",
       "      <td>0.000000</td>\n",
       "      <td>0.000000</td>\n",
       "      <td>0.000000</td>\n",
       "      <td>0.000000</td>\n",
       "    </tr>\n",
       "    <tr>\n",
       "      <th>50%</th>\n",
       "      <td>0.000000</td>\n",
       "      <td>0.000000</td>\n",
       "      <td>0.000000</td>\n",
       "      <td>0.000000</td>\n",
       "    </tr>\n",
       "    <tr>\n",
       "      <th>75%</th>\n",
       "      <td>1.000000</td>\n",
       "      <td>1.000000</td>\n",
       "      <td>1.000000</td>\n",
       "      <td>1.000000</td>\n",
       "    </tr>\n",
       "    <tr>\n",
       "      <th>max</th>\n",
       "      <td>1.000000</td>\n",
       "      <td>1.000000</td>\n",
       "      <td>1.000000</td>\n",
       "      <td>1.000000</td>\n",
       "    </tr>\n",
       "  </tbody>\n",
       "</table>\n",
       "</div>"
      ],
      "text/plain": [
       "               A1          A9         A10         A12\n",
       "count  207.000000  207.000000  207.000000  207.000000\n",
       "mean     0.304348    0.483092    0.396135    0.415459\n",
       "std      0.461246    0.500925    0.490279    0.493996\n",
       "min      0.000000    0.000000    0.000000    0.000000\n",
       "25%      0.000000    0.000000    0.000000    0.000000\n",
       "50%      0.000000    0.000000    0.000000    0.000000\n",
       "75%      1.000000    1.000000    1.000000    1.000000\n",
       "max      1.000000    1.000000    1.000000    1.000000"
      ]
     },
     "execution_count": 151,
     "metadata": {},
     "output_type": "execute_result"
    }
   ],
   "source": [
    "work_y[binary_columns].describe()"
   ]
  },
  {
   "cell_type": "code",
   "execution_count": 153,
   "metadata": {},
   "outputs": [
    {
     "name": "stdout",
     "output_type": "stream",
     "text": [
      "Index([u'A4_l', u'A4_u', u'A4_y', u'A5_g', u'A5_gg', u'A5_p', u'A6_aa',\n",
      "       u'A6_c', u'A6_cc', u'A6_d', u'A6_e', u'A6_ff', u'A6_i', u'A6_j',\n",
      "       u'A6_k', u'A6_m', u'A6_q', u'A6_r', u'A6_w', u'A6_x', u'A7_bb',\n",
      "       u'A7_dd', u'A7_ff', u'A7_h', u'A7_j', u'A7_n', u'A7_o', u'A7_v',\n",
      "       u'A7_z', u'A13_g', u'A13_p', u'A13_s'],\n",
      "      dtype='object')\n"
     ]
    }
   ],
   "source": [
    "work_y_nonbinary = pd.get_dummies(work_y[nonbinary_columns])\n",
    "print work_y_nonbinary.columns"
   ]
  },
  {
   "cell_type": "code",
   "execution_count": 154,
   "metadata": {},
   "outputs": [
    {
     "data": {
      "text/plain": [
       "<bound method DataFrame.head of      A4_l  A4_u  A4_y  A5_g  A5_gg  A5_p  A6_aa  A6_c  A6_cc  A6_d  ...    \\\n",
       "0       0     0     1     0      0     1      0     0      1     0  ...     \n",
       "1       0     0     1     0      0     1      0     0      0     1  ...     \n",
       "2       0     1     0     1      0     0      0     0      0     0  ...     \n",
       "3       0     1     0     1      0     0      0     0      0     0  ...     \n",
       "4       0     1     0     1      0     0      0     0      0     0  ...     \n",
       "5       0     1     0     1      0     0      0     0      0     0  ...     \n",
       "6       0     1     0     1      0     0      1     0      0     0  ...     \n",
       "7       0     1     0     1      0     0      0     0      0     0  ...     \n",
       "8       0     1     0     1      0     0      0     0      0     0  ...     \n",
       "9       0     1     0     1      0     0      0     0      0     0  ...     \n",
       "10      0     0     1     0      0     1      0     0      0     0  ...     \n",
       "11      0     1     0     1      0     0      0     0      0     0  ...     \n",
       "12      0     0     1     0      0     1      0     0      0     0  ...     \n",
       "13      0     1     0     1      0     0      0     0      0     0  ...     \n",
       "14      0     1     0     1      0     0      0     0      0     0  ...     \n",
       "15      0     1     0     1      0     0      0     0      0     0  ...     \n",
       "16      0     1     0     1      0     0      0     1      0     0  ...     \n",
       "17      0     0     1     0      0     1      0     1      0     0  ...     \n",
       "18      0     0     1     0      0     1      0     1      0     0  ...     \n",
       "19      0     1     0     1      0     0      0     0      0     0  ...     \n",
       "20      0     1     0     1      0     0      0     1      0     0  ...     \n",
       "21      0     1     0     1      0     0      1     0      0     0  ...     \n",
       "22      0     1     0     1      0     0      0     0      0     1  ...     \n",
       "23      0     1     0     1      0     0      0     1      0     0  ...     \n",
       "24      0     1     0     1      0     0      0     1      0     0  ...     \n",
       "25      0     0     1     0      0     1      0     1      0     0  ...     \n",
       "26      0     0     1     0      0     1      0     1      0     0  ...     \n",
       "27      0     1     0     1      0     0      0     0      0     0  ...     \n",
       "28      0     1     0     1      0     0      0     0      0     0  ...     \n",
       "29      0     1     0     1      0     0      1     0      0     0  ...     \n",
       "..    ...   ...   ...   ...    ...   ...    ...   ...    ...   ...  ...     \n",
       "177     0     1     0     1      0     0      0     0      0     0  ...     \n",
       "178     0     1     0     1      0     0      0     0      0     1  ...     \n",
       "179     0     0     1     0      0     1      0     1      0     0  ...     \n",
       "180     0     1     0     1      0     0      0     0      0     0  ...     \n",
       "181     0     0     1     0      0     1      0     0      0     0  ...     \n",
       "182     0     0     1     0      0     1      0     0      0     0  ...     \n",
       "183     0     1     0     1      0     0      0     0      0     0  ...     \n",
       "184     0     0     1     0      0     1      0     0      0     0  ...     \n",
       "185     0     1     0     1      0     0      0     0      0     0  ...     \n",
       "186     0     1     0     1      0     0      0     0      0     0  ...     \n",
       "187     0     1     0     1      0     0      0     0      0     0  ...     \n",
       "188     0     1     0     1      0     0      0     0      0     0  ...     \n",
       "189     0     1     0     1      0     0      0     0      0     0  ...     \n",
       "190     0     1     0     1      0     0      0     0      1     0  ...     \n",
       "191     0     0     1     0      0     1      0     0      0     0  ...     \n",
       "192     0     1     0     1      0     0      0     0      0     0  ...     \n",
       "193     0     0     1     0      0     1      0     0      0     0  ...     \n",
       "194     0     1     0     1      0     0      0     0      0     0  ...     \n",
       "195     0     0     1     0      0     1      0     1      0     0  ...     \n",
       "196     0     1     0     1      0     0      1     0      0     0  ...     \n",
       "197     0     1     0     1      0     0      0     0      0     0  ...     \n",
       "198     0     1     0     1      0     0      0     1      0     0  ...     \n",
       "199     0     1     0     1      0     0      0     0      0     0  ...     \n",
       "200     0     1     0     1      0     0      0     0      0     0  ...     \n",
       "201     0     0     1     0      0     1      0     0      0     1  ...     \n",
       "202     0     1     0     1      0     0      0     0      0     0  ...     \n",
       "203     0     1     0     1      0     0      0     0      0     0  ...     \n",
       "204     0     1     0     1      0     0      0     1      0     0  ...     \n",
       "205     0     1     0     1      0     0      0     0      0     0  ...     \n",
       "206     0     1     0     1      0     0      0     0      0     0  ...     \n",
       "\n",
       "     A7_ff  A7_h  A7_j  A7_n  A7_o  A7_v  A7_z  A13_g  A13_p  A13_s  \n",
       "0        0     0     0     0     0     1     0      1      0      0  \n",
       "1        0     0     0     0     0     1     0      0      0      1  \n",
       "2        1     0     0     0     0     0     0      1      0      0  \n",
       "3        0     0     0     0     0     0     0      1      0      0  \n",
       "4        0     1     0     0     0     0     0      0      0      1  \n",
       "5        0     1     0     0     0     0     0      1      0      0  \n",
       "6        0     0     0     0     0     1     0      1      0      0  \n",
       "7        0     0     0     0     0     0     0      1      0      0  \n",
       "8        0     0     0     0     0     1     0      1      0      0  \n",
       "9        0     0     0     0     0     1     0      0      0      1  \n",
       "10       0     0     1     0     0     0     0      1      0      0  \n",
       "11       0     0     0     0     0     1     0      1      0      0  \n",
       "12       1     0     0     0     0     0     0      1      0      0  \n",
       "13       1     0     0     0     0     0     0      1      0      0  \n",
       "14       1     0     0     0     0     0     0      1      0      0  \n",
       "15       0     0     0     0     0     1     0      1      0      0  \n",
       "16       0     0     0     0     0     1     0      0      1      0  \n",
       "17       0     0     0     0     0     1     0      0      0      1  \n",
       "18       0     0     0     0     0     1     0      0      0      1  \n",
       "19       0     1     0     0     0     0     0      1      0      0  \n",
       "20       0     0     0     0     0     1     0      1      0      0  \n",
       "21       0     0     0     0     0     1     0      1      0      0  \n",
       "22       0     0     0     0     0     1     0      1      0      0  \n",
       "23       0     1     0     0     0     0     0      1      0      0  \n",
       "24       0     0     0     0     0     1     0      1      0      0  \n",
       "25       0     1     0     0     0     0     0      1      0      0  \n",
       "26       0     0     0     0     0     1     0      1      0      0  \n",
       "27       0     1     0     0     0     0     0      1      0      0  \n",
       "28       0     0     0     0     0     0     1      1      0      0  \n",
       "29       0     0     0     0     0     0     0      1      0      0  \n",
       "..     ...   ...   ...   ...   ...   ...   ...    ...    ...    ...  \n",
       "177      0     0     0     0     0     1     0      1      0      0  \n",
       "178      0     0     0     0     0     1     0      1      0      0  \n",
       "179      0     0     0     0     0     1     0      0      0      1  \n",
       "180      0     0     0     0     0     0     0      1      0      0  \n",
       "181      1     0     0     0     0     0     0      1      0      0  \n",
       "182      0     1     0     0     0     0     0      1      0      0  \n",
       "183      0     0     0     0     0     1     0      0      0      1  \n",
       "184      0     0     0     0     0     0     0      1      0      0  \n",
       "185      0     1     0     0     0     0     0      1      0      0  \n",
       "186      0     0     0     0     0     1     0      1      0      0  \n",
       "187      0     0     0     0     0     1     0      1      0      0  \n",
       "188      0     0     0     0     0     1     0      1      0      0  \n",
       "189      0     0     0     1     0     0     0      1      0      0  \n",
       "190      0     1     0     0     0     0     0      1      0      0  \n",
       "191      1     0     0     0     0     0     0      1      0      0  \n",
       "192      0     0     0     0     0     1     0      1      0      0  \n",
       "193      0     0     0     0     0     1     0      1      0      0  \n",
       "194      0     0     0     0     0     0     0      0      0      1  \n",
       "195      0     0     0     0     0     1     0      1      0      0  \n",
       "196      0     0     0     0     0     1     0      1      0      0  \n",
       "197      1     0     0     0     0     0     0      1      0      0  \n",
       "198      0     0     0     0     0     1     0      1      0      0  \n",
       "199      0     0     0     0     0     1     0      0      0      1  \n",
       "200      0     0     0     0     0     1     0      1      0      0  \n",
       "201      0     0     0     0     0     1     0      1      0      0  \n",
       "202      0     1     0     0     0     0     0      1      0      0  \n",
       "203      0     0     0     0     0     1     0      0      0      1  \n",
       "204      0     0     0     0     0     1     0      1      0      0  \n",
       "205      0     0     0     0     0     1     0      1      0      0  \n",
       "206      0     0     0     0     0     1     0      1      0      0  \n",
       "\n",
       "[207 rows x 32 columns]>"
      ]
     },
     "execution_count": 154,
     "metadata": {},
     "output_type": "execute_result"
    }
   ],
   "source": [
    "work_y_nonbinary.head"
   ]
  },
  {
   "cell_type": "code",
   "execution_count": 155,
   "metadata": {},
   "outputs": [
    {
     "data": {
      "text/html": [
       "<div>\n",
       "<style scoped>\n",
       "    .dataframe tbody tr th:only-of-type {\n",
       "        vertical-align: middle;\n",
       "    }\n",
       "\n",
       "    .dataframe tbody tr th {\n",
       "        vertical-align: top;\n",
       "    }\n",
       "\n",
       "    .dataframe thead th {\n",
       "        text-align: right;\n",
       "    }\n",
       "</style>\n",
       "<table border=\"1\" class=\"dataframe\">\n",
       "  <thead>\n",
       "    <tr style=\"text-align: right;\">\n",
       "      <th></th>\n",
       "      <th>A2</th>\n",
       "      <th>A3</th>\n",
       "      <th>A8</th>\n",
       "      <th>A11</th>\n",
       "      <th>A14</th>\n",
       "      <th>A15</th>\n",
       "    </tr>\n",
       "  </thead>\n",
       "  <tbody>\n",
       "    <tr>\n",
       "      <th>count</th>\n",
       "      <td>2.070000e+02</td>\n",
       "      <td>2.070000e+02</td>\n",
       "      <td>2.070000e+02</td>\n",
       "      <td>2.070000e+02</td>\n",
       "      <td>2.070000e+02</td>\n",
       "      <td>2.070000e+02</td>\n",
       "    </tr>\n",
       "    <tr>\n",
       "      <th>mean</th>\n",
       "      <td>5.202494e-16</td>\n",
       "      <td>-3.057136e-16</td>\n",
       "      <td>-3.770468e-16</td>\n",
       "      <td>6.596977e-17</td>\n",
       "      <td>2.145359e-17</td>\n",
       "      <td>8.983689e-17</td>\n",
       "    </tr>\n",
       "    <tr>\n",
       "      <th>std</th>\n",
       "      <td>1.000000e+00</td>\n",
       "      <td>1.000000e+00</td>\n",
       "      <td>1.000000e+00</td>\n",
       "      <td>1.000000e+00</td>\n",
       "      <td>1.000000e+00</td>\n",
       "      <td>1.000000e+00</td>\n",
       "    </tr>\n",
       "    <tr>\n",
       "      <th>min</th>\n",
       "      <td>-1.350220e+00</td>\n",
       "      <td>-1.004481e+00</td>\n",
       "      <td>-7.025976e-01</td>\n",
       "      <td>-4.120898e-01</td>\n",
       "      <td>-9.560286e-01</td>\n",
       "      <td>-1.631609e-01</td>\n",
       "    </tr>\n",
       "    <tr>\n",
       "      <th>25%</th>\n",
       "      <td>-7.546075e-01</td>\n",
       "      <td>-7.668866e-01</td>\n",
       "      <td>-6.531672e-01</td>\n",
       "      <td>-4.120898e-01</td>\n",
       "      <td>-6.073750e-01</td>\n",
       "      <td>-1.631609e-01</td>\n",
       "    </tr>\n",
       "    <tr>\n",
       "      <th>50%</th>\n",
       "      <td>-2.812159e-01</td>\n",
       "      <td>-4.131822e-01</td>\n",
       "      <td>-3.535891e-01</td>\n",
       "      <td>-4.120898e-01</td>\n",
       "      <td>-1.108076e-01</td>\n",
       "      <td>-1.628825e-01</td>\n",
       "    </tr>\n",
       "    <tr>\n",
       "      <th>75%</th>\n",
       "      <td>5.183857e-01</td>\n",
       "      <td>5.006436e-01</td>\n",
       "      <td>1.961369e-01</td>\n",
       "      <td>-7.291449e-02</td>\n",
       "      <td>4.174554e-01</td>\n",
       "      <td>-1.214063e-01</td>\n",
       "    </tr>\n",
       "    <tr>\n",
       "      <th>max</th>\n",
       "      <td>3.240818e+00</td>\n",
       "      <td>3.725911e+00</td>\n",
       "      <td>5.288966e+00</td>\n",
       "      <td>1.095028e+01</td>\n",
       "      <td>9.609233e+00</td>\n",
       "      <td>1.375503e+01</td>\n",
       "    </tr>\n",
       "  </tbody>\n",
       "</table>\n",
       "</div>"
      ],
      "text/plain": [
       "                 A2            A3            A8           A11           A14  \\\n",
       "count  2.070000e+02  2.070000e+02  2.070000e+02  2.070000e+02  2.070000e+02   \n",
       "mean   5.202494e-16 -3.057136e-16 -3.770468e-16  6.596977e-17  2.145359e-17   \n",
       "std    1.000000e+00  1.000000e+00  1.000000e+00  1.000000e+00  1.000000e+00   \n",
       "min   -1.350220e+00 -1.004481e+00 -7.025976e-01 -4.120898e-01 -9.560286e-01   \n",
       "25%   -7.546075e-01 -7.668866e-01 -6.531672e-01 -4.120898e-01 -6.073750e-01   \n",
       "50%   -2.812159e-01 -4.131822e-01 -3.535891e-01 -4.120898e-01 -1.108076e-01   \n",
       "75%    5.183857e-01  5.006436e-01  1.961369e-01 -7.291449e-02  4.174554e-01   \n",
       "max    3.240818e+00  3.725911e+00  5.288966e+00  1.095028e+01  9.609233e+00   \n",
       "\n",
       "                A15  \n",
       "count  2.070000e+02  \n",
       "mean   8.983689e-17  \n",
       "std    1.000000e+00  \n",
       "min   -1.631609e-01  \n",
       "25%   -1.631609e-01  \n",
       "50%   -1.628825e-01  \n",
       "75%   -1.214063e-01  \n",
       "max    1.375503e+01  "
      ]
     },
     "execution_count": 155,
     "metadata": {},
     "output_type": "execute_result"
    }
   ],
   "source": [
    "work_y_numerical = work_y[numerical_columns]\n",
    "work_y_numerical = (work_y_numerical - work_y_numerical.mean()) / work_y_numerical.std()\n",
    "work_y_numerical.describe()"
   ]
  },
  {
   "cell_type": "code",
   "execution_count": 156,
   "metadata": {},
   "outputs": [
    {
     "name": "stdout",
     "output_type": "stream",
     "text": [
      "(207, 42)\n",
      "Index([u'A2', u'A3', u'A8', u'A11', u'A14', u'A15', u'A1', u'A9', u'A10',\n",
      "       u'A12', u'A4_l', u'A4_u', u'A4_y', u'A5_g', u'A5_gg', u'A5_p', u'A6_aa',\n",
      "       u'A6_c', u'A6_cc', u'A6_d', u'A6_e', u'A6_ff', u'A6_i', u'A6_j',\n",
      "       u'A6_k', u'A6_m', u'A6_q', u'A6_r', u'A6_w', u'A6_x', u'A7_bb',\n",
      "       u'A7_dd', u'A7_ff', u'A7_h', u'A7_j', u'A7_n', u'A7_o', u'A7_v',\n",
      "       u'A7_z', u'A13_g', u'A13_p', u'A13_s'],\n",
      "      dtype='object')\n"
     ]
    },
    {
     "data": {
      "text/plain": [
       "<bound method DataFrame.head of            A2        A3        A8       A11       A14       A15   A1   A9  \\\n",
       "0   -0.417208 -0.421783  0.870188 -0.242502  0.158607 -0.163161  0.0  1.0   \n",
       "1    1.095924  1.360715 -0.253230 -0.412090 -0.956029 -0.163161  0.0  1.0   \n",
       "2   -1.027453 -0.878696 -0.702598  0.096673  0.892892 -0.056130  0.0  0.0   \n",
       "3    0.844596 -0.789463 -0.028547 -0.412090 -0.956029 -0.121406  1.0  1.0   \n",
       "4    1.160477 -0.018624 -0.403019 -0.412090  0.311803 -0.163161  1.0  0.0   \n",
       "5    0.902263 -0.960403  0.832740 -0.412090  1.157024 -0.163161  0.0  1.0   \n",
       "6   -0.467990  0.858648 -0.278695 -0.412090 -0.110808 -0.142284  1.0  1.0   \n",
       "7    0.235211 -0.628200 -0.627703 -0.412090 -0.094960 -0.163161  0.0  1.0   \n",
       "8    2.171814  1.629487 -0.328125  0.266261  0.100498 -0.163161  0.0  1.0   \n",
       "9   -0.266584 -0.251919 -0.452450 -0.412090  0.523108 -0.163161  1.0  1.0   \n",
       "10  -0.840679 -0.628200 -0.702598 -0.412090 -0.110808 -0.163161  1.0  0.0   \n",
       "11   0.572611  1.172574  0.046348  0.605436  1.790939 -0.135881  0.0  1.0   \n",
       "12   1.748343 -0.359428 -0.253230 -0.412090 -0.005155 -0.162604  0.0  0.0   \n",
       "13   0.622532 -0.681955 -0.702598 -0.412090 -0.554549 -0.163161  1.0  0.0   \n",
       "14  -0.023002 -0.762586 -0.702598 -0.242502 -0.448896 -0.160516  0.0  0.0   \n",
       "15   1.928232  1.065065  1.893247  0.435848 -0.956029 -0.163161  0.0  1.0   \n",
       "16  -0.955153 -1.004481 -0.702598 -0.412090 -0.110808 -0.163161  0.0  0.0   \n",
       "17  -0.948268  1.145697  0.046348 -0.412090 -0.744723 -0.163161  0.0  1.0   \n",
       "18  -0.933636 -0.824941 -0.103441 -0.412090  0.311803 -0.163161  0.0  0.0   \n",
       "19  -0.826047  1.503702 -0.677133 -0.412090  0.734413 -0.162465  1.0  0.0   \n",
       "20  -0.072924  1.575733 -0.103441 -0.242502  0.206150 -0.160516  1.0  1.0   \n",
       "21   0.213694 -0.036901 -0.403019 -0.412090  0.311803 -0.163161  0.0  1.0   \n",
       "22   1.799125 -0.681955  0.420820 -0.412090 -0.956029 -0.114447  0.0  0.0   \n",
       "23   0.299765 -0.278796  1.780905 -0.412090 -0.956029 -0.163161  0.0  0.0   \n",
       "24  -0.575579 -0.413182 -0.028547  0.605436 -0.110808 -0.079652  0.0  1.0   \n",
       "25  -1.092007 -0.055178  0.196137 -0.412090  0.311803 -0.163161  1.0  1.0   \n",
       "26  -1.077375 -0.628200 -0.003083 -0.412090 -0.364374 -0.162326  0.0  0.0   \n",
       "27  -0.245066  1.002710  0.994513  0.605436  1.056654 -0.139778  0.0  1.0   \n",
       "28   2.918051  1.360715  5.288966  0.775024 -0.839811 -0.163161  0.0  1.0   \n",
       "29  -0.352655  1.683242 -0.627703 -0.412090  2.847466 -0.163161  0.0  0.0   \n",
       "..        ...       ...       ...       ...       ...       ...  ...  ...   \n",
       "177 -0.524797 -0.762586 -0.316142 -0.072914  0.100498 -0.163161  1.0  1.0   \n",
       "178 -0.245066  2.113277 -0.665150 -0.412090 -0.956029 -0.123355  0.0  0.0   \n",
       "179 -0.431840 -0.421783 -0.677133 -0.412090 -0.533418 -0.163161  0.0  0.0   \n",
       "180 -0.417208  2.131554 -0.702598 -0.412090 -0.015720 -0.163161  0.0  0.0   \n",
       "181 -0.898346  0.070608 -0.702598 -0.412090 -0.956029 -0.163161  1.0  0.0   \n",
       "182 -0.783011  1.414469 -0.477914  0.266261 -0.956029 -0.118483  1.0  1.0   \n",
       "183 -0.739975 -0.967928 -0.677133 -0.412090 -0.956029 -0.163161  0.0  0.0   \n",
       "184 -0.819161  0.680183 -0.653167 -0.412090 -0.110808 -0.163161  0.0  0.0   \n",
       "185  1.102809 -0.896972  0.795293 -0.412090  0.734413 -0.163161  0.0  1.0   \n",
       "186 -0.747722 -0.359428 -0.316142 -0.242502  0.417455 -0.051815  0.0  1.0   \n",
       "187  0.414240 -0.189564 -0.353589 -0.412090  0.100498 -0.163161  0.0  1.0   \n",
       "188  0.658682 -0.636801 -0.665150  0.435848  1.579634 -0.163161  0.0  1.0   \n",
       "189  0.278247  2.220786  0.907635  1.114199 -0.956029 -0.144510  0.0  1.0   \n",
       "190  0.235211 -0.359428  1.518774 -0.412090 -0.956029 -0.163161  0.0  1.0   \n",
       "191  0.206808 -0.663678 -0.702598 -0.412090  0.734413 -0.163161  1.0  1.0   \n",
       "192 -0.783011  0.213595  0.071812  0.775024 -0.274569  0.290155  1.0  1.0   \n",
       "193 -0.173627 -0.771187 -0.403019 -0.412090  0.523108 -0.161352  1.0  0.0   \n",
       "194  0.069955  0.608153 -0.227766 -0.412090  1.262676 -0.163161  0.0  1.0   \n",
       "195 -1.092007 -0.915249 -0.653167 -0.242502  0.100498 -0.163022  0.0  0.0   \n",
       "196 -1.307185 -0.413182 -0.503378 -0.242502 -0.533418 -0.160238  0.0  0.0   \n",
       "197  3.240818  0.930679  0.495715 -0.242502 -0.586244 -0.162326  0.0  0.0   \n",
       "198  0.385836 -0.789463 -0.103441  1.453374 -0.956029 -0.099694  1.0  1.0   \n",
       "199  1.095924 -0.896972  2.517868 -0.412090  1.157024 -0.163161  0.0  1.0   \n",
       "200  1.089038  0.428613  1.506791  0.096673 -0.956029 -0.163161  1.0  1.0   \n",
       "201  0.421986 -0.843218 -0.527344 -0.412090  0.311803 -0.162743  0.0  0.0   \n",
       "202 -0.367287 -0.942126 -0.665150 -0.242502  0.480847 -0.148129  1.0  0.0   \n",
       "203 -0.109073  0.178117  0.945082 -0.412090 -0.427766 -0.163161  1.0  0.0   \n",
       "204 -0.252812 -0.198164 -0.627703 -0.242502 -0.744723 -0.141727  1.0  0.0   \n",
       "205 -0.166741 -0.036901  1.544239 -0.072914  0.787240 -0.163161  0.0  1.0   \n",
       "206 -1.062742  1.038188 -0.253230 -0.412090 -0.322113  0.143874  0.0  1.0   \n",
       "\n",
       "     A10  A12  ...    A7_ff  A7_h  A7_j  A7_n  A7_o  A7_v  A7_z  A13_g  A13_p  \\\n",
       "0    1.0  0.0  ...      0.0   0.0   0.0   0.0   0.0   1.0   0.0    1.0    0.0   \n",
       "1    0.0  0.0  ...      0.0   0.0   0.0   0.0   0.0   1.0   0.0    0.0    0.0   \n",
       "2    1.0  0.0  ...      1.0   0.0   0.0   0.0   0.0   0.0   0.0    1.0    0.0   \n",
       "3    0.0  1.0  ...      0.0   0.0   0.0   0.0   0.0   0.0   0.0    1.0    0.0   \n",
       "4    0.0  1.0  ...      0.0   1.0   0.0   0.0   0.0   0.0   0.0    0.0    0.0   \n",
       "5    0.0  0.0  ...      0.0   1.0   0.0   0.0   0.0   0.0   0.0    1.0    0.0   \n",
       "6    0.0  0.0  ...      0.0   0.0   0.0   0.0   0.0   1.0   0.0    1.0    0.0   \n",
       "7    0.0  1.0  ...      0.0   0.0   0.0   0.0   0.0   0.0   0.0    1.0    0.0   \n",
       "8    1.0  1.0  ...      0.0   0.0   0.0   0.0   0.0   1.0   0.0    1.0    0.0   \n",
       "9    0.0  0.0  ...      0.0   0.0   0.0   0.0   0.0   1.0   0.0    0.0    0.0   \n",
       "10   0.0  0.0  ...      0.0   0.0   1.0   0.0   0.0   0.0   0.0    1.0    0.0   \n",
       "11   1.0  0.0  ...      0.0   0.0   0.0   0.0   0.0   1.0   0.0    1.0    0.0   \n",
       "12   0.0  0.0  ...      1.0   0.0   0.0   0.0   0.0   0.0   0.0    1.0    0.0   \n",
       "13   0.0  0.0  ...      1.0   0.0   0.0   0.0   0.0   0.0   0.0    1.0    0.0   \n",
       "14   1.0  0.0  ...      1.0   0.0   0.0   0.0   0.0   0.0   0.0    1.0    0.0   \n",
       "15   1.0  0.0  ...      0.0   0.0   0.0   0.0   0.0   1.0   0.0    1.0    0.0   \n",
       "16   0.0  0.0  ...      0.0   0.0   0.0   0.0   0.0   1.0   0.0    0.0    1.0   \n",
       "17   0.0  0.0  ...      0.0   0.0   0.0   0.0   0.0   1.0   0.0    0.0    0.0   \n",
       "18   0.0  1.0  ...      0.0   0.0   0.0   0.0   0.0   1.0   0.0    0.0    0.0   \n",
       "19   0.0  0.0  ...      0.0   1.0   0.0   0.0   0.0   0.0   0.0    1.0    0.0   \n",
       "20   1.0  0.0  ...      0.0   0.0   0.0   0.0   0.0   1.0   0.0    1.0    0.0   \n",
       "21   0.0  1.0  ...      0.0   0.0   0.0   0.0   0.0   1.0   0.0    1.0    0.0   \n",
       "22   0.0  1.0  ...      0.0   0.0   0.0   0.0   0.0   1.0   0.0    1.0    0.0   \n",
       "23   0.0  1.0  ...      0.0   1.0   0.0   0.0   0.0   0.0   0.0    1.0    0.0   \n",
       "24   1.0  0.0  ...      0.0   0.0   0.0   0.0   0.0   1.0   0.0    1.0    0.0   \n",
       "25   0.0  0.0  ...      0.0   1.0   0.0   0.0   0.0   0.0   0.0    1.0    0.0   \n",
       "26   0.0  1.0  ...      0.0   0.0   0.0   0.0   0.0   1.0   0.0    1.0    0.0   \n",
       "27   1.0  0.0  ...      0.0   1.0   0.0   0.0   0.0   0.0   0.0    1.0    0.0   \n",
       "28   1.0  1.0  ...      0.0   0.0   0.0   0.0   0.0   0.0   1.0    1.0    0.0   \n",
       "29   0.0  1.0  ...      0.0   0.0   0.0   0.0   0.0   0.0   0.0    1.0    0.0   \n",
       "..   ...  ...  ...      ...   ...   ...   ...   ...   ...   ...    ...    ...   \n",
       "177  1.0  0.0  ...      0.0   0.0   0.0   0.0   0.0   1.0   0.0    1.0    0.0   \n",
       "178  0.0  0.0  ...      0.0   0.0   0.0   0.0   0.0   1.0   0.0    1.0    0.0   \n",
       "179  0.0  0.0  ...      0.0   0.0   0.0   0.0   0.0   1.0   0.0    0.0    0.0   \n",
       "180  0.0  1.0  ...      0.0   0.0   0.0   0.0   0.0   0.0   0.0    1.0    0.0   \n",
       "181  0.0  0.0  ...      1.0   0.0   0.0   0.0   0.0   0.0   0.0    1.0    0.0   \n",
       "182  1.0  0.0  ...      0.0   1.0   0.0   0.0   0.0   0.0   0.0    1.0    0.0   \n",
       "183  0.0  0.0  ...      0.0   0.0   0.0   0.0   0.0   1.0   0.0    0.0    0.0   \n",
       "184  0.0  1.0  ...      0.0   0.0   0.0   0.0   0.0   0.0   0.0    1.0    0.0   \n",
       "185  0.0  1.0  ...      0.0   1.0   0.0   0.0   0.0   0.0   0.0    1.0    0.0   \n",
       "186  1.0  0.0  ...      0.0   0.0   0.0   0.0   0.0   1.0   0.0    1.0    0.0   \n",
       "187  0.0  1.0  ...      0.0   0.0   0.0   0.0   0.0   1.0   0.0    1.0    0.0   \n",
       "188  1.0  1.0  ...      0.0   0.0   0.0   0.0   0.0   1.0   0.0    1.0    0.0   \n",
       "189  1.0  1.0  ...      0.0   0.0   0.0   1.0   0.0   0.0   0.0    1.0    0.0   \n",
       "190  0.0  1.0  ...      0.0   1.0   0.0   0.0   0.0   0.0   0.0    1.0    0.0   \n",
       "191  0.0  0.0  ...      1.0   0.0   0.0   0.0   0.0   0.0   0.0    1.0    0.0   \n",
       "192  1.0  0.0  ...      0.0   0.0   0.0   0.0   0.0   1.0   0.0    1.0    0.0   \n",
       "193  0.0  0.0  ...      0.0   0.0   0.0   0.0   0.0   1.0   0.0    1.0    0.0   \n",
       "194  0.0  1.0  ...      0.0   0.0   0.0   0.0   0.0   0.0   0.0    0.0    0.0   \n",
       "195  1.0  0.0  ...      0.0   0.0   0.0   0.0   0.0   1.0   0.0    1.0    0.0   \n",
       "196  1.0  0.0  ...      0.0   0.0   0.0   0.0   0.0   1.0   0.0    1.0    0.0   \n",
       "197  1.0  0.0  ...      1.0   0.0   0.0   0.0   0.0   0.0   0.0    1.0    0.0   \n",
       "198  1.0  0.0  ...      0.0   0.0   0.0   0.0   0.0   1.0   0.0    1.0    0.0   \n",
       "199  0.0  0.0  ...      0.0   0.0   0.0   0.0   0.0   1.0   0.0    0.0    0.0   \n",
       "200  1.0  1.0  ...      0.0   0.0   0.0   0.0   0.0   1.0   0.0    1.0    0.0   \n",
       "201  0.0  0.0  ...      0.0   0.0   0.0   0.0   0.0   1.0   0.0    1.0    0.0   \n",
       "202  1.0  1.0  ...      0.0   1.0   0.0   0.0   0.0   0.0   0.0    1.0    0.0   \n",
       "203  0.0  1.0  ...      0.0   0.0   0.0   0.0   0.0   1.0   0.0    0.0    0.0   \n",
       "204  1.0  1.0  ...      0.0   0.0   0.0   0.0   0.0   1.0   0.0    1.0    0.0   \n",
       "205  1.0  1.0  ...      0.0   0.0   0.0   0.0   0.0   1.0   0.0    1.0    0.0   \n",
       "206  0.0  0.0  ...      0.0   0.0   0.0   0.0   0.0   1.0   0.0    1.0    0.0   \n",
       "\n",
       "     A13_s  \n",
       "0      0.0  \n",
       "1      1.0  \n",
       "2      0.0  \n",
       "3      0.0  \n",
       "4      1.0  \n",
       "5      0.0  \n",
       "6      0.0  \n",
       "7      0.0  \n",
       "8      0.0  \n",
       "9      1.0  \n",
       "10     0.0  \n",
       "11     0.0  \n",
       "12     0.0  \n",
       "13     0.0  \n",
       "14     0.0  \n",
       "15     0.0  \n",
       "16     0.0  \n",
       "17     1.0  \n",
       "18     1.0  \n",
       "19     0.0  \n",
       "20     0.0  \n",
       "21     0.0  \n",
       "22     0.0  \n",
       "23     0.0  \n",
       "24     0.0  \n",
       "25     0.0  \n",
       "26     0.0  \n",
       "27     0.0  \n",
       "28     0.0  \n",
       "29     0.0  \n",
       "..     ...  \n",
       "177    0.0  \n",
       "178    0.0  \n",
       "179    1.0  \n",
       "180    0.0  \n",
       "181    0.0  \n",
       "182    0.0  \n",
       "183    1.0  \n",
       "184    0.0  \n",
       "185    0.0  \n",
       "186    0.0  \n",
       "187    0.0  \n",
       "188    0.0  \n",
       "189    0.0  \n",
       "190    0.0  \n",
       "191    0.0  \n",
       "192    0.0  \n",
       "193    0.0  \n",
       "194    1.0  \n",
       "195    0.0  \n",
       "196    0.0  \n",
       "197    0.0  \n",
       "198    0.0  \n",
       "199    1.0  \n",
       "200    0.0  \n",
       "201    0.0  \n",
       "202    0.0  \n",
       "203    1.0  \n",
       "204    0.0  \n",
       "205    0.0  \n",
       "206    0.0  \n",
       "\n",
       "[207 rows x 42 columns]>"
      ]
     },
     "execution_count": 156,
     "metadata": {},
     "output_type": "execute_result"
    }
   ],
   "source": [
    "work_y_general = pd.concat((work_y_numerical, work_y[binary_columns], work_y_nonbinary), axis=1)\n",
    "work_y_general = pd.DataFrame(work_y_general, dtype=float)\n",
    "print work_y_general.shape\n",
    "print work_y_general.columns\n",
    "work_y_general.head"
   ]
  },
  {
   "cell_type": "code",
   "execution_count": 160,
   "metadata": {},
   "outputs": [
    {
     "ename": "KeyError",
     "evalue": "\"['A7_o'] not found in axis\"",
     "output_type": "error",
     "traceback": [
      "\u001b[1;31m---------------------------------------------------------------------------\u001b[0m",
      "\u001b[1;31mKeyError\u001b[0m                                  Traceback (most recent call last)",
      "\u001b[1;32m<ipython-input-160-dd25a847ceac>\u001b[0m in \u001b[0;36m<module>\u001b[1;34m()\u001b[0m\n\u001b[1;32m----> 1\u001b[1;33m \u001b[0mwork_y_general\u001b[0m\u001b[1;33m=\u001b[0m\u001b[0mwork_y_general\u001b[0m\u001b[1;33m.\u001b[0m\u001b[0mdrop\u001b[0m\u001b[1;33m(\u001b[0m\u001b[1;33m(\u001b[0m\u001b[1;34m'A7_o'\u001b[0m\u001b[1;33m)\u001b[0m\u001b[1;33m,\u001b[0m \u001b[0maxis\u001b[0m\u001b[1;33m=\u001b[0m\u001b[1;36m1\u001b[0m\u001b[1;33m)\u001b[0m\u001b[1;33m\u001b[0m\u001b[0m\n\u001b[0m\u001b[0;32m      2\u001b[0m \u001b[1;32mprint\u001b[0m \u001b[0mwork_y_general\u001b[0m\u001b[1;33m.\u001b[0m\u001b[0mcolumns\u001b[0m\u001b[1;33m\u001b[0m\u001b[0m\n",
      "\u001b[1;32mC:\\ProgramData\\Anaconda2\\lib\\site-packages\\pandas\\core\\frame.py\u001b[0m in \u001b[0;36mdrop\u001b[1;34m(self, labels, axis, index, columns, level, inplace, errors)\u001b[0m\n\u001b[0;32m   3695\u001b[0m                                            \u001b[0mindex\u001b[0m\u001b[1;33m=\u001b[0m\u001b[0mindex\u001b[0m\u001b[1;33m,\u001b[0m \u001b[0mcolumns\u001b[0m\u001b[1;33m=\u001b[0m\u001b[0mcolumns\u001b[0m\u001b[1;33m,\u001b[0m\u001b[1;33m\u001b[0m\u001b[0m\n\u001b[0;32m   3696\u001b[0m                                            \u001b[0mlevel\u001b[0m\u001b[1;33m=\u001b[0m\u001b[0mlevel\u001b[0m\u001b[1;33m,\u001b[0m \u001b[0minplace\u001b[0m\u001b[1;33m=\u001b[0m\u001b[0minplace\u001b[0m\u001b[1;33m,\u001b[0m\u001b[1;33m\u001b[0m\u001b[0m\n\u001b[1;32m-> 3697\u001b[1;33m                                            errors=errors)\n\u001b[0m\u001b[0;32m   3698\u001b[0m \u001b[1;33m\u001b[0m\u001b[0m\n\u001b[0;32m   3699\u001b[0m     @rewrite_axis_style_signature('mapper', [('copy', True),\n",
      "\u001b[1;32mC:\\ProgramData\\Anaconda2\\lib\\site-packages\\pandas\\core\\generic.py\u001b[0m in \u001b[0;36mdrop\u001b[1;34m(self, labels, axis, index, columns, level, inplace, errors)\u001b[0m\n\u001b[0;32m   3109\u001b[0m         \u001b[1;32mfor\u001b[0m \u001b[0maxis\u001b[0m\u001b[1;33m,\u001b[0m \u001b[0mlabels\u001b[0m \u001b[1;32min\u001b[0m \u001b[0maxes\u001b[0m\u001b[1;33m.\u001b[0m\u001b[0mitems\u001b[0m\u001b[1;33m(\u001b[0m\u001b[1;33m)\u001b[0m\u001b[1;33m:\u001b[0m\u001b[1;33m\u001b[0m\u001b[0m\n\u001b[0;32m   3110\u001b[0m             \u001b[1;32mif\u001b[0m \u001b[0mlabels\u001b[0m \u001b[1;32mis\u001b[0m \u001b[1;32mnot\u001b[0m \u001b[0mNone\u001b[0m\u001b[1;33m:\u001b[0m\u001b[1;33m\u001b[0m\u001b[0m\n\u001b[1;32m-> 3111\u001b[1;33m                 \u001b[0mobj\u001b[0m \u001b[1;33m=\u001b[0m \u001b[0mobj\u001b[0m\u001b[1;33m.\u001b[0m\u001b[0m_drop_axis\u001b[0m\u001b[1;33m(\u001b[0m\u001b[0mlabels\u001b[0m\u001b[1;33m,\u001b[0m \u001b[0maxis\u001b[0m\u001b[1;33m,\u001b[0m \u001b[0mlevel\u001b[0m\u001b[1;33m=\u001b[0m\u001b[0mlevel\u001b[0m\u001b[1;33m,\u001b[0m \u001b[0merrors\u001b[0m\u001b[1;33m=\u001b[0m\u001b[0merrors\u001b[0m\u001b[1;33m)\u001b[0m\u001b[1;33m\u001b[0m\u001b[0m\n\u001b[0m\u001b[0;32m   3112\u001b[0m \u001b[1;33m\u001b[0m\u001b[0m\n\u001b[0;32m   3113\u001b[0m         \u001b[1;32mif\u001b[0m \u001b[0minplace\u001b[0m\u001b[1;33m:\u001b[0m\u001b[1;33m\u001b[0m\u001b[0m\n",
      "\u001b[1;32mC:\\ProgramData\\Anaconda2\\lib\\site-packages\\pandas\\core\\generic.py\u001b[0m in \u001b[0;36m_drop_axis\u001b[1;34m(self, labels, axis, level, errors)\u001b[0m\n\u001b[0;32m   3141\u001b[0m                 \u001b[0mnew_axis\u001b[0m \u001b[1;33m=\u001b[0m \u001b[0maxis\u001b[0m\u001b[1;33m.\u001b[0m\u001b[0mdrop\u001b[0m\u001b[1;33m(\u001b[0m\u001b[0mlabels\u001b[0m\u001b[1;33m,\u001b[0m \u001b[0mlevel\u001b[0m\u001b[1;33m=\u001b[0m\u001b[0mlevel\u001b[0m\u001b[1;33m,\u001b[0m \u001b[0merrors\u001b[0m\u001b[1;33m=\u001b[0m\u001b[0merrors\u001b[0m\u001b[1;33m)\u001b[0m\u001b[1;33m\u001b[0m\u001b[0m\n\u001b[0;32m   3142\u001b[0m             \u001b[1;32melse\u001b[0m\u001b[1;33m:\u001b[0m\u001b[1;33m\u001b[0m\u001b[0m\n\u001b[1;32m-> 3143\u001b[1;33m                 \u001b[0mnew_axis\u001b[0m \u001b[1;33m=\u001b[0m \u001b[0maxis\u001b[0m\u001b[1;33m.\u001b[0m\u001b[0mdrop\u001b[0m\u001b[1;33m(\u001b[0m\u001b[0mlabels\u001b[0m\u001b[1;33m,\u001b[0m \u001b[0merrors\u001b[0m\u001b[1;33m=\u001b[0m\u001b[0merrors\u001b[0m\u001b[1;33m)\u001b[0m\u001b[1;33m\u001b[0m\u001b[0m\n\u001b[0m\u001b[0;32m   3144\u001b[0m             \u001b[0mresult\u001b[0m \u001b[1;33m=\u001b[0m \u001b[0mself\u001b[0m\u001b[1;33m.\u001b[0m\u001b[0mreindex\u001b[0m\u001b[1;33m(\u001b[0m\u001b[1;33m**\u001b[0m\u001b[1;33m{\u001b[0m\u001b[0maxis_name\u001b[0m\u001b[1;33m:\u001b[0m \u001b[0mnew_axis\u001b[0m\u001b[1;33m}\u001b[0m\u001b[1;33m)\u001b[0m\u001b[1;33m\u001b[0m\u001b[0m\n\u001b[0;32m   3145\u001b[0m \u001b[1;33m\u001b[0m\u001b[0m\n",
      "\u001b[1;32mC:\\ProgramData\\Anaconda2\\lib\\site-packages\\pandas\\core\\indexes\\base.py\u001b[0m in \u001b[0;36mdrop\u001b[1;34m(self, labels, errors)\u001b[0m\n\u001b[0;32m   4402\u001b[0m             \u001b[1;32mif\u001b[0m \u001b[0merrors\u001b[0m \u001b[1;33m!=\u001b[0m \u001b[1;34m'ignore'\u001b[0m\u001b[1;33m:\u001b[0m\u001b[1;33m\u001b[0m\u001b[0m\n\u001b[0;32m   4403\u001b[0m                 raise KeyError(\n\u001b[1;32m-> 4404\u001b[1;33m                     '{} not found in axis'.format(labels[mask]))\n\u001b[0m\u001b[0;32m   4405\u001b[0m             \u001b[0mindexer\u001b[0m \u001b[1;33m=\u001b[0m \u001b[0mindexer\u001b[0m\u001b[1;33m[\u001b[0m\u001b[1;33m~\u001b[0m\u001b[0mmask\u001b[0m\u001b[1;33m]\u001b[0m\u001b[1;33m\u001b[0m\u001b[0m\n\u001b[0;32m   4406\u001b[0m         \u001b[1;32mreturn\u001b[0m \u001b[0mself\u001b[0m\u001b[1;33m.\u001b[0m\u001b[0mdelete\u001b[0m\u001b[1;33m(\u001b[0m\u001b[0mindexer\u001b[0m\u001b[1;33m)\u001b[0m\u001b[1;33m\u001b[0m\u001b[0m\n",
      "\u001b[1;31mKeyError\u001b[0m: \"['A7_o'] not found in axis\""
     ]
    }
   ],
   "source": [
    "work_y_general=work_y_general.drop(('A7_o'), axis=1)\n"
   ]
  },
  {
   "cell_type": "code",
   "execution_count": 161,
   "metadata": {},
   "outputs": [
    {
     "name": "stdout",
     "output_type": "stream",
     "text": [
      "Index([u'A2', u'A3', u'A8', u'A11', u'A14', u'A15', u'A1', u'A9', u'A10',\n",
      "       u'A12', u'A4_l', u'A4_u', u'A4_y', u'A5_g', u'A5_gg', u'A5_p', u'A6_aa',\n",
      "       u'A6_c', u'A6_cc', u'A6_d', u'A6_e', u'A6_ff', u'A6_i', u'A6_j',\n",
      "       u'A6_k', u'A6_m', u'A6_q', u'A6_r', u'A6_w', u'A6_x', u'A7_bb',\n",
      "       u'A7_dd', u'A7_ff', u'A7_h', u'A7_j', u'A7_n', u'A7_v', u'A7_z',\n",
      "       u'A13_g', u'A13_p', u'A13_s'],\n",
      "      dtype='object')\n"
     ]
    }
   ],
   "source": [
    "print work_y_general.columns\n"
   ]
  },
  {
   "cell_type": "code",
   "execution_count": 162,
   "metadata": {},
   "outputs": [
    {
     "data": {
      "text/plain": [
       "(207, 41)"
      ]
     },
     "execution_count": 162,
     "metadata": {},
     "output_type": "execute_result"
    }
   ],
   "source": [
    "work_y_general.shape"
   ]
  },
  {
   "cell_type": "code",
   "execution_count": 163,
   "metadata": {},
   "outputs": [
    {
     "name": "stdout",
     "output_type": "stream",
     "text": [
      "[0. 0. 1. 0. 1. 0. 0. 0. 0. 0. 1. 0. 0. 0. 0. 0. 1. 0. 1. 1. 0. 0. 1. 1.\n",
      " 0. 0. 1. 0. 0. 1. 1. 0. 0. 1. 0. 0. 0. 0. 0. 0. 0. 1. 1. 1. 0. 1. 1. 0.\n",
      " 1. 0. 0. 1. 1. 1. 1. 0. 0. 0. 1. 1. 0. 0. 0. 0. 1. 1. 0. 0. 1. 0. 0. 0.\n",
      " 0. 1. 0. 1. 0. 0. 1. 1. 0. 1. 0. 0. 1. 1. 1. 1. 1. 1. 1. 0. 1. 0. 0. 1.\n",
      " 1. 1. 1. 0. 0. 1. 0. 1. 0. 0. 0. 0. 0. 1. 0. 1. 1. 0. 1. 1. 1. 1. 1. 0.\n",
      " 0. 0. 1. 1. 1. 0. 1. 0. 0. 1. 1. 1. 0. 0. 0. 1. 1. 1. 0. 0. 0. 1. 1. 0.\n",
      " 0. 0. 1. 1. 0. 1. 0. 0. 1. 1. 0. 0. 0. 0. 1. 1. 0. 0. 0. 0. 1. 1. 1. 1.\n",
      " 0. 1. 1. 0. 1. 0. 0. 0. 0. 0. 1. 1. 1. 0. 0. 1. 1. 0. 0. 0. 0. 0. 0. 0.\n",
      " 0. 1. 0. 0. 0. 1. 0. 0. 0. 1. 1. 1. 1. 0. 0.]\n"
     ]
    }
   ],
   "source": [
    "rf = ensemble.RandomForestClassifier(n_estimators=50, max_features= 'auto' , random_state=11)\n",
    "rf.fit(X, y)\n",
    "\n",
    "prediction = rf.predict(work_y_general)\n",
    "print prediction"
   ]
  },
  {
   "cell_type": "code",
   "execution_count": 166,
   "metadata": {},
   "outputs": [
    {
     "data": {
      "text/plain": [
       "numpy.ndarray"
      ]
     },
     "execution_count": 166,
     "metadata": {},
     "output_type": "execute_result"
    }
   ],
   "source": [
    "type(prediction)"
   ]
  },
  {
   "cell_type": "code",
   "execution_count": 165,
   "metadata": {},
   "outputs": [],
   "source": [
    "file_obj = open('output.txt', 'w')\n",
    "file_obj.write('fdhfg')\n",
    "file_obj.close()"
   ]
  },
  {
   "cell_type": "code",
   "execution_count": 167,
   "metadata": {},
   "outputs": [],
   "source": [
    "with open('test.txt', 'w') as f:\n",
    "    f.write(\"\\n\".join(map(str, prediction)))"
   ]
  },
  {
   "cell_type": "code",
   "execution_count": 168,
   "metadata": {},
   "outputs": [
    {
     "data": {
      "text/plain": [
       "numpy.float64"
      ]
     },
     "execution_count": 168,
     "metadata": {},
     "output_type": "execute_result"
    }
   ],
   "source": [
    "type(prediction[5])"
   ]
  },
  {
   "cell_type": "code",
   "execution_count": 172,
   "metadata": {},
   "outputs": [
    {
     "data": {
      "text/html": [
       "<div>\n",
       "<style scoped>\n",
       "    .dataframe tbody tr th:only-of-type {\n",
       "        vertical-align: middle;\n",
       "    }\n",
       "\n",
       "    .dataframe tbody tr th {\n",
       "        vertical-align: top;\n",
       "    }\n",
       "\n",
       "    .dataframe thead th {\n",
       "        text-align: right;\n",
       "    }\n",
       "</style>\n",
       "<table border=\"1\" class=\"dataframe\">\n",
       "  <thead>\n",
       "    <tr style=\"text-align: right;\">\n",
       "      <th></th>\n",
       "      <th>0</th>\n",
       "    </tr>\n",
       "  </thead>\n",
       "  <tbody>\n",
       "    <tr>\n",
       "      <th>0</th>\n",
       "      <td>0</td>\n",
       "    </tr>\n",
       "    <tr>\n",
       "      <th>1</th>\n",
       "      <td>0</td>\n",
       "    </tr>\n",
       "    <tr>\n",
       "      <th>2</th>\n",
       "      <td>1</td>\n",
       "    </tr>\n",
       "    <tr>\n",
       "      <th>3</th>\n",
       "      <td>0</td>\n",
       "    </tr>\n",
       "    <tr>\n",
       "      <th>4</th>\n",
       "      <td>1</td>\n",
       "    </tr>\n",
       "    <tr>\n",
       "      <th>5</th>\n",
       "      <td>0</td>\n",
       "    </tr>\n",
       "    <tr>\n",
       "      <th>6</th>\n",
       "      <td>0</td>\n",
       "    </tr>\n",
       "    <tr>\n",
       "      <th>7</th>\n",
       "      <td>0</td>\n",
       "    </tr>\n",
       "    <tr>\n",
       "      <th>8</th>\n",
       "      <td>0</td>\n",
       "    </tr>\n",
       "    <tr>\n",
       "      <th>9</th>\n",
       "      <td>0</td>\n",
       "    </tr>\n",
       "    <tr>\n",
       "      <th>10</th>\n",
       "      <td>1</td>\n",
       "    </tr>\n",
       "    <tr>\n",
       "      <th>11</th>\n",
       "      <td>0</td>\n",
       "    </tr>\n",
       "    <tr>\n",
       "      <th>12</th>\n",
       "      <td>0</td>\n",
       "    </tr>\n",
       "    <tr>\n",
       "      <th>13</th>\n",
       "      <td>0</td>\n",
       "    </tr>\n",
       "    <tr>\n",
       "      <th>14</th>\n",
       "      <td>0</td>\n",
       "    </tr>\n",
       "    <tr>\n",
       "      <th>15</th>\n",
       "      <td>0</td>\n",
       "    </tr>\n",
       "    <tr>\n",
       "      <th>16</th>\n",
       "      <td>1</td>\n",
       "    </tr>\n",
       "    <tr>\n",
       "      <th>17</th>\n",
       "      <td>0</td>\n",
       "    </tr>\n",
       "    <tr>\n",
       "      <th>18</th>\n",
       "      <td>1</td>\n",
       "    </tr>\n",
       "    <tr>\n",
       "      <th>19</th>\n",
       "      <td>1</td>\n",
       "    </tr>\n",
       "    <tr>\n",
       "      <th>20</th>\n",
       "      <td>0</td>\n",
       "    </tr>\n",
       "    <tr>\n",
       "      <th>21</th>\n",
       "      <td>0</td>\n",
       "    </tr>\n",
       "    <tr>\n",
       "      <th>22</th>\n",
       "      <td>1</td>\n",
       "    </tr>\n",
       "    <tr>\n",
       "      <th>23</th>\n",
       "      <td>1</td>\n",
       "    </tr>\n",
       "    <tr>\n",
       "      <th>24</th>\n",
       "      <td>0</td>\n",
       "    </tr>\n",
       "    <tr>\n",
       "      <th>25</th>\n",
       "      <td>0</td>\n",
       "    </tr>\n",
       "    <tr>\n",
       "      <th>26</th>\n",
       "      <td>1</td>\n",
       "    </tr>\n",
       "    <tr>\n",
       "      <th>27</th>\n",
       "      <td>0</td>\n",
       "    </tr>\n",
       "    <tr>\n",
       "      <th>28</th>\n",
       "      <td>0</td>\n",
       "    </tr>\n",
       "    <tr>\n",
       "      <th>29</th>\n",
       "      <td>1</td>\n",
       "    </tr>\n",
       "    <tr>\n",
       "      <th>...</th>\n",
       "      <td>...</td>\n",
       "    </tr>\n",
       "    <tr>\n",
       "      <th>177</th>\n",
       "      <td>0</td>\n",
       "    </tr>\n",
       "    <tr>\n",
       "      <th>178</th>\n",
       "      <td>1</td>\n",
       "    </tr>\n",
       "    <tr>\n",
       "      <th>179</th>\n",
       "      <td>1</td>\n",
       "    </tr>\n",
       "    <tr>\n",
       "      <th>180</th>\n",
       "      <td>1</td>\n",
       "    </tr>\n",
       "    <tr>\n",
       "      <th>181</th>\n",
       "      <td>0</td>\n",
       "    </tr>\n",
       "    <tr>\n",
       "      <th>182</th>\n",
       "      <td>0</td>\n",
       "    </tr>\n",
       "    <tr>\n",
       "      <th>183</th>\n",
       "      <td>1</td>\n",
       "    </tr>\n",
       "    <tr>\n",
       "      <th>184</th>\n",
       "      <td>1</td>\n",
       "    </tr>\n",
       "    <tr>\n",
       "      <th>185</th>\n",
       "      <td>0</td>\n",
       "    </tr>\n",
       "    <tr>\n",
       "      <th>186</th>\n",
       "      <td>0</td>\n",
       "    </tr>\n",
       "    <tr>\n",
       "      <th>187</th>\n",
       "      <td>0</td>\n",
       "    </tr>\n",
       "    <tr>\n",
       "      <th>188</th>\n",
       "      <td>0</td>\n",
       "    </tr>\n",
       "    <tr>\n",
       "      <th>189</th>\n",
       "      <td>0</td>\n",
       "    </tr>\n",
       "    <tr>\n",
       "      <th>190</th>\n",
       "      <td>0</td>\n",
       "    </tr>\n",
       "    <tr>\n",
       "      <th>191</th>\n",
       "      <td>0</td>\n",
       "    </tr>\n",
       "    <tr>\n",
       "      <th>192</th>\n",
       "      <td>0</td>\n",
       "    </tr>\n",
       "    <tr>\n",
       "      <th>193</th>\n",
       "      <td>1</td>\n",
       "    </tr>\n",
       "    <tr>\n",
       "      <th>194</th>\n",
       "      <td>0</td>\n",
       "    </tr>\n",
       "    <tr>\n",
       "      <th>195</th>\n",
       "      <td>0</td>\n",
       "    </tr>\n",
       "    <tr>\n",
       "      <th>196</th>\n",
       "      <td>0</td>\n",
       "    </tr>\n",
       "    <tr>\n",
       "      <th>197</th>\n",
       "      <td>1</td>\n",
       "    </tr>\n",
       "    <tr>\n",
       "      <th>198</th>\n",
       "      <td>0</td>\n",
       "    </tr>\n",
       "    <tr>\n",
       "      <th>199</th>\n",
       "      <td>0</td>\n",
       "    </tr>\n",
       "    <tr>\n",
       "      <th>200</th>\n",
       "      <td>0</td>\n",
       "    </tr>\n",
       "    <tr>\n",
       "      <th>201</th>\n",
       "      <td>1</td>\n",
       "    </tr>\n",
       "    <tr>\n",
       "      <th>202</th>\n",
       "      <td>1</td>\n",
       "    </tr>\n",
       "    <tr>\n",
       "      <th>203</th>\n",
       "      <td>1</td>\n",
       "    </tr>\n",
       "    <tr>\n",
       "      <th>204</th>\n",
       "      <td>1</td>\n",
       "    </tr>\n",
       "    <tr>\n",
       "      <th>205</th>\n",
       "      <td>0</td>\n",
       "    </tr>\n",
       "    <tr>\n",
       "      <th>206</th>\n",
       "      <td>0</td>\n",
       "    </tr>\n",
       "  </tbody>\n",
       "</table>\n",
       "<p>207 rows × 1 columns</p>\n",
       "</div>"
      ],
      "text/plain": [
       "     0\n",
       "0    0\n",
       "1    0\n",
       "2    1\n",
       "3    0\n",
       "4    1\n",
       "5    0\n",
       "6    0\n",
       "7    0\n",
       "8    0\n",
       "9    0\n",
       "10   1\n",
       "11   0\n",
       "12   0\n",
       "13   0\n",
       "14   0\n",
       "15   0\n",
       "16   1\n",
       "17   0\n",
       "18   1\n",
       "19   1\n",
       "20   0\n",
       "21   0\n",
       "22   1\n",
       "23   1\n",
       "24   0\n",
       "25   0\n",
       "26   1\n",
       "27   0\n",
       "28   0\n",
       "29   1\n",
       "..  ..\n",
       "177  0\n",
       "178  1\n",
       "179  1\n",
       "180  1\n",
       "181  0\n",
       "182  0\n",
       "183  1\n",
       "184  1\n",
       "185  0\n",
       "186  0\n",
       "187  0\n",
       "188  0\n",
       "189  0\n",
       "190  0\n",
       "191  0\n",
       "192  0\n",
       "193  1\n",
       "194  0\n",
       "195  0\n",
       "196  0\n",
       "197  1\n",
       "198  0\n",
       "199  0\n",
       "200  0\n",
       "201  1\n",
       "202  1\n",
       "203  1\n",
       "204  1\n",
       "205  0\n",
       "206  0\n",
       "\n",
       "[207 rows x 1 columns]"
      ]
     },
     "execution_count": 172,
     "metadata": {},
     "output_type": "execute_result"
    }
   ],
   "source": [
    "prediction"
   ]
  },
  {
   "cell_type": "code",
   "execution_count": 179,
   "metadata": {},
   "outputs": [
    {
     "data": {
      "text/plain": [
       "pandas.core.frame.DataFrame"
      ]
     },
     "execution_count": 179,
     "metadata": {},
     "output_type": "execute_result"
    }
   ],
   "source": [
    "type(prediction)"
   ]
  },
  {
   "cell_type": "code",
   "execution_count": 181,
   "metadata": {},
   "outputs": [],
   "source": [
    "np.savetxt('test.txt', prediction.values, fmt='%d')"
   ]
  }
 ],
 "metadata": {
  "kernelspec": {
   "display_name": "Python 2",
   "language": "python",
   "name": "python2"
  },
  "language_info": {
   "codemirror_mode": {
    "name": "ipython",
    "version": 2
   },
   "file_extension": ".py",
   "mimetype": "text/x-python",
   "name": "python",
   "nbconvert_exporter": "python",
   "pygments_lexer": "ipython2",
   "version": "2.7.15"
  }
 },
 "nbformat": 4,
 "nbformat_minor": 2
}
